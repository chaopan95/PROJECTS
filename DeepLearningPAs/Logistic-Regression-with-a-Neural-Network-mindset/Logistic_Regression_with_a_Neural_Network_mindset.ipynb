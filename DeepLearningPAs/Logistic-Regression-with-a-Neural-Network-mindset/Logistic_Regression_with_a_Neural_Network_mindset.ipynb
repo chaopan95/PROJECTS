{
 "cells": [
  {
   "cell_type": "markdown",
   "metadata": {},
   "source": [
    "# Logistic Regression with a Neural Network mindset\n",
    "\n",
    "Welcome to your first (required) programming assignment! You will build a logistic regression classifier to recognize  cats. This assignment will step you through how to do this with a Neural Network mindset, and so will also hone your intuitions about deep learning.\n",
    "\n",
    "**Instructions:**\n",
    "- Do not use loops (for/while) in your code, unless the instructions explicitly ask you to do so.\n",
    "\n",
    "**You will learn to:**\n",
    "- Build the general architecture of a learning algorithm, including:\n",
    "    - Initializing parameters\n",
    "    - Calculating the cost function and its gradient\n",
    "    - Using an optimization algorithm (gradient descent) \n",
    "- Gather all three functions above into a main model function, in the right order."
   ]
  },
  {
   "cell_type": "markdown",
   "metadata": {},
   "source": [
    "## <font color='darkblue'>Updates</font>\n",
    "This notebook has been updated over the past few months.  The prior version was named \"v5\", and the current versionis now named '6a'\n",
    "\n",
    "#### If you were working on a previous version:\n",
    "* You can find your prior work by looking in the file directory for the older files (named by version name).\n",
    "* To view the file directory, click on the \"Coursera\" icon in the top left corner of this notebook.\n",
    "* Please copy your work from the older versions to the new version, in order to submit your work for grading.\n",
    "\n",
    "#### List of Updates\n",
    "* Forward propagation formula, indexing now starts at 1 instead of 0.\n",
    "* Optimization function comment now says \"print cost every 100 training iterations\" instead of \"examples\".\n",
    "* Fixed grammar in the comments.\n",
    "* Y_prediction_test variable name is used consistently.\n",
    "* Plot's axis label now says \"iterations (hundred)\" instead of \"iterations\".\n",
    "* When testing the model, the test image is normalized by dividing by 255."
   ]
  },
  {
   "cell_type": "markdown",
   "metadata": {},
   "source": [
    "## 1 - Packages ##\n",
    "\n",
    "First, let's run the cell below to import all the packages that you will need during this assignment. \n",
    "- [numpy](www.numpy.org) is the fundamental package for scientific computing with Python.\n",
    "- [h5py](http://www.h5py.org) is a common package to interact with a dataset that is stored on an H5 file.\n",
    "- [matplotlib](http://matplotlib.org) is a famous library to plot graphs in Python.\n",
    "- [PIL](http://www.pythonware.com/products/pil/) and [scipy](https://www.scipy.org/) are used here to test your model with your own picture at the end."
   ]
  },
  {
   "cell_type": "code",
   "execution_count": 2,
   "metadata": {
    "collapsed": true
   },
   "outputs": [],
   "source": [
    "import numpy as np\n",
    "import matplotlib.pyplot as plt\n",
    "import h5py\n",
    "import scipy\n",
    "from PIL import Image\n",
    "from scipy import ndimage\n",
    "from lr_utils import load_dataset\n",
    "\n",
    "%matplotlib inline"
   ]
  },
  {
   "cell_type": "markdown",
   "metadata": {},
   "source": [
    "## 2 - Overview of the Problem set ##\n",
    "\n",
    "**Problem Statement**: You are given a dataset (\"data.h5\") containing:\n",
    "    - a training set of m_train images labeled as cat (y=1) or non-cat (y=0)\n",
    "    - a test set of m_test images labeled as cat or non-cat\n",
    "    - each image is of shape (num_px, num_px, 3) where 3 is for the 3 channels (RGB). Thus, each image is square (height = num_px) and (width = num_px).\n",
    "\n",
    "You will build a simple image-recognition algorithm that can correctly classify pictures as cat or non-cat.\n",
    "\n",
    "Let's get more familiar with the dataset. Load the data by running the following code."
   ]
  },
  {
   "cell_type": "code",
   "execution_count": 3,
   "metadata": {
    "collapsed": true
   },
   "outputs": [],
   "source": [
    "# Loading the data (cat/non-cat)\n",
    "train_set_x_orig, train_set_y, test_set_x_orig, test_set_y, classes = load_dataset()"
   ]
  },
  {
   "cell_type": "code",
   "execution_count": 4,
   "metadata": {},
   "outputs": [
    {
     "output_type": "execute_result",
     "data": {
      "text/plain": "(64, 64, 3)"
     },
     "metadata": {},
     "execution_count": 4
    }
   ],
   "source": [
    "train_set_x_orig[0].shape"
   ]
  },
  {
   "cell_type": "markdown",
   "metadata": {},
   "source": [
    "We added \"_orig\" at the end of image datasets (train and test) because we are going to preprocess them. After preprocessing, we will end up with train_set_x and test_set_x (the labels train_set_y and test_set_y don't need any preprocessing).\n",
    "\n",
    "Each line of your train_set_x_orig and test_set_x_orig is an array representing an image. You can visualize an example by running the following code. Feel free also to change the `index` value and re-run to see other images. "
   ]
  },
  {
   "cell_type": "code",
   "execution_count": 5,
   "metadata": {
    "tags": []
   },
   "outputs": [
    {
     "output_type": "stream",
     "name": "stdout",
     "text": "y = [1], it's a 'cat' picture.\n"
    },
    {
     "output_type": "display_data",
     "data": {
      "text/plain": "<Figure size 432x288 with 1 Axes>",
      "image/svg+xml": "<?xml version=\"1.0\" encoding=\"utf-8\" standalone=\"no\"?>\n<!DOCTYPE svg PUBLIC \"-//W3C//DTD SVG 1.1//EN\"\n  \"http://www.w3.org/Graphics/SVG/1.1/DTD/svg11.dtd\">\n<!-- Created with matplotlib (https://matplotlib.org/) -->\n<svg height=\"250.618594pt\" version=\"1.1\" viewBox=\"0 0 251.565 250.618594\" width=\"251.565pt\" xmlns=\"http://www.w3.org/2000/svg\" xmlns:xlink=\"http://www.w3.org/1999/xlink\">\n <defs>\n  <style type=\"text/css\">\n*{stroke-linecap:butt;stroke-linejoin:round;}\n  </style>\n </defs>\n <g id=\"figure_1\">\n  <g id=\"patch_1\">\n   <path d=\"M 0 250.618594 \nL 251.565 250.618594 \nL 251.565 0 \nL 0 0 \nz\n\" style=\"fill:none;\"/>\n  </g>\n  <g id=\"axes_1\">\n   <g id=\"patch_2\">\n    <path d=\"M 26.925 226.740469 \nL 244.365 226.740469 \nL 244.365 9.300469 \nL 26.925 9.300469 \nz\n\" style=\"fill:#ffffff;\"/>\n   </g>\n   <g clip-path=\"url(#p76cd144fc0)\">\n    <image height=\"218\" id=\"imagea53f768cba\" transform=\"scale(1 -1)translate(0 -218)\" width=\"218\" x=\"26.925\" xlink:href=\"data:image/png;base64,\niVBORw0KGgoAAAANSUhEUgAAANoAAADaCAYAAADAHVzbAAAABHNCSVQICAgIfAhkiAAAIABJREFUeJztfUmPLNl13o0px8qsuerN7/VIsrs5mbQIEYahAbABA1rYG+/sf+EfYcD2xoC0sQz/AS+8sGAINgEJpgVZpJsim93s8Y31ql5VZVXOQ0xeNBXn+05WBKsfmyEuzre6WffmzZsReSvOOfc73/H6u/3c/RLNTtchOq2WvPB86vM9r2g3wqb83edxQRAW7ajZoL54tSzaoS/jGlHE45JV0Z7PJ2od8L6mrCN3jCTJZI7pkPrGo/OivVwuqS/N5H2+HxTtIOTvslrKGheLFfVlqcyxtrDfQviBf2XbOefgtjsP7lPQPaBx7b3Xivb2ja9Q39bBg6LdbHaKdpqlNG42mxXt1fSC+hajk6I9PX9IffPBRzLn9Ew69LWH75LDfXbOubzkPuW5R69TuLd5xm/C13wVDQbDbwS20QyGGhD6YBJ6qjPDR6HHj9YMBofQDoKAxuFWjldsUqH56QfS1nN4vpiwScJzePABOTzvU16u88BuyNKE+jIwGzyPrwKaEGmSwLiQxkWRmJLLOa8RTRacP9f2iXdlc20dVaic/5pAkydX9935sDK4HsliRMOSxbhop6uF6hPzH+/LasVm+3Iqc86HR9S3uHwK7YfUl87AzKy6BHR91q74lVPkuTYx8yvbGvZEMxhqgG00g6EG2EYzGGpASGH7rDz+6Qcccve8HEZJW/tXIW5lZQancQxt8JNafMzQgBDzcsm+UQJ+Qh5LeDj3eB1JLH5CmrAvkIDPps1sjPpmKfh5OfthrVa7aIcRh/7TlH2UMgRwNOKpYxI8IvDhGjca6igErmm8Yl+UvQ25GZ5fHpbWPwkaihdH+2Fz8dGWMw7Nz8dyDLOEcSvw65xzbjGW0Pxi+IT6ViPx2dLZpVq//t6fo9wLu8qVA18Xr0dFCL/KH7QnmsFQA2yjGQw1INThSkQQilnSbDSpr8xcDFR4HE07X4eKMXQO60hV+D1NZU5tlqGpFESyxjBkk2oB5luWxtQXgJmZKvvCB1sJ2SV5wiyGBMzWra1t6js5Ppb3gW2qjxJaHTE/m8jKcWw6Ht68LZ+r2BSnx8/lPRmbYnkJy0Utw8UZ3jPu1MwfWR9f03Qu5uJy/Jz6/FzG4vWI1RHBavqiaCeTM+rLVlN5oex9XDP1rJl2aPYpk5C6IISvbekKcxHvrz3RDIYaYBvNYKgBttEMhhoQhqGEy9fsb7D/V4sZdXng14QR0KBUaLURia+BDPfPJ8GFgO+l/MYQfC/PcV8Aof82+Di+mmO0EJt+qdaBc6TqfY2GrCsGPyxLeBzSh7Z3FZO9LQz1BVzHsMFHFeij4Xucc85DPxg4b60GH4Vk+/LZUYP92elYshbIN1qyf4W+hc64QOclTeE4RfmK+VJoVun4mPomM8mWQH+c/C7nXB7DazU/MsF0ZglR6nC+CodKs/JxDgzpV7HaPP3YgintiWYw1ADbaAZDDQiZZaDMBGQw+8y0wPAwmiFrJ+d5euW4z1/L43kBCZ2RSvwMgJUSJ2zm4DrSWEzCRB0RrOAYYJVo5oD8vwlC/p645BCu1SJmUyYCs3syYqbC9t5e0T49fnblfM4512mLGdjf2qG+AK5JCKZuqBJQd3ZlnL6fAdhbF4MB9LDZFIQVGR0l91qfEjVgjlyF7ZfAIkETTZufZB6qlaTXzKCl0wn1ZXDN2iTM85LQv064gEeVPq7BPnuiGQw1wDaawVADwrwkQqMRqIgkPiUjYGGE2vTCD1NsjSlod2ACqn6Oe9CnzU8Pic/wf2OqoqTIINGP+DgWUzJV8wegZdLtbsi4hM0hjMDN5xw92+j3inZ/s1+0F4qIu1rOYT42kZtNuXbpSsY1FakYE2E34bM+X5dck2Ao5q2v9WDgXmdKSwP78kzW2FCMHTT/Z1MVTYRfBSbT+r5iFensXYC+h2V9FcPoZ6a/Z14SadSRRf4sr7TPnmgGQw2wjWYw1ADbaAZDDQj9iqPuCFkjAbMYMgrFgi2qRGtwJ2c+h28xPIynB+sMcbTp2XfBOTwn7IzFjPUfE3hfopj3eAVSFbbPIMG1AQyV/uYmjRsNwd9U1wr9kF5f/CZvzNd+tZI1np+dUt8kgmMYCJ3PJqxR6YCxs1zxtUrAT0XWiD6SQackj5UoEzBiULOz32d/cDKVzIEwYr99BSJN6JdVidusHw2Vjy3zm6rn13+AOWhy9Vm++WgGw28NbKMZDDUgnC0lxOxrRgaG49eSNpmueeWfHTMJlkq3D8P9mEiqmSGoT6LNnDboi+S5mGixGoeh4jVZZzCDdagbGSbDkZhp/f4Wjbt1+yYumNcIUuttJAQr4vAUzN1mk8nCqOsRwzHAfDqncUGIGpiKHQPXH82abm+Dxy3kN6G1OFECe/9QvnMS87gGHEfEqg/vJ9piWm+GSMsVpuNaqJ/C9lXKIGhWqi6H88M7KszDqiMHe6IZDDXANprBUANsoxkMNSBEG1bb0mgj+75KUmyieAyHxBFotoYRz4E+Q4BHCSGPy3Ngkyu2egiiQasFhvDZP0EaV6RoS/lKFol0LL1+tMFn6vgAfZL9/RvUtwLKVOrJ+ncPOEG0D9ejCTqRzjn37MlnV67RUz7l4Y1b8kL5POenIpKTwhyBui+BL2tcqSOCrZ74pp2uUMsmIxbPQeDvSK8Zk27X6V7oQ1VRrvg1HRuV6+8oP09PivNfL4SvgfPbE81gqAG20QyGGhBy6FyZgPBY1AmRaAaipqHv8fM5huODtcQ+eK5jaDdXpsYCTC+d6IhrnEyEUa/NYJL95hlcuy1mcKulmP1ggmLipLK2nA8JrqE6nmiARuMGZABos2NrU0xJXYFyA/REggyTWPnIxPflfXuHd6iv25HjhOPnIrG9f3BLjROT8MXpC+rDBNrTo8dFW2cbYJXWhtIExYRfNvF11gaabOV9WpuUswDKmSFl2o1VuK6pqF/bE81gqAG20QyGGhBiuZBEmWxI4M0zNtnmwE7ApFBMLnTOuRUUX0/XqnUK2u1uSY9zqxjNEB2RxMd1eekaJAjEKpKWQUSrp8ixPSASZ7COXMuKY/Qs4YTOMBRzEfU+kpRNDZTV67ZZEnw13S/aj4FI3O0wqwMjgRsdZp7kYD63gFEzvhzQuBDlwpW5f/z0k6IdAak4U/+zN4ANg+amc86tVli9p1zKDc1FnRRKd11FXmnOsjc559AazbJyk5Deo35XVRU/zXQ0GGqGbTSDoQbYRjMYakBImowq6XEO7Acd1WyDbxA0xJ8IdGIcSk+rSRbgz2GE1lMakiHoOuqyOagRiMmdmmVACaIqsRTltz1lyC9AaCcB5kZLfVEUwmmo6qgBzDmCDIC9/ds07g6w4V3Ofs0YjgiCCKqLqmOXHSgZhUcJn88p6zg8EPaKFs/Z2Tss2q0G+3njofhzo4kkd8aKiTOby33RIXH2ZSA5skIAqup+VqEsU+CXKyldYykq/DDz0QyGv2fYRjMYakCIj8JMVYJZziGEr8yhNrAHUNdRV+wIW1AFRWn/4Yk+Jl9qMwFNSdTtcM65FJI90XR0Af8P6fTEtNPVS1ttqEKjzAs09Xpd+Z47SjNxc3u3aA8uWccjgPB2f1NMu201h+/JNfiLv/yf1OeBFku7JdcxUATsGWh1HB6yaRqTRDiY9Ipd8vzZw6K9sdGjvkYAmiEOK4jy9UbSuV5jBvcdC9qvVJIpkqevqxFSheph1zNF9bAq0xELH9kTzWCoAbbRDIYaYBvNYKgBIemKKyMW7W6d+In6gUiRaip2fQQahL5KqiQlH7DbM2Xr0qqUL7CYin9BEoQB+2F9EKDRIjBxLHOs1BFHiBqNWKoq4sTMzBefJIqUYA5c1+1tSZzc3mIf7eOP3y/a0wlT2e7ff7VoN8DnuRiyP/j+e+8V7U0lINSAY5izY2HvL9V9uXXnftGeT5U+JtyzTk+0LXvbfE3n4CvOZnx8sJzL9V6CX5ZWaO1XYd1/u9rfunYIv2KsPl4iH61i+fZEMxhqgG00g6EGkD24drINRluW67I2YmJ5uYS918wyCLmnKmzfgBAwsrM1MyQIyzUfm00xEVvAhGiqRME2yFKfnbO+BeoYatMAjz+QaeGrNeJnz6aqpBOEz0kNU2UAYKXQb3/z29R3686Doh1DSaqDBYfE8fpcDs6p742vvFW0m3DUojU98N62lb7KJhyTnIJs+XSm9GYSDNvz8QFmdOD19jWD5CVD7hTHR9dojXmPbfXb1zqmJZ+Vl+ibatgTzWCoAbbRDIYaYBvNYKgBIZqzOryKGdarJWcNky5gW/ZrmnKoeAHvCwOlyQi0rggyp9fC+7BIPf8c7P8E6FirBYfY52P5Lr4Wc4G2LnW0sSG+1/auMN43tliTsQEZy5tbu9wHSj498HGmKnSOvulbb71DfW+++XbRPjp6WrQDlXncAnrWZ599yOsAWlofvtfoggV4Ls7kdbfH5alabdT2l2s1mXAIvw20tm6H6wikUDYrwaMFrZlIRznlwjraNULKF9Z3SFWGAVK8slRnB7grcd2jBA17ohkMNcA2msFQA0Jkf6xVpsfwvgoBryDhMo7FnMhzZpBglF2zuFH/kHUd+RGPj/yoxYmIza6YJRMQrclWPAeWFWo2WfgmiKCEUciMj25fTKeDO8LO2IIES+eca8K6tKkUQZLocCBmWabMjtHoomg31DFGCAybNgjwHO6zmXoCOozD4QX1jSFR0wOmTxTx9cCji1wJ38SpfJdmW8zgTsLfBWXXvZx/O92ufN4SQv2xYuVgNU3f4+OUKpYHJoXi7zRX5iGG+xtN/m2iVim6VBXVndaAl86eaAZDDbCNZjDUgJBMtipmSFZuOmLSZpApVgfM76vn7AqiVkRgVsXWkaesK1BmwK5oNcXs22iz+bZaSlRM6zo2mvLZm5tsinU2xHT0wLTuKsIuJoxGSk9xOROTLYH/bXmmdEEmEoX8+XvvUh9qQGL10smIzcP34X1oljnn3MWF6H10+jtF+1aTzWW0ArU2x2gorJcU1t/tqSRWrPIz5+hqryf313Ni7uc5r5esQ13UM0MSejmbF/N/tRnMSZs8B0bB8yXom2pTEd+m9XLgtT3RDIYaYBvNYKgBttEMhhoQhiHqpysfDZnVKuESfbYlsDDyUFXMxBCnsmFR7zB34ohpgRw83Z/OmYGArIYERHAOb96lcb1eD8axn4eloPQRRwq+aGNzT8Yl7LMGERyTqPU3QQOzCxUzP/2Q/bDZTFj5jx99Qn2HN+/JesGnOvnoEY379FNhg+ijEEz8bIC40nZ0k8bFsP6L81Pq2wC9xgSu1fn5CY0bnxzJetWxTqeJ2v7we1FxAHJ//PJnwpr2fmni5xrNXz5LuXmY0YBHCf4ay58yp9W64H1XrshgMHypsI1mMNSAMPfKEy6xxFCoNBkxURPNyEQXDYVyODrxM0ITC9ggfqCYGxAqnqpQMYb7O20x0VYL1txoQ8i9o6Syd/ak4uVSzX/0TLQ1FnMJbY8u2Bzq9oUp0u0oPREwj1Bf5eTkmMZFYGJ11DFDa0PC5xvQd/TsKY0bjmSNW8rcaoKseKMFpaQUC6W/IeZt2OBjkiCS67iCm61ZHdMxyMmrdazgqCKAsLpSN3cJ/lzKrb5fofmI49Z6Kz4gv3LYFykWj7AnmsFQA2yjGQw1wDaawVADwhz2WqBs6QB8Nj/QbHJkf4sPpUugIktc+4CY4JmCyEnka6a2tKcTFr6JIbG0BQmXLeV3NGAdvQ7ryXdB4Gd6yeHsGWQEDC9E1Ofm3dd5jq74UL4rT6DtQMhdewUdOAbY32Pd/OUSwuBAu8K6B845twHZDMMx+5vnUBOguZD5mg32v7dCuR5NVesAGe8HB+Lb7u9zImyaii86mVxSH2rsYy6mvmcZCHVq/76KNV/ms+k/U8kyrdcIr6v0Gq8Le6IZDDXANprBUAOIvV/1ONbMENRkDMG8QJPBOXU6rmXFfSzpFMGf2XREvRKUmnaOtR7QaG0qRjpWsez3FPMe1h+oCpd4tIDS1pMJs+aTWNgxvsdzLJay5uGZhPS7SjMRdR7HYza3AiBexKCTojUZA8h8aERs8+ARzehSzOD9G3doXEqMD9YTWS3l2KTVgdJM6t6++upXivbZyWPqW8KxwAVoT0YeZzMEEZifUz6u0QyeMuSUiaD6sry875qSkteFPdEMhhpgG81gqAEhsgJ0cic9P3XiXdmzVf0Zd3KwJvWN5gZUj1yThhZoUwlZF1g4PmpyFKwDcnCJshM2W2IeHt5kM+ro6CEuGHp4jc+efFa0z559TH0NT9Z4eSEm53zGZjCafRdnzBrBaG4CJuZI6YJgImy/yybs0WMhHM+m5cyNBJTiz095Hc6BfksobBgv5Gu6syMR4CRRUoWoSQLfazkZ0LgAdFKw+Lxz1aYjdnG1F/5x4ssv21TUsCeawVADbKMZDDXANprBUANC9DXCtaqeqOuo2A6YGIcTKpY/CqfoxFIHc6SJhHJ1omAKjPc8K9f+w6OKVpv9Ewdsh4bSdcx99FNZIObufQlTowz4YsKVNpFV01As9IOeXJNXbskcRy84WTKFxNWZOj4IYM3IzhhfcGkmTKQcXXLfCkL1yGQZXrJvtABNzMGAS1yl5MzId75xcIPGzYANsrnBTJwA/OU5MH3mY14HMuM1Sx7LJa2JSpUwPjTD4zftlyHsiWYw1ADbaAZDDQhXS2E0tJqKFUFEYl1EHfUg4e/K7KMHfs6P/xhMpdVK1qHJx8iE6G1wImKeyesboBOyCfoevxwoTXVEsISKn/0tZo2EkI3YgYTOeM7m0M6mvK8ZqkTHmZiBewc7MI6/5wz0JnWB9cwTE67VknVo/ZPZUl7Pl9zXbeMxhhSExyRQ55x79lyYHLqQfAdYNds7wrbZ3D2kcf1tuf7PH7P+yeWZfJcMkkDjJTND8KfUbDHTZwlsm3VCMLSvGcKvSuCsSiytGueZZojBUC9soxkMNcA2msFQA8IYNBlDldzpgR/maVFGsD9jSGxsqETBBiRVroVhUT8d/Cad3Ikh/fmcWdyot4/CN7n6H7K7L9qFDcXsX0wlFB0qW30PqERfff2Not1VIWt0DM5A09A55+KFzHE5ksRSnSSbIptcuQVL8Gex1kGsqljOwM/R1Krb96Ts1Ne/+31Zh6rEOgdho1XOc7SgFgFS9uYLpkhFIOzU0yWuQGgIxT5Pj9m/X0KmgP6e6Jdp5iCi0r0ibX+dFXo90Z0q4O/dnmgGQw2wjWYw1IAwgUfyQmsmginWULoSDdCq8CLUBVF7l07py7MD0IpaLDi0TYyJKReB34Aw/iGwE/b2manQAIa+zg4IfCjHxF/THd4W7Y533pI5b9/ikPjTIwlZ/9WLD6jv7EzMxafPJNTtOc0mR1NDyYqDnHeWyHHHQpWxikEfc6fP2pC3bz8o2nsQmtdm0z/+vX9atMPuDvWdXYqZPUNWhzqOGII53lIJrl6OjCNZb6JEQfH4Z6lKbRHjo06Kx0vCnmgGQw2wjWYw1IAQycGZihx5npgoWapkx8DW63gSgYtTfsTHoCGiA5cow4bsjJkyYdHCipQkWeBBZcYcTViOYPX7YuqdPOdkxg2IjG60+Xt++2vClvnk8Y+K9v/7W46M/ut/+e2ifTPiCNl//PdiLl6eioR3kjDLFUnRTVWx9NYdYXJcXogpeq5IxXg/GxFfgx5E+/wcXIaY79m9B6/IOjrMlJlBNZ/BqUQFJ0rjpAXVdRaKoTKDyHEDKmt2lVT7bCrE7UD9ePBlRdCxGl+yxblOfLaoo8FQK2yjGQw1wDaawVADQg6/q17oW2RKYAVCsRn4Wjo0j+H+ZpP9H2TlL8Fuj2PN4hbfJQo5/t5qyuuoI37NSvmK5xfi9x0qHcN+U2zrB3f4e56f/axo/7s/FR9tseQE0SCR730ze0J9zx6KWM9sAkcVynfB8qit7iZ1IbNlMYcKq+oYwIM58hWzaPKZ+HOHHRETevM7b9O4+298vWg/esK+6GIiRxxdKAP16ClrN06HcAwQc5JsE/QgEzit6XaZbXMBRxrJko91wkh+EyjQ5NzLJXTma0yQLz7JWqVRmNKeaAZDDbCNZjDUAI7/qicfMhXyRLEYUjGd8ERfh/BR3ttXlU8yYKWkVPFTP8ZBLlwlhbbBfGlCpZaWShT0gEnQafD8bdAkfOM2mzn/4T//uGhfnIumhZezafon/+UHRXt3zjLaS9DgiD35Lklarn8SKiYORo5ReyVWbAq8S17Ga7w8FXPxd//hftF+8M1bNO5//ODPYBK+72+/JRoq3i/kuxBR2Dn34QdicitesvNyWfNsASa4ureNNiS4rthUzzIkT/P8eVWl0FKUD6Rret3p1PvsiWYw1ADbaAZDDbCNZjDUACXkqBIz8fVatURpZyiq4mmqjNjjuafC2SXa/pFaVqsvvpeucBlCmaUQjPV4yccMK/AFZi3+Mtvb8uFnv3iX+j5+/6EsMYVEWBVSnk1FozFUjiomoY5ncKShKFhN8B2TNf1K+Ww8/tB1BJD2o9nwnz5+VrT/5I//b9F+5Rt8Pf70z4Qm1umyr/tv/43cm4MdyWzwAqZP7e2JfmWsmPeYaIviP7ESGvJg/aGiky3hfq5V5LymX1ble13XtcM9slZRFPrsiWYw1ADbaAZDDQiRcbwm2Z2XPxYJaC6q53hWpb2AXXlZB8ttB6oa6OWFhNIfP5SEy12V+OlDmHrZZ0nwn//sUdH+6+fvU994KIySIIaMhaZKhHVQGXTOoegZFGafLcGUVtcGjy708QSWHArAfNZJrKg7MlmxeYtD/9sPPpK//4jlx11bkkKnU17HX/5QwvZ/9E8kpH9yymaqDyH8pkr8TJZiBmKecEdlLFzC72A+Y8YOZT5UFY4v/Y2pcZWij9JcKxZVoRuJ99eeaAZDDbCNZjDUgLC6G6t5cA89aqseydc9cYcPyDNduUZGtttssk1GYvZsboq+xXLBJNQGMEjOxirBtSPMiNH296lv14E83KnIyOUrnn8FnzeacpRtGYsZhWyQSMmnR1CY3vf5ey6AGYHVLn2l0eJ5Yn5OluUpkcT6mbLp2Iokgpgp9sp7P31YtP/Vv3inaG9v7dO4wVAIwtMFX48VfBe8BpqQjknEqWbAlBejJZDlWPEbvjbjoyKyeMUHFE17ohkMNcA2msFQA2yjGQw1gML72k7VTPzr4frlb7QKc9k4FOQJVXg/ADnrLpQU8pU4zwVUrnzyGZcR+uo3xS+7/+a3qK/56MOiPTyTo4SR0pfEVeVBqPrweELaYaD8K7jgiyX7kViVE8VuvLXrIXNq8Z8p+GwdKEvaUn5emMtnz1e8jqeP5bjj6U9+Kp/r36VxDSzrlSjBJpwTPrujqrSGcB09TdGHQLt2jfB3i7+kNQZJBcrKOK3FHLLyyqO0put/tMFgeFnYRjMYakBYFZtHU2btsfgSugxVunfEQlGTo2x5p8PkVVdCfG4p/QkPdEfylOfPYzEDF3MOMc9BGwQJzL0N1vQYD+EYQEuOAzMCpUzWKvSA2b1UBNspaKosQD9DJ8KivkqqKrB4UC1olYodFaqkXh9Iy17KpuPRsazxj//T3xTtb/7BN2jc+UgSaBdz1h0JILF3AxJGXyhzn6uZst1XRfggK5Nk58uv9/rxlbsWqo6vEPZEMxhqgG00g6EG2EYzGGpAyL5XeVXP9cS4q8vmVFW3f1kk4E+kKiFyBWWLkI7UanGoOAG/bOfgNvV1QPN9o8da8ylo+6MrEyfM0I/R54mYPpUDjSmBa5VmfK0i6ItVOaYp9M1mY5lP+WFIX4tUsmQTMgJQICdX5yxhKFSwgxv3eH5432kutLajwYDGzYCS5imqWTcS/3Y+liOTrS3W/cQMhulE64Xib04dG8Fl9eCXq0WCNH0NkSZX/77XcE1fzp5oBkMNsI1mMNSAsIrJgY/kyry4lzYXrw7SJircvAQzSutgIOMdTcymYhmMpmJ6aN3I87PnRTto8vtaLTEDd0AH43zBjPcULlBbSZ8jsz+GkL4uLRVE8r5QlafCElfIZNdmTQqmY6hMIyx9lMK10lkECXxWt8fHJDu7khR6cEvKO2Xqd7RcSHhfF3oP4fpHoKl5e5/n+ACW7/EphgtyPHriPt+/+sjHUxSSAI98eAqSGc/xJ/eSpZ7siWYw1ADbaAZDDQi/FMlkfDx/ISuylFVML7Ew+PbuTerrb21fOW6mipeHsK6ukq++gIROHdXchyouo0sxFzOn5Kuh8kmryTobMVaewULp6ns2wAzW2ihYyZOivNo8BCJu5CspOqi+6ij6qXReYL2XF2wi9zb3pO9ciNrTIUcd2125xkGDTekEkmbHU4mgDgY6uROZG0pfBc1/XcSFkogx+VJX3rnej1WLMF53Dqv4aTDUDNtoBkMNsI1mMNSAXyHOcz186WSQ8sKJa0wI1I3MgeG91WeGx/FEGOTnx0fUhxUoJ5fK19gQ1kgXwvYtXVapJz6JH3BofjwSCWxkI/gh+2HdjhwtbG/tUN8AElcx3qyFjDyHjAmV0KkYK3+HQPsdmHC5NlrmbDRBH7PP2QwhHFVcnJ1QHx4ZpKlcq3jF34XutfJnffhumhlSslyXpdr3h+uov2lZ3GEtA6X8o0uWYTAYflOwjWYw1IAwJ1NDhT+h/TIFuK+aswzMcFBsBwhtn51zNc0GmHC9rd2iPZlOaFwcQ/WRtS8jaxycPKSejZmYcMjwQNPIOdZaxGMG55wLQcK7heacCs3v7kjo/O1vfJf6fvqjHxbty3PQUAl5jiVYX1oiownHDk2QNE9j1vTwIhnX22CZ7iaYnx0wdTcVg2QKTJxOR8mbAytlBdVklgtOMkX9x/U7Bn9RCbQYxifTWpmYKV6rtao8+FnonrzcRrAnmsFQA2yjGQw1wDaawVADQl06qAwv66O9FHT+KbSTmPUUsbLndk9SvjUfAAASLklEQVSSFBtKW3GjJ+Hn4XBIfbOxvNaR4pNjqZLZhoyAVPlhrY6E9wcXp9QXgh8ZwLdpKqrWg1deL9r7h1x26uBQ6gOcvpA1zZeqxgCcLOS6aiiw9DELotNlP6zdE19xZ5+TZCMQRzoHnctGk6/3yXOpGrq1xaF/D7Q4E9TX135SlSL+NQX3UQBJs/e9Kp1H/CFUlGYqfY+CPdEMhhpgG81gqAGsGfKy4na/YaAeX+jYHNrpiK10Z09CzEmL2RmPn4g5h6WenHOuDRqQgzM+PtgAtvoSjhmmsxmN83JhoS/nbM5tbcscKPV959Z9GncIr5OM/wduAlNka1uOMYZjNoMzMhd5jhjC5VjQ3g84NI8ZAMdHT6gvhOuD4feGMoMDT9YRBFzSaQWS5nh0M1WamrGSIy9DuVojazxqpgz/9BUrJYbshuvuA+3yWMVPg6Fe2EYzGGpAWFk5kXQZvkApjl8TnpK5vnFDIm639jhp886BmGW3ITI3SDgKtgKTbTYZU18Mfc2IC8kja2I8Oi/autpLBsyTVptly7d3RGdjBuTmt7/5PRrX2RJNkqYqFh/BnBitbGltETDFtM4GMi9SSCwdDC5p3HAkrBosTO+ccwl8z3ZHTE5tOm5CpDEK+ZoiSwcriobqs/g3p4jPKOetEzpJ6lveFygGCf7OfM0aScS8RXaJtiIrCcfQtieawVADbKMZDDXANprBUAPCKtb8F6hVL+94ySxQ/OSeEs95/dXXivbuFid0/s7v/1HRRi2+45/+LY1bok+lKm2iZmKjpcogRaD9B9cqVH5koyciQW++/R2eA4RkFmPxh+7ef5XGDS7FN2r3lIx2W3yg7V3x5QYqmyHJJHEV/TXnnFvFV7MwZmP20QLIKuhv7lJfClVEs1Su93zGfu+tu8LS2dvj8P7RMzkyGF/Ksct0wscu6BB51cKi6jW8D/6sS1xFYQPGcQxiueSMBliU/vArP0uvw55oBkMNsI1mMNQATvzUBOPrEjdfwsRcA3z24UE5ofbm7h713bsrbIrzCzGbdHVH1PdrtZkJEaGppEzTFBgafTC9htkZjbv94M2iffeVN6jv4lTMo91tMTGRUOucc8OBaGts7rBmSH9bzMXDm8JKGSlmSAzfczzivtyJ+ZyU6EQ6x2blSlUebULC6xL0HzUxeXdXzMU3X3ud+oJYGCAfvCssmjxTFUqByaHXWO2iXN2n3+LDEYdf4TVdlx+l9wHuLXuiGQw1wDaawVADbKMZDDUgRL/M88t9NO3zMCv6uj6aUjFHdjNEV+/eukPjXnn960V7cvIR9X344x8U7fOJ+C7np6zduLkpPk+oyhShqI/W3l8uxA9B3XlP8Zu2wIdKVkrsBkLHG5sy7tnTZzTu0SfvF+1AaUN2gJKFeoc3b79G41iUSAn3ABs+Bt9rTdcefNalSizVyaR/hw2lo+l5sv5d5VdPd8VPbUPCqBbnyZCC9bLioajDr7quK7SDn7xGRMTSZhVz2BPNYKgBttEMhhoQUmFtrY8H1tGaVYmF5Cse69d/4oMZqbb/dCjh8U6XQ/ODgTAjHp0JMz5QuouboPcRBjoBUAwCnRSKJhwy2T1lKGAi5WTETItOR0LfO1sS9v7Zuz+kccu5mH2Ti+fcB2WQUE8xajEzfgcSRFNVHXU8kXXhd14viSTmXBiyjHgGRxJYZqrd5YyFEObQ1UBfef2rRfsbX32naJ+cq4LzM7ke+noTI2PN47naiKtMEL3yHVfN8QWOFdD1uub8BoPh14BtNIOhBthGMxhqQIjWrNIuoar1wUv7aOXj+DWUnFVUnFfuibbg1iGX1v3wvZ8U7WUm4X1P6ToiQ3++4Pkvh1Ayd8ma/eiXjUbCUN9SVK3FVOaIQvYPdzbFvxqCDzgas8BPCmz4M1XSdicQX6y5LfM1lS+ag2O90Jr60MYQvqY3dcHfQg1G55ybT4TW1e3JNdjcYpZ/E7IeTo8eUt/de6BfeUsyGA73P6RxSKnDjOfPF3Y9r4pG5fp46XqheXpPRaa31nXEj7MnmsFQA2yjGQw1IOQnIT+OAzBDQmU7ZvBGEvhZywCACpcqbu9DSLzREObD/bucEPmt7/1e0b5csAkxfVcSPFcQzo4azKwYDYVtP7jgMPIEGPDJipkQKdT2CRtgvjXZpMJEwYYy5+agV/jZJ8JsGQ/PaVwMcufzo0e8DhC0wSTQzR4nyfrwvzNWOokorBOA6dVodmhcry9moE64zMG87cKRQ1+F97ttuQY3b7C5v38gr2+/Jqyfzo//hsY1oaLoTJmOFZo4L0UiqXZrAFqcp+K3j9fOnmgGQw2wjWYw1ICQLYPyKu2eMvtySBzEyiRrU4B5mK2ZjhIZPDgUc+X1N75G46YrMWE/+fQz6js+OS7aEZCFV0pOegZ6FJMBE47HoPPoKZ1E0raE5S8g6dE553b3RLuxozQZR2NhrDx+JMThWDE3FlMZ5zyOmi5h7CYQeNtd/qxOF1gjigGD5lAMJmCa8XcZAbOlr6KJ25DQubkp6+ipYvHI6rg8Z/J0Fy7x86cfF+07r79N4z786GdFez4bUV+VeUiR9JK/a1ybGVJeU75yUnuiGQw1wDaawVADbKMZDDUgrC6qiAolbI1mqbxOEhD4WSMwI+OD0+bCQF6/+YaEeW/cY3Gbd3/8f4r2R+//mPoWYwnVh23xGTodZvmPLiS8PxmysE4Ka4yU/jv6K22odtlRJZeaHfFRZnP2JyZQAXQOvotm1w8vOdyPiBxoVj77pGjv7B3QuHuvfKVoD8658ugSwvsjEO7Bck7OOZdAjYE0Zl+3A2wQrFOQ5fw/ezqXOZ+fsPZkCEc+Tx79omjv3mEfLYrgCGWNen+1duP6aww06JFl3pwK71NXOUPfEj8Nhr9n2EYzGGpAWPX4rLAcXY6P1giS/LLyB7mnSj+1gUFx9/bdov3wk5/TuNOjT4t2rHQGu8BiWIGm4fHTT2ncfAzE4ZRJxUEkIXF/zQBAZoiYMgc32HTE44TpmE3Hk2ORwB4CKwWZD86pSpg5m5UXwCJpwDouFfn4NmiS3HnwVeqbQMmoGHRHVqoEFZLLp1PWhlwA2wQJxr0+m+rILnn6gufY2RdNmO/8zj8q2n/9w7+gcXM47lj/VVX8bsuw/iMuHVp+fKBIxai5UxH6tyeawVADbKMZDDXANprBUANCLkPKnUxfKS+tS9XuQ7V38W0p27fb2yIks9ERv+PRB39F4ybAjPeaTAna2hSNwHAhNv1owOI2eSb+D2quO+fcAsLeoerrghgQXqvRhJnxrZYI8Lw4YcrR4yfiL07nQvdKla+4guTUbK2Gq6zrfCB+3tMn7IveefBW0d7a4dA/luSdzWT9vlJe2t6Ra3x+ekx9OYjzxCgmpEo/fe2d78p7VCLvxo7QuL71toT0jz79BY3Ddb2srGMVcg8EiiqeOdUfXXFEAG17ohkMNcA2msFQA0jX0a+obr+mt5BdrQuoE+YwghoojcCvvSlmzh7IRGf+OzTuw49ES2Kx4vB+D8L9SzBf4gmbMk34l8I8COdSmCNTIfd+X+Sso6YcRzQCvh4X52JinZ08pr4YTNMFSIyvVFVJvHa+EnDBDIkQZLQxmdM5586P5bMTxXIJILk2xuuoGDsteF+kzMoQfIEGuAl5rDMAJKSfJdw3OJejiq09YZp8/w//GY377//rz4v2ZKyqgSI8fSQDGRcVlUIxMXPNVL+2igi8Y02TRNr2RDMYaoBtNIOhBoSV0srwSM4yRSoGUybDothalw5sR11N822Qgz4EGbmp42TGxAmJttHiypIzIAifAtk2S9nEXEHEczhhmbcG6H9EynTcgITGDmhkTJRpupjLnBeKHBxDgfUU1hFEfK0WwAwJQ45+IvMkACm9wYCJw08eS2Kp32Q9kQTk57pQoXM6YSZLCAm6OkK7goRXXEei5cdBhyVXlU1//lMhhh/cECnBB/fv0bh796RSzsOHzBZiV0YlJUObIudrzBDsK4+qI142+mlPNIOhBthGMxhqgG00g6EGhBRFrlQ80eF9aWdYBTJjURk/FJ/n3p0H1HfvNQnv+20J748vPqZxYSQ+22TISYQDCPvOx+IbJSoR8WyIwjf8PRsNYe9vbnJ1yp0dEd2ZLIQJcX7M7I/lQjQZkXXhnHNxLMwI9AWWS/YjMTFWZ0Ggi4wZDGNVIurs7KRorxJmx3Q3xGd7ALLcQ1WqSjP2ETH4mG1gtmQq2bUBl3+Vs87l8ZEcQfzvP/+vRdv7g39O4+7ceaVoR+poKKbjBM2oxxflv+m8ws8rL+pUHsJf/yjTdTQYaoVtNIOhBoRI3NSVNitDmaSpgG0Oj4cNMQlv3rxLffu3xDQYQTWW4XhM4zagSuZszKHzFZB0HehEjlTy5SIW8xbD9M45d3BDwsrdDdYnxCqcZy/EXBxe8DrmMG5NgwOPQrLyIxOEImu42UzC+0kTjguUSZ8cPZV2zGTeEGTSb96U5MuDG3xfjp/Jev0J3wusppLAIhdzrsJzdizrOLj3Ferb3paw/VZPzMrz5w9pXB9MXV15lExH7dYgU8l9uaggmlTCnmgGQw2wjWYw1ADbaAZDDQiDAH00zd6H8KQydn2wg3NISnQe29JBKKH5SNGzVqns88wX3y7sbNO4s19IaabFkEsupUsodQTtyZzLLwWB+Ce3bj2gvu09oX8NBoo+tRQfZXQpdK/lkmlcDsR0AqV5jyH9vEIQBulZmtmPoegY/E303ZxzbjgSX8nTYW+4Z3i08FrIfvUh+GyXAz5OSWH9PrD3tWYnsu1vaGcffhONrtDyBicPadjxI6HUhT5TwbjSprsW1kj+xMGqeifG8NWcOGrNgYNr9StXZzAYfm3YRjMYakCIlTy1eciaB7wnMWM088QsyxQzpA1Fw7sdDqsjW+MMEycV6+LiuZgQkwvWsEgWYsKNVmJupWq927sPinary5qML87EzBwOWC48T68O22szgZI2lYkc4lrQBFyrknV1FdXPX8ucKZTMcqky9+EoQRsyaO6fnQrr3/NYq+Odt79dtPvbrDsyAlb+Co9MIj5KcFC9NFNJoRcXsrL5VO7fnV3OzOhvy+8FWS3OOTcG9kpF3idhLbWTisWXMz6qpjZmiMHwWwTbaAZDDQixgLvv6agjtrnPh4qUnsOqHxx1bDYkGuVH3DcAXYknD6WI+tNP36Nxo5JqLM5x5c05WC8b2yyHPY2FhfLehzxH6CSS2fA5mugHEP2D6KE2szmBVkUdwbbJiRnCkbocAmuBut5I4kZzpUqnQgO7kK1ydnpC4z55JBJ29xURfATS5KNLiUjOlJZLZybXcXDKrsDGzq2ijTLlN773uzTujfBbRftnH7B5++JUmCe5ptGU2I46CsvXSs/xMnVDy2FPNIOhBthGMxhqgG00g6EGhJ5XZosyMsVowAqPuQN/LejQuMAXH2eq2BqnJ0dF++knPynaWhdxPhV2BgrMOOfcEsVumsLCj32298/OxRfIE2akd5rir0Sco0jOUV5OEKBSR/q/V44MAf96xwBKE4eY/ilUWE1T5edVOGllfZrlf/T4s6LdbrA25O6uhPtHkDA6W3IIfzKTazx48YT6tg4kc2D/zptF22uwKFNvV7I2Dg85w8AHNlKm/Cv8lvidtReGJboqPa91Sgl2XvlZzqkjn6r5DQbDlwPbaAZDDVAVP/nhmkG8OVFJiliRMs/F9Ah8JrmGQLAdnDOr4+RMNC2eP5SQ/kRpWKQJhI7V4zmIhIC8in6/aF9esoZklsC6cmavoD7HOkOg7PpUSUhXyFCDOREo0zHQ9iLOCNc/CWQdSaJMehi3FvqH5QchmqlKfhyYHI8++4j6Xn9Tjk22oVoNJsU659wCWDRJosx90MBcwfqTkJkhnW0he++Bufn5muVapWk5AVsfWZWN01zv0lrx67Pgu9T80rYnmsFQA2yjGQw1wDaawVADQqLzaNl8MOrXfLQMfTT5e0OJqKxWspdfQDjfOedmIMizgHBwoiphJhDC1qWfNnf+QdE+uhBhnSzmowSXidailzNdSFNzGGXJgVpL8HqhYrT9A+U/sFCSvhnSXAF9yvOVX40Sm1m5v9lqIW2ufL1LFbZ/9kRC/zfvvlq0z8+ZxrVYiE88GbLPfX78qGjv3fta0Q7Ud85JLYqfCVEkyarLFccFrouqo5CXpVqVwZ5oBkMNsI1mMNSA/w/Dtm2ltZ+XJAAAAABJRU5ErkJggg==\" y=\"-8.740469\"/>\n   </g>\n   <g id=\"matplotlib.axis_1\">\n    <g id=\"xtick_1\">\n     <g id=\"line2d_1\">\n      <defs>\n       <path d=\"M 0 0 \nL 0 3.5 \n\" id=\"ma490bb03d4\" style=\"stroke:#000000;stroke-width:0.8;\"/>\n      </defs>\n      <g>\n       <use style=\"stroke:#000000;stroke-width:0.8;\" x=\"28.62375\" xlink:href=\"#ma490bb03d4\" y=\"226.740469\"/>\n      </g>\n     </g>\n     <g id=\"text_1\">\n      <!-- 0 -->\n      <defs>\n       <path d=\"M 31.78125 66.40625 \nQ 24.171875 66.40625 20.328125 58.90625 \nQ 16.5 51.421875 16.5 36.375 \nQ 16.5 21.390625 20.328125 13.890625 \nQ 24.171875 6.390625 31.78125 6.390625 \nQ 39.453125 6.390625 43.28125 13.890625 \nQ 47.125 21.390625 47.125 36.375 \nQ 47.125 51.421875 43.28125 58.90625 \nQ 39.453125 66.40625 31.78125 66.40625 \nz\nM 31.78125 74.21875 \nQ 44.046875 74.21875 50.515625 64.515625 \nQ 56.984375 54.828125 56.984375 36.375 \nQ 56.984375 17.96875 50.515625 8.265625 \nQ 44.046875 -1.421875 31.78125 -1.421875 \nQ 19.53125 -1.421875 13.0625 8.265625 \nQ 6.59375 17.96875 6.59375 36.375 \nQ 6.59375 54.828125 13.0625 64.515625 \nQ 19.53125 74.21875 31.78125 74.21875 \nz\n\" id=\"DejaVuSans-48\"/>\n      </defs>\n      <g transform=\"translate(25.4425 241.338906)scale(0.1 -0.1)\">\n       <use xlink:href=\"#DejaVuSans-48\"/>\n      </g>\n     </g>\n    </g>\n    <g id=\"xtick_2\">\n     <g id=\"line2d_2\">\n      <g>\n       <use style=\"stroke:#000000;stroke-width:0.8;\" x=\"62.59875\" xlink:href=\"#ma490bb03d4\" y=\"226.740469\"/>\n      </g>\n     </g>\n     <g id=\"text_2\">\n      <!-- 10 -->\n      <defs>\n       <path d=\"M 12.40625 8.296875 \nL 28.515625 8.296875 \nL 28.515625 63.921875 \nL 10.984375 60.40625 \nL 10.984375 69.390625 \nL 28.421875 72.90625 \nL 38.28125 72.90625 \nL 38.28125 8.296875 \nL 54.390625 8.296875 \nL 54.390625 0 \nL 12.40625 0 \nz\n\" id=\"DejaVuSans-49\"/>\n      </defs>\n      <g transform=\"translate(56.23625 241.338906)scale(0.1 -0.1)\">\n       <use xlink:href=\"#DejaVuSans-49\"/>\n       <use x=\"63.623047\" xlink:href=\"#DejaVuSans-48\"/>\n      </g>\n     </g>\n    </g>\n    <g id=\"xtick_3\">\n     <g id=\"line2d_3\">\n      <g>\n       <use style=\"stroke:#000000;stroke-width:0.8;\" x=\"96.57375\" xlink:href=\"#ma490bb03d4\" y=\"226.740469\"/>\n      </g>\n     </g>\n     <g id=\"text_3\">\n      <!-- 20 -->\n      <defs>\n       <path d=\"M 19.1875 8.296875 \nL 53.609375 8.296875 \nL 53.609375 0 \nL 7.328125 0 \nL 7.328125 8.296875 \nQ 12.9375 14.109375 22.625 23.890625 \nQ 32.328125 33.6875 34.8125 36.53125 \nQ 39.546875 41.84375 41.421875 45.53125 \nQ 43.3125 49.21875 43.3125 52.78125 \nQ 43.3125 58.59375 39.234375 62.25 \nQ 35.15625 65.921875 28.609375 65.921875 \nQ 23.96875 65.921875 18.8125 64.3125 \nQ 13.671875 62.703125 7.8125 59.421875 \nL 7.8125 69.390625 \nQ 13.765625 71.78125 18.9375 73 \nQ 24.125 74.21875 28.421875 74.21875 \nQ 39.75 74.21875 46.484375 68.546875 \nQ 53.21875 62.890625 53.21875 53.421875 \nQ 53.21875 48.921875 51.53125 44.890625 \nQ 49.859375 40.875 45.40625 35.40625 \nQ 44.1875 33.984375 37.640625 27.21875 \nQ 31.109375 20.453125 19.1875 8.296875 \nz\n\" id=\"DejaVuSans-50\"/>\n      </defs>\n      <g transform=\"translate(90.21125 241.338906)scale(0.1 -0.1)\">\n       <use xlink:href=\"#DejaVuSans-50\"/>\n       <use x=\"63.623047\" xlink:href=\"#DejaVuSans-48\"/>\n      </g>\n     </g>\n    </g>\n    <g id=\"xtick_4\">\n     <g id=\"line2d_4\">\n      <g>\n       <use style=\"stroke:#000000;stroke-width:0.8;\" x=\"130.54875\" xlink:href=\"#ma490bb03d4\" y=\"226.740469\"/>\n      </g>\n     </g>\n     <g id=\"text_4\">\n      <!-- 30 -->\n      <defs>\n       <path d=\"M 40.578125 39.3125 \nQ 47.65625 37.796875 51.625 33 \nQ 55.609375 28.21875 55.609375 21.1875 \nQ 55.609375 10.40625 48.1875 4.484375 \nQ 40.765625 -1.421875 27.09375 -1.421875 \nQ 22.515625 -1.421875 17.65625 -0.515625 \nQ 12.796875 0.390625 7.625 2.203125 \nL 7.625 11.71875 \nQ 11.71875 9.328125 16.59375 8.109375 \nQ 21.484375 6.890625 26.8125 6.890625 \nQ 36.078125 6.890625 40.9375 10.546875 \nQ 45.796875 14.203125 45.796875 21.1875 \nQ 45.796875 27.640625 41.28125 31.265625 \nQ 36.765625 34.90625 28.71875 34.90625 \nL 20.21875 34.90625 \nL 20.21875 43.015625 \nL 29.109375 43.015625 \nQ 36.375 43.015625 40.234375 45.921875 \nQ 44.09375 48.828125 44.09375 54.296875 \nQ 44.09375 59.90625 40.109375 62.90625 \nQ 36.140625 65.921875 28.71875 65.921875 \nQ 24.65625 65.921875 20.015625 65.03125 \nQ 15.375 64.15625 9.8125 62.3125 \nL 9.8125 71.09375 \nQ 15.4375 72.65625 20.34375 73.4375 \nQ 25.25 74.21875 29.59375 74.21875 \nQ 40.828125 74.21875 47.359375 69.109375 \nQ 53.90625 64.015625 53.90625 55.328125 \nQ 53.90625 49.265625 50.4375 45.09375 \nQ 46.96875 40.921875 40.578125 39.3125 \nz\n\" id=\"DejaVuSans-51\"/>\n      </defs>\n      <g transform=\"translate(124.18625 241.338906)scale(0.1 -0.1)\">\n       <use xlink:href=\"#DejaVuSans-51\"/>\n       <use x=\"63.623047\" xlink:href=\"#DejaVuSans-48\"/>\n      </g>\n     </g>\n    </g>\n    <g id=\"xtick_5\">\n     <g id=\"line2d_5\">\n      <g>\n       <use style=\"stroke:#000000;stroke-width:0.8;\" x=\"164.52375\" xlink:href=\"#ma490bb03d4\" y=\"226.740469\"/>\n      </g>\n     </g>\n     <g id=\"text_5\">\n      <!-- 40 -->\n      <defs>\n       <path d=\"M 37.796875 64.3125 \nL 12.890625 25.390625 \nL 37.796875 25.390625 \nz\nM 35.203125 72.90625 \nL 47.609375 72.90625 \nL 47.609375 25.390625 \nL 58.015625 25.390625 \nL 58.015625 17.1875 \nL 47.609375 17.1875 \nL 47.609375 0 \nL 37.796875 0 \nL 37.796875 17.1875 \nL 4.890625 17.1875 \nL 4.890625 26.703125 \nz\n\" id=\"DejaVuSans-52\"/>\n      </defs>\n      <g transform=\"translate(158.16125 241.338906)scale(0.1 -0.1)\">\n       <use xlink:href=\"#DejaVuSans-52\"/>\n       <use x=\"63.623047\" xlink:href=\"#DejaVuSans-48\"/>\n      </g>\n     </g>\n    </g>\n    <g id=\"xtick_6\">\n     <g id=\"line2d_6\">\n      <g>\n       <use style=\"stroke:#000000;stroke-width:0.8;\" x=\"198.49875\" xlink:href=\"#ma490bb03d4\" y=\"226.740469\"/>\n      </g>\n     </g>\n     <g id=\"text_6\">\n      <!-- 50 -->\n      <defs>\n       <path d=\"M 10.796875 72.90625 \nL 49.515625 72.90625 \nL 49.515625 64.59375 \nL 19.828125 64.59375 \nL 19.828125 46.734375 \nQ 21.96875 47.46875 24.109375 47.828125 \nQ 26.265625 48.1875 28.421875 48.1875 \nQ 40.625 48.1875 47.75 41.5 \nQ 54.890625 34.8125 54.890625 23.390625 \nQ 54.890625 11.625 47.5625 5.09375 \nQ 40.234375 -1.421875 26.90625 -1.421875 \nQ 22.3125 -1.421875 17.546875 -0.640625 \nQ 12.796875 0.140625 7.71875 1.703125 \nL 7.71875 11.625 \nQ 12.109375 9.234375 16.796875 8.0625 \nQ 21.484375 6.890625 26.703125 6.890625 \nQ 35.15625 6.890625 40.078125 11.328125 \nQ 45.015625 15.765625 45.015625 23.390625 \nQ 45.015625 31 40.078125 35.4375 \nQ 35.15625 39.890625 26.703125 39.890625 \nQ 22.75 39.890625 18.8125 39.015625 \nQ 14.890625 38.140625 10.796875 36.28125 \nz\n\" id=\"DejaVuSans-53\"/>\n      </defs>\n      <g transform=\"translate(192.13625 241.338906)scale(0.1 -0.1)\">\n       <use xlink:href=\"#DejaVuSans-53\"/>\n       <use x=\"63.623047\" xlink:href=\"#DejaVuSans-48\"/>\n      </g>\n     </g>\n    </g>\n    <g id=\"xtick_7\">\n     <g id=\"line2d_7\">\n      <g>\n       <use style=\"stroke:#000000;stroke-width:0.8;\" x=\"232.47375\" xlink:href=\"#ma490bb03d4\" y=\"226.740469\"/>\n      </g>\n     </g>\n     <g id=\"text_7\">\n      <!-- 60 -->\n      <defs>\n       <path d=\"M 33.015625 40.375 \nQ 26.375 40.375 22.484375 35.828125 \nQ 18.609375 31.296875 18.609375 23.390625 \nQ 18.609375 15.53125 22.484375 10.953125 \nQ 26.375 6.390625 33.015625 6.390625 \nQ 39.65625 6.390625 43.53125 10.953125 \nQ 47.40625 15.53125 47.40625 23.390625 \nQ 47.40625 31.296875 43.53125 35.828125 \nQ 39.65625 40.375 33.015625 40.375 \nz\nM 52.59375 71.296875 \nL 52.59375 62.3125 \nQ 48.875 64.0625 45.09375 64.984375 \nQ 41.3125 65.921875 37.59375 65.921875 \nQ 27.828125 65.921875 22.671875 59.328125 \nQ 17.53125 52.734375 16.796875 39.40625 \nQ 19.671875 43.65625 24.015625 45.921875 \nQ 28.375 48.1875 33.59375 48.1875 \nQ 44.578125 48.1875 50.953125 41.515625 \nQ 57.328125 34.859375 57.328125 23.390625 \nQ 57.328125 12.15625 50.6875 5.359375 \nQ 44.046875 -1.421875 33.015625 -1.421875 \nQ 20.359375 -1.421875 13.671875 8.265625 \nQ 6.984375 17.96875 6.984375 36.375 \nQ 6.984375 53.65625 15.1875 63.9375 \nQ 23.390625 74.21875 37.203125 74.21875 \nQ 40.921875 74.21875 44.703125 73.484375 \nQ 48.484375 72.75 52.59375 71.296875 \nz\n\" id=\"DejaVuSans-54\"/>\n      </defs>\n      <g transform=\"translate(226.11125 241.338906)scale(0.1 -0.1)\">\n       <use xlink:href=\"#DejaVuSans-54\"/>\n       <use x=\"63.623047\" xlink:href=\"#DejaVuSans-48\"/>\n      </g>\n     </g>\n    </g>\n   </g>\n   <g id=\"matplotlib.axis_2\">\n    <g id=\"ytick_1\">\n     <g id=\"line2d_8\">\n      <defs>\n       <path d=\"M 0 0 \nL -3.5 0 \n\" id=\"me41f52f193\" style=\"stroke:#000000;stroke-width:0.8;\"/>\n      </defs>\n      <g>\n       <use style=\"stroke:#000000;stroke-width:0.8;\" x=\"26.925\" xlink:href=\"#me41f52f193\" y=\"10.999219\"/>\n      </g>\n     </g>\n     <g id=\"text_8\">\n      <!-- 0 -->\n      <g transform=\"translate(13.5625 14.798437)scale(0.1 -0.1)\">\n       <use xlink:href=\"#DejaVuSans-48\"/>\n      </g>\n     </g>\n    </g>\n    <g id=\"ytick_2\">\n     <g id=\"line2d_9\">\n      <g>\n       <use style=\"stroke:#000000;stroke-width:0.8;\" x=\"26.925\" xlink:href=\"#me41f52f193\" y=\"44.974219\"/>\n      </g>\n     </g>\n     <g id=\"text_9\">\n      <!-- 10 -->\n      <g transform=\"translate(7.2 48.773437)scale(0.1 -0.1)\">\n       <use xlink:href=\"#DejaVuSans-49\"/>\n       <use x=\"63.623047\" xlink:href=\"#DejaVuSans-48\"/>\n      </g>\n     </g>\n    </g>\n    <g id=\"ytick_3\">\n     <g id=\"line2d_10\">\n      <g>\n       <use style=\"stroke:#000000;stroke-width:0.8;\" x=\"26.925\" xlink:href=\"#me41f52f193\" y=\"78.949219\"/>\n      </g>\n     </g>\n     <g id=\"text_10\">\n      <!-- 20 -->\n      <g transform=\"translate(7.2 82.748437)scale(0.1 -0.1)\">\n       <use xlink:href=\"#DejaVuSans-50\"/>\n       <use x=\"63.623047\" xlink:href=\"#DejaVuSans-48\"/>\n      </g>\n     </g>\n    </g>\n    <g id=\"ytick_4\">\n     <g id=\"line2d_11\">\n      <g>\n       <use style=\"stroke:#000000;stroke-width:0.8;\" x=\"26.925\" xlink:href=\"#me41f52f193\" y=\"112.924219\"/>\n      </g>\n     </g>\n     <g id=\"text_11\">\n      <!-- 30 -->\n      <g transform=\"translate(7.2 116.723437)scale(0.1 -0.1)\">\n       <use xlink:href=\"#DejaVuSans-51\"/>\n       <use x=\"63.623047\" xlink:href=\"#DejaVuSans-48\"/>\n      </g>\n     </g>\n    </g>\n    <g id=\"ytick_5\">\n     <g id=\"line2d_12\">\n      <g>\n       <use style=\"stroke:#000000;stroke-width:0.8;\" x=\"26.925\" xlink:href=\"#me41f52f193\" y=\"146.899219\"/>\n      </g>\n     </g>\n     <g id=\"text_12\">\n      <!-- 40 -->\n      <g transform=\"translate(7.2 150.698437)scale(0.1 -0.1)\">\n       <use xlink:href=\"#DejaVuSans-52\"/>\n       <use x=\"63.623047\" xlink:href=\"#DejaVuSans-48\"/>\n      </g>\n     </g>\n    </g>\n    <g id=\"ytick_6\">\n     <g id=\"line2d_13\">\n      <g>\n       <use style=\"stroke:#000000;stroke-width:0.8;\" x=\"26.925\" xlink:href=\"#me41f52f193\" y=\"180.874219\"/>\n      </g>\n     </g>\n     <g id=\"text_13\">\n      <!-- 50 -->\n      <g transform=\"translate(7.2 184.673437)scale(0.1 -0.1)\">\n       <use xlink:href=\"#DejaVuSans-53\"/>\n       <use x=\"63.623047\" xlink:href=\"#DejaVuSans-48\"/>\n      </g>\n     </g>\n    </g>\n    <g id=\"ytick_7\">\n     <g id=\"line2d_14\">\n      <g>\n       <use style=\"stroke:#000000;stroke-width:0.8;\" x=\"26.925\" xlink:href=\"#me41f52f193\" y=\"214.849219\"/>\n      </g>\n     </g>\n     <g id=\"text_14\">\n      <!-- 60 -->\n      <g transform=\"translate(7.2 218.648437)scale(0.1 -0.1)\">\n       <use xlink:href=\"#DejaVuSans-54\"/>\n       <use x=\"63.623047\" xlink:href=\"#DejaVuSans-48\"/>\n      </g>\n     </g>\n    </g>\n   </g>\n   <g id=\"patch_3\">\n    <path d=\"M 26.925 226.740469 \nL 26.925 9.300469 \n\" style=\"fill:none;stroke:#000000;stroke-linecap:square;stroke-linejoin:miter;stroke-width:0.8;\"/>\n   </g>\n   <g id=\"patch_4\">\n    <path d=\"M 244.365 226.740469 \nL 244.365 9.300469 \n\" style=\"fill:none;stroke:#000000;stroke-linecap:square;stroke-linejoin:miter;stroke-width:0.8;\"/>\n   </g>\n   <g id=\"patch_5\">\n    <path d=\"M 26.925 226.740469 \nL 244.365 226.740469 \n\" style=\"fill:none;stroke:#000000;stroke-linecap:square;stroke-linejoin:miter;stroke-width:0.8;\"/>\n   </g>\n   <g id=\"patch_6\">\n    <path d=\"M 26.925 9.300469 \nL 244.365 9.300469 \n\" style=\"fill:none;stroke:#000000;stroke-linecap:square;stroke-linejoin:miter;stroke-width:0.8;\"/>\n   </g>\n  </g>\n </g>\n <defs>\n  <clipPath id=\"p76cd144fc0\">\n   <rect height=\"217.44\" width=\"217.44\" x=\"26.925\" y=\"9.300469\"/>\n  </clipPath>\n </defs>\n</svg>\n",
      "image/png": "[encoded data removed]"
     },
     "metadata": {
      "needs_background": "light"
     }
    }
   ],
   "source": [
    "# Example of a picture\n",
    "index = 25\n",
    "plt.imshow(train_set_x_orig[index])\n",
    "print (\"y = \" + str(train_set_y[:, index]) + \", it's a '\" + classes[np.squeeze(train_set_y[:, index])].decode(\"utf-8\") +  \"' picture.\")"
   ]
  },
  {
   "cell_type": "markdown",
   "metadata": {},
   "source": [
    "Many software bugs in deep learning come from having matrix/vector dimensions that don't fit. If you can keep your matrix/vector dimensions straight you will go a long way toward eliminating many bugs. \n",
    "\n",
    "**Exercise:** Find the values for:\n",
    "    - m_train (number of training examples)\n",
    "    - m_test (number of test examples)\n",
    "    - num_px (= height = width of a training image)\n",
    "Remember that `train_set_x_orig` is a numpy-array of shape (m_train, num_px, num_px, 3). For instance, you can access `m_train` by writing `train_set_x_orig.shape[0]`."
   ]
  },
  {
   "cell_type": "code",
   "execution_count": 6,
   "metadata": {
    "scrolled": true,
    "tags": []
   },
   "outputs": [
    {
     "output_type": "stream",
     "name": "stdout",
     "text": "Number of training examples: m_train = 209\nNumber of testing examples: m_test = 50\nHeight/Width of each image: num_px = 64\nEach image is of size: (64, 64, 3)\ntrain_set_x shape: (209, 64, 64, 3)\ntrain_set_y shape: (1, 209)\ntest_set_x shape: (50, 64, 64, 3)\ntest_set_y shape: (1, 50)\n"
    }
   ],
   "source": [
    "### START CODE HERE ### (≈ 3 lines of code)\n",
    "m_train = train_set_x_orig.shape[0]\n",
    "m_test = test_set_x_orig.shape[0]\n",
    "num_px = train_set_x_orig.shape[1]\n",
    "### END CODE HERE ###\n",
    "\n",
    "print (\"Number of training examples: m_train = \" + str(m_train))\n",
    "print (\"Number of testing examples: m_test = \" + str(m_test))\n",
    "print (\"Height/Width of each image: num_px = \" + str(num_px))\n",
    "print (\"Each image is of size: (\" + str(num_px) + \", \" + str(num_px) + \", 3)\")\n",
    "print (\"train_set_x shape: \" + str(train_set_x_orig.shape))\n",
    "print (\"train_set_y shape: \" + str(train_set_y.shape))\n",
    "print (\"test_set_x shape: \" + str(test_set_x_orig.shape))\n",
    "print (\"test_set_y shape: \" + str(test_set_y.shape))"
   ]
  },
  {
   "cell_type": "markdown",
   "metadata": {},
   "source": [
    "**Expected Output for m_train, m_test and num_px**: \n",
    "<table style=\"width:15%\">\n",
    "  <tr>\n",
    "    <td>**m_train**</td>\n",
    "    <td> 209 </td> \n",
    "  </tr>\n",
    "  \n",
    "  <tr>\n",
    "    <td>**m_test**</td>\n",
    "    <td> 50 </td> \n",
    "  </tr>\n",
    "  \n",
    "  <tr>\n",
    "    <td>**num_px**</td>\n",
    "    <td> 64 </td> \n",
    "  </tr>\n",
    "  \n",
    "</table>\n"
   ]
  },
  {
   "cell_type": "markdown",
   "metadata": {},
   "source": [
    "For convenience, you should now reshape images of shape (num_px, num_px, 3) in a numpy-array of shape (num_px $*$ num_px $*$ 3, 1). After this, our training (and test) dataset is a numpy-array where each column represents a flattened image. There should be m_train (respectively m_test) columns.\n",
    "\n",
    "**Exercise:** Reshape the training and test data sets so that images of size (num_px, num_px, 3) are flattened into single vectors of shape (num\\_px $*$ num\\_px $*$ 3, 1).\n",
    "\n",
    "A trick when you want to flatten a matrix X of shape (a,b,c,d) to a matrix X_flatten of shape (b$*$c$*$d, a) is to use: \n",
    "```python\n",
    "X_flatten = X.reshape(X.shape[0], -1).T      # X.T is the transpose of X\n",
    "```"
   ]
  },
  {
   "cell_type": "code",
   "execution_count": 7,
   "metadata": {
    "tags": []
   },
   "outputs": [
    {
     "output_type": "stream",
     "name": "stdout",
     "text": "train_set_x_flatten shape: (12288, 209)\ntrain_set_y shape: (1, 209)\ntest_set_x_flatten shape: (12288, 50)\ntest_set_y shape: (1, 50)\nsanity check after reshaping: [17 31 56 22 33]\n"
    }
   ],
   "source": [
    "# Reshape the training and test examples\n",
    "\n",
    "### START CODE HERE ### (≈ 2 lines of code)\n",
    "train_set_x_flatten = train_set_x_orig.reshape(train_set_x_orig.shape[0], -1).T\n",
    "test_set_x_flatten = test_set_x_orig.reshape(test_set_x_orig.shape[0], -1).T\n",
    "### END CODE HERE ###\n",
    "\n",
    "print (\"train_set_x_flatten shape: \" + str(train_set_x_flatten.shape))\n",
    "print (\"train_set_y shape: \" + str(train_set_y.shape))\n",
    "print (\"test_set_x_flatten shape: \" + str(test_set_x_flatten.shape))\n",
    "print (\"test_set_y shape: \" + str(test_set_y.shape))\n",
    "print (\"sanity check after reshaping: \" + str(train_set_x_flatten[0:5,0]))"
   ]
  },
  {
   "cell_type": "code",
   "execution_count": null,
   "metadata": {
    "collapsed": true
   },
   "outputs": [],
   "source": []
  },
  {
   "cell_type": "markdown",
   "metadata": {},
   "source": [
    "**Expected Output**: \n",
    "\n",
    "<table style=\"width:35%\">\n",
    "  <tr>\n",
    "    <td>**train_set_x_flatten shape**</td>\n",
    "    <td> (12288, 209)</td> \n",
    "  </tr>\n",
    "  <tr>\n",
    "    <td>**train_set_y shape**</td>\n",
    "    <td>(1, 209)</td> \n",
    "  </tr>\n",
    "  <tr>\n",
    "    <td>**test_set_x_flatten shape**</td>\n",
    "    <td>(12288, 50)</td> \n",
    "  </tr>\n",
    "  <tr>\n",
    "    <td>**test_set_y shape**</td>\n",
    "    <td>(1, 50)</td> \n",
    "  </tr>\n",
    "  <tr>\n",
    "  <td>**sanity check after reshaping**</td>\n",
    "  <td>[17 31 56 22 33]</td> \n",
    "  </tr>\n",
    "</table>"
   ]
  },
  {
   "cell_type": "markdown",
   "metadata": {},
   "source": [
    "To represent color images, the red, green and blue channels (RGB) must be specified for each pixel, and so the pixel value is actually a vector of three numbers ranging from 0 to 255.\n",
    "\n",
    "One common preprocessing step in machine learning is to center and standardize your dataset, meaning that you substract the mean of the whole numpy array from each example, and then divide each example by the standard deviation of the whole numpy array. But for picture datasets, it is simpler and more convenient and works almost as well to just divide every row of the dataset by 255 (the maximum value of a pixel channel).\n",
    "\n",
    "<!-- During the training of your model, you're going to multiply weights and add biases to some initial inputs in order to observe neuron activations. Then you backpropogate with the gradients to train the model. But, it is extremely important for each feature to have a similar range such that our gradients don't explode. You will see that more in detail later in the lectures. !--> \n",
    "\n",
    "Let's standardize our dataset."
   ]
  },
  {
   "cell_type": "code",
   "execution_count": 8,
   "metadata": {
    "collapsed": true
   },
   "outputs": [],
   "source": [
    "train_set_x = train_set_x_flatten/255.\n",
    "test_set_x = test_set_x_flatten/255."
   ]
  },
  {
   "cell_type": "markdown",
   "metadata": {},
   "source": [
    "<font color='blue'>\n",
    "**What you need to remember:**\n",
    "\n",
    "Common steps for pre-processing a new dataset are:\n",
    "- Figure out the dimensions and shapes of the problem (m_train, m_test, num_px, ...)\n",
    "- Reshape the datasets such that each example is now a vector of size (num_px \\* num_px \\* 3, 1)\n",
    "- \"Standardize\" the data"
   ]
  },
  {
   "cell_type": "markdown",
   "metadata": {},
   "source": [
    "## 3 - General Architecture of the learning algorithm ##\n",
    "\n",
    "It's time to design a simple algorithm to distinguish cat images from non-cat images.\n",
    "\n",
    "You will build a Logistic Regression, using a Neural Network mindset. The following Figure explains why **Logistic Regression is actually a very simple Neural Network!**\n",
    "\n",
    "<img src=\"images/LogReg_kiank.png\" style=\"width:650px;height:400px;\">\n",
    "\n",
    "**Mathematical expression of the algorithm**:\n",
    "\n",
    "For one example $x^{(i)}$:\n",
    "$$z^{(i)} = w^T x^{(i)} + b \\tag{1}$$\n",
    "$$\\hat{y}^{(i)} = a^{(i)} = sigmoid(z^{(i)})\\tag{2}$$ \n",
    "$$ \\mathcal{L}(a^{(i)}, y^{(i)}) =  - y^{(i)}  \\log(a^{(i)}) - (1-y^{(i)} )  \\log(1-a^{(i)})\\tag{3}$$\n",
    "\n",
    "The cost is then computed by summing over all training examples:\n",
    "$$ J = \\frac{1}{m} \\sum_{i=1}^m \\mathcal{L}(a^{(i)}, y^{(i)})\\tag{6}$$\n",
    "\n",
    "**Key steps**:\n",
    "In this exercise, you will carry out the following steps: \n",
    "    - Initialize the parameters of the model\n",
    "    - Learn the parameters for the model by minimizing the cost  \n",
    "    - Use the learned parameters to make predictions (on the test set)\n",
    "    - Analyse the results and conclude"
   ]
  },
  {
   "cell_type": "markdown",
   "metadata": {},
   "source": [
    "## 4 - Building the parts of our algorithm ## \n",
    "\n",
    "The main steps for building a Neural Network are:\n",
    "1. Define the model structure (such as number of input features) \n",
    "2. Initialize the model's parameters\n",
    "3. Loop:\n",
    "    - Calculate current loss (forward propagation)\n",
    "    - Calculate current gradient (backward propagation)\n",
    "    - Update parameters (gradient descent)\n",
    "\n",
    "You often build 1-3 separately and integrate them into one function we call `model()`.\n",
    "\n",
    "### 4.1 - Helper functions\n",
    "\n",
    "**Exercise**: Using your code from \"Python Basics\", implement `sigmoid()`. As you've seen in the figure above, you need to compute $sigmoid( w^T x + b) = \\frac{1}{1 + e^{-(w^T x + b)}}$ to make predictions. Use np.exp()."
   ]
  },
  {
   "cell_type": "code",
   "execution_count": 9,
   "metadata": {
    "collapsed": true
   },
   "outputs": [],
   "source": [
    "# GRADED FUNCTION: sigmoid\n",
    "\n",
    "def sigmoid(z):\n",
    "    \"\"\"\n",
    "    Compute the sigmoid of z\n",
    "\n",
    "    Arguments:\n",
    "    z -- A scalar or numpy array of any size.\n",
    "\n",
    "    Return:\n",
    "    s -- sigmoid(z)\n",
    "    \"\"\"\n",
    "\n",
    "    ### START CODE HERE ### (≈ 1 line of code)\n",
    "    s = 1.0/(1 + np.exp(-z))\n",
    "    ### END CODE HERE ###\n",
    "    \n",
    "    return s"
   ]
  },
  {
   "cell_type": "code",
   "execution_count": 10,
   "metadata": {
    "scrolled": true,
    "tags": []
   },
   "outputs": [
    {
     "output_type": "stream",
     "name": "stdout",
     "text": "sigmoid([0, 2]) = [0.5        0.88079708]\n"
    }
   ],
   "source": [
    "print (\"sigmoid([0, 2]) = \" + str(sigmoid(np.array([0,2]))))"
   ]
  },
  {
   "cell_type": "markdown",
   "metadata": {},
   "source": [
    "**Expected Output**: \n",
    "\n",
    "<table>\n",
    "  <tr>\n",
    "    <td>**sigmoid([0, 2])**</td>\n",
    "    <td> [ 0.5         0.88079708]</td> \n",
    "  </tr>\n",
    "</table>"
   ]
  },
  {
   "cell_type": "markdown",
   "metadata": {},
   "source": [
    "### 4.2 - Initializing parameters\n",
    "\n",
    "**Exercise:** Implement parameter initialization in the cell below. You have to initialize w as a vector of zeros. If you don't know what numpy function to use, look up np.zeros() in the Numpy library's documentation."
   ]
  },
  {
   "cell_type": "code",
   "execution_count": 11,
   "metadata": {
    "collapsed": true
   },
   "outputs": [],
   "source": [
    "# GRADED FUNCTION: initialize_with_zeros\n",
    "\n",
    "def initialize_with_zeros(dim):\n",
    "    \"\"\"\n",
    "    This function creates a vector of zeros of shape (dim, 1) for w and initializes b to 0.\n",
    "    \n",
    "    Argument:\n",
    "    dim -- size of the w vector we want (or number of parameters in this case)\n",
    "    \n",
    "    Returns:\n",
    "    w -- initialized vector of shape (dim, 1)\n",
    "    b -- initialized scalar (corresponds to the bias)\n",
    "    \"\"\"\n",
    "    \n",
    "    ### START CODE HERE ### (≈ 1 line of code)\n",
    "    w = np.zeros((dim, 1))\n",
    "    b = 0\n",
    "    ### END CODE HERE ###\n",
    "\n",
    "    assert(w.shape == (dim, 1))\n",
    "    assert(isinstance(b, float) or isinstance(b, int))\n",
    "    \n",
    "    return w, b"
   ]
  },
  {
   "cell_type": "code",
   "execution_count": 12,
   "metadata": {
    "tags": []
   },
   "outputs": [
    {
     "output_type": "stream",
     "name": "stdout",
     "text": "w = [[0.]\n [0.]]\nb = 0\n"
    }
   ],
   "source": [
    "dim = 2\n",
    "w, b = initialize_with_zeros(dim)\n",
    "print (\"w = \" + str(w))\n",
    "print (\"b = \" + str(b))"
   ]
  },
  {
   "cell_type": "markdown",
   "metadata": {},
   "source": [
    "**Expected Output**: \n",
    "\n",
    "\n",
    "<table style=\"width:15%\">\n",
    "    <tr>\n",
    "        <td>  ** w **  </td>\n",
    "        <td> [[ 0.]\n",
    " [ 0.]] </td>\n",
    "    </tr>\n",
    "    <tr>\n",
    "        <td>  ** b **  </td>\n",
    "        <td> 0 </td>\n",
    "    </tr>\n",
    "</table>\n",
    "\n",
    "For image inputs, w will be of shape (num_px $\\times$ num_px $\\times$ 3, 1)."
   ]
  },
  {
   "cell_type": "markdown",
   "metadata": {},
   "source": [
    "### 4.3 - Forward and Backward propagation\n",
    "\n",
    "Now that your parameters are initialized, you can do the \"forward\" and \"backward\" propagation steps for learning the parameters.\n",
    "\n",
    "**Exercise:** Implement a function `propagate()` that computes the cost function and its gradient.\n",
    "\n",
    "**Hints**:\n",
    "\n",
    "Forward Propagation:\n",
    "- You get X\n",
    "- You compute $A = \\sigma(w^T X + b) = (a^{(1)}, a^{(2)}, ..., a^{(m-1)}, a^{(m)})$\n",
    "- You calculate the cost function: $J = -\\frac{1}{m}\\sum_{i=1}^{m}y^{(i)}\\log(a^{(i)})+(1-y^{(i)})\\log(1-a^{(i)})$\n",
    "\n",
    "Here are the two formulas you will be using: \n",
    "\n",
    "$$ \\frac{\\partial J}{\\partial w} = \\frac{1}{m}X(A-Y)^T\\tag{7}$$\n",
    "$$ \\frac{\\partial J}{\\partial b} = \\frac{1}{m} \\sum_{i=1}^m (a^{(i)}-y^{(i)})\\tag{8}$$"
   ]
  },
  {
   "cell_type": "code",
   "execution_count": 13,
   "metadata": {
    "collapsed": true
   },
   "outputs": [],
   "source": [
    "# GRADED FUNCTION: propagate\n",
    "\n",
    "def propagate(w, b, X, Y):\n",
    "    \"\"\"\n",
    "    Implement the cost function and its gradient for the propagation explained above\n",
    "\n",
    "    Arguments:\n",
    "    w -- weights, a numpy array of size (num_px * num_px * 3, 1)\n",
    "    b -- bias, a scalar\n",
    "    X -- data of size (num_px * num_px * 3, number of examples)\n",
    "    Y -- true \"label\" vector (containing 0 if non-cat, 1 if cat) of size (1, number of examples)\n",
    "\n",
    "    Return:\n",
    "    cost -- negative log-likelihood cost for logistic regression\n",
    "    dw -- gradient of the loss with respect to w, thus same shape as w\n",
    "    db -- gradient of the loss with respect to b, thus same shape as b\n",
    "    \n",
    "    Tips:\n",
    "    - Write your code step by step for the propagation. np.log(), np.dot()\n",
    "    \"\"\"\n",
    "    \n",
    "    m = X.shape[1]\n",
    "    \n",
    "    # FORWARD PROPAGATION (FROM X TO COST)\n",
    "    ### START CODE HERE ### (≈ 2 lines of code)\n",
    "    A = sigmoid(np.dot(w.T, X) + b)[0]                                   # compute activation\n",
    "    cost = -(Y[0] * np.log(A) + (1 - Y[0])*(np.log(1-A))).sum() / m                                # compute cost\n",
    "    ### END CODE HERE ###\n",
    "    \n",
    "    # BACKWARD PROPAGATION (TO FIND GRAD)\n",
    "    ### START CODE HERE ### (≈ 2 lines of code)\n",
    "    dw = np.dot(X, (A - Y).T) / m\n",
    "    db = (A - Y).sum() / m\n",
    "    ### END CODE HERE ###\n",
    "\n",
    "    assert(dw.shape == w.shape)\n",
    "    assert(db.dtype == float)\n",
    "    cost = np.squeeze(cost)\n",
    "    assert(cost.shape == ())\n",
    "    \n",
    "    grads = {\"dw\": dw,\n",
    "             \"db\": db}\n",
    "    \n",
    "    return grads, cost"
   ]
  },
  {
   "cell_type": "code",
   "execution_count": 14,
   "metadata": {
    "tags": []
   },
   "outputs": [
    {
     "output_type": "stream",
     "name": "stdout",
     "text": "dw = [[0.99845601]\n [2.39507239]]\ndb = 0.001455578136784208\ncost = 5.801545319394553\n"
    }
   ],
   "source": [
    "w, b, X, Y = np.array([[1.],[2.]]), 2., np.array([[1.,2.,-1.],[3.,4.,-3.2]]), np.array([[1,0,1]])\n",
    "grads, cost = propagate(w, b, X, Y)\n",
    "print (\"dw = \" + str(grads[\"dw\"]))\n",
    "print (\"db = \" + str(grads[\"db\"]))\n",
    "print (\"cost = \" + str(cost))"
   ]
  },
  {
   "cell_type": "markdown",
   "metadata": {},
   "source": [
    "**Expected Output**:\n",
    "\n",
    "<table style=\"width:50%\">\n",
    "    <tr>\n",
    "        <td>  ** dw **  </td>\n",
    "      <td> [[ 0.99845601]\n",
    "     [ 2.39507239]]</td>\n",
    "    </tr>\n",
    "    <tr>\n",
    "        <td>  ** db **  </td>\n",
    "        <td> 0.00145557813678 </td>\n",
    "    </tr>\n",
    "    <tr>\n",
    "        <td>  ** cost **  </td>\n",
    "        <td> 5.801545319394553 </td>\n",
    "    </tr>\n",
    "\n",
    "</table>"
   ]
  },
  {
   "cell_type": "markdown",
   "metadata": {},
   "source": [
    "### 4.4 - Optimization\n",
    "- You have initialized your parameters.\n",
    "- You are also able to compute a cost function and its gradient.\n",
    "- Now, you want to update the parameters using gradient descent.\n",
    "\n",
    "**Exercise:** Write down the optimization function. The goal is to learn $w$ and $b$ by minimizing the cost function $J$. For a parameter $\\theta$, the update rule is $ \\theta = \\theta - \\alpha \\text{ } d\\theta$, where $\\alpha$ is the learning rate."
   ]
  },
  {
   "cell_type": "code",
   "execution_count": 15,
   "metadata": {
    "collapsed": true
   },
   "outputs": [],
   "source": [
    "# GRADED FUNCTION: optimize\n",
    "\n",
    "def optimize(w, b, X, Y, num_iterations, learning_rate, print_cost = False):\n",
    "    \"\"\"\n",
    "    This function optimizes w and b by running a gradient descent algorithm\n",
    "    \n",
    "    Arguments:\n",
    "    w -- weights, a numpy array of size (num_px * num_px * 3, 1)\n",
    "    b -- bias, a scalar\n",
    "    X -- data of shape (num_px * num_px * 3, number of examples)\n",
    "    Y -- true \"label\" vector (containing 0 if non-cat, 1 if cat), of shape (1, number of examples)\n",
    "    num_iterations -- number of iterations of the optimization loop\n",
    "    learning_rate -- learning rate of the gradient descent update rule\n",
    "    print_cost -- True to print the loss every 100 steps\n",
    "    \n",
    "    Returns:\n",
    "    params -- dictionary containing the weights w and bias b\n",
    "    grads -- dictionary containing the gradients of the weights and bias with respect to the cost function\n",
    "    costs -- list of all the costs computed during the optimization, this will be used to plot the learning curve.\n",
    "    \n",
    "    Tips:\n",
    "    You basically need to write down two steps and iterate through them:\n",
    "        1) Calculate the cost and the gradient for the current parameters. Use propagate().\n",
    "        2) Update the parameters using gradient descent rule for w and b.\n",
    "    \"\"\"\n",
    "    \n",
    "    costs = []\n",
    "    \n",
    "    for i in range(num_iterations):\n",
    "        \n",
    "        \n",
    "        # Cost and gradient calculation (≈ 1-4 lines of code)\n",
    "        ### START CODE HERE ### \n",
    "        grads, cost = propagate(w, b, X, Y)\n",
    "        ### END CODE HERE ###\n",
    "        \n",
    "        # Retrieve derivatives from grads\n",
    "        dw = grads[\"dw\"]\n",
    "        db = grads[\"db\"]\n",
    "        \n",
    "        # update rule (≈ 2 lines of code)\n",
    "        ### START CODE HERE ###\n",
    "        w = w - learning_rate * dw\n",
    "        b = b - learning_rate * db\n",
    "        ### END CODE HERE ###\n",
    "        \n",
    "        # Record the costs\n",
    "        if i % 100 == 0:\n",
    "            costs.append(cost)\n",
    "        \n",
    "        # Print the cost every 100 training iterations\n",
    "        if print_cost and i % 100 == 0:\n",
    "            print (\"Cost after iteration %i: %f\" %(i, cost))\n",
    "    \n",
    "    params = {\"w\": w,\n",
    "              \"b\": b}\n",
    "    \n",
    "    grads = {\"dw\": dw,\n",
    "             \"db\": db}\n",
    "    \n",
    "    return params, grads, costs"
   ]
  },
  {
   "cell_type": "code",
   "execution_count": 16,
   "metadata": {
    "tags": []
   },
   "outputs": [
    {
     "output_type": "stream",
     "name": "stdout",
     "text": "w = [[0.19033591]\n [0.12259159]]\nb = 1.9253598300845747\ndw = [[0.67752042]\n [1.41625495]]\ndb = 0.21919450454067654\n"
    }
   ],
   "source": [
    "params, grads, costs = optimize(w, b, X, Y, num_iterations= 100, learning_rate = 0.009, print_cost = False)\n",
    "\n",
    "print (\"w = \" + str(params[\"w\"]))\n",
    "print (\"b = \" + str(params[\"b\"]))\n",
    "print (\"dw = \" + str(grads[\"dw\"]))\n",
    "print (\"db = \" + str(grads[\"db\"]))"
   ]
  },
  {
   "cell_type": "markdown",
   "metadata": {},
   "source": [
    "**Expected Output**: \n",
    "\n",
    "<table style=\"width:40%\">\n",
    "    <tr>\n",
    "       <td> **w** </td>\n",
    "       <td>[[ 0.19033591]\n",
    " [ 0.12259159]] </td>\n",
    "    </tr>\n",
    "    \n",
    "    <tr>\n",
    "       <td> **b** </td>\n",
    "       <td> 1.92535983008 </td>\n",
    "    </tr>\n",
    "    <tr>\n",
    "       <td> **dw** </td>\n",
    "       <td> [[ 0.67752042]\n",
    " [ 1.41625495]] </td>\n",
    "    </tr>\n",
    "    <tr>\n",
    "       <td> **db** </td>\n",
    "       <td> 0.219194504541 </td>\n",
    "    </tr>\n",
    "\n",
    "</table>"
   ]
  },
  {
   "cell_type": "markdown",
   "metadata": {},
   "source": [
    "**Exercise:** The previous function will output the learned w and b. We are able to use w and b to predict the labels for a dataset X. Implement the `predict()` function. There are two steps to computing predictions:\n",
    "\n",
    "1. Calculate $\\hat{Y} = A = \\sigma(w^T X + b)$\n",
    "\n",
    "2. Convert the entries of a into 0 (if activation <= 0.5) or 1 (if activation > 0.5), stores the predictions in a vector `Y_prediction`. If you wish, you can use an `if`/`else` statement in a `for` loop (though there is also a way to vectorize this). "
   ]
  },
  {
   "cell_type": "code",
   "execution_count": 17,
   "metadata": {
    "collapsed": true
   },
   "outputs": [],
   "source": [
    "# GRADED FUNCTION: predict\n",
    "\n",
    "def predict(w, b, X):\n",
    "    '''\n",
    "    Predict whether the label is 0 or 1 using learned logistic regression parameters (w, b)\n",
    "    \n",
    "    Arguments:\n",
    "    w -- weights, a numpy array of size (num_px * num_px * 3, 1)\n",
    "    b -- bias, a scalar\n",
    "    X -- data of size (num_px * num_px * 3, number of examples)\n",
    "    \n",
    "    Returns:\n",
    "    Y_prediction -- a numpy array (vector) containing all predictions (0/1) for the examples in X\n",
    "    '''\n",
    "    \n",
    "    m = X.shape[1]\n",
    "    Y_prediction = np.zeros((1,m))\n",
    "    w = w.reshape(X.shape[0], 1)\n",
    "    \n",
    "    # Compute vector \"A\" predicting the probabilities of a cat being present in the picture\n",
    "    ### START CODE HERE ### (≈ 1 line of code)\n",
    "    A = sigmoid(np.dot(w.T, X) + b)\n",
    "    ### END CODE HERE ###\n",
    "    \n",
    "    for i in range(A.shape[1]):\n",
    "        \n",
    "        # Convert probabilities A[0,i] to actual predictions p[0,i]\n",
    "        ### START CODE HERE ### (≈ 4 lines of code)\n",
    "        if A[0][i] >= 0.5:\n",
    "            Y_prediction[0][i] = 1\n",
    "        ### END CODE HERE ###\n",
    "    \n",
    "    assert(Y_prediction.shape == (1, m))\n",
    "    \n",
    "    return Y_prediction"
   ]
  },
  {
   "cell_type": "code",
   "execution_count": 18,
   "metadata": {
    "tags": []
   },
   "outputs": [
    {
     "output_type": "stream",
     "name": "stdout",
     "text": "predictions = [[1. 1. 0.]]\n"
    }
   ],
   "source": [
    "w = np.array([[0.1124579],[0.23106775]])\n",
    "b = -0.3\n",
    "X = np.array([[1.,-1.1,-3.2],[1.2,2.,0.1]])\n",
    "print (\"predictions = \" + str(predict(w, b, X)))"
   ]
  },
  {
   "cell_type": "markdown",
   "metadata": {},
   "source": [
    "**Expected Output**: \n",
    "\n",
    "<table style=\"width:30%\">\n",
    "    <tr>\n",
    "         <td>\n",
    "             **predictions**\n",
    "         </td>\n",
    "          <td>\n",
    "            [[ 1.  1.  0.]]\n",
    "         </td>  \n",
    "   </tr>\n",
    "\n",
    "</table>\n"
   ]
  },
  {
   "cell_type": "markdown",
   "metadata": {},
   "source": [
    "<font color='blue'>\n",
    "**What to remember:**\n",
    "You've implemented several functions that:\n",
    "- Initialize (w,b)\n",
    "- Optimize the loss iteratively to learn parameters (w,b):\n",
    "    - computing the cost and its gradient \n",
    "    - updating the parameters using gradient descent\n",
    "- Use the learned (w,b) to predict the labels for a given set of examples"
   ]
  },
  {
   "cell_type": "markdown",
   "metadata": {},
   "source": [
    "## 5 - Merge all functions into a model ##\n",
    "\n",
    "You will now see how the overall model is structured by putting together all the building blocks (functions implemented in the previous parts) together, in the right order.\n",
    "\n",
    "**Exercise:** Implement the model function. Use the following notation:\n",
    "    - Y_prediction_test for your predictions on the test set\n",
    "    - Y_prediction_train for your predictions on the train set\n",
    "    - w, costs, grads for the outputs of optimize()"
   ]
  },
  {
   "cell_type": "code",
   "execution_count": 19,
   "metadata": {},
   "outputs": [
    {
     "output_type": "execute_result",
     "data": {
      "text/plain": "12288"
     },
     "metadata": {},
     "execution_count": 19
    }
   ],
   "source": [
    "train_set_x.shape[0]"
   ]
  },
  {
   "cell_type": "code",
   "execution_count": 20,
   "metadata": {},
   "outputs": [
    {
     "output_type": "execute_result",
     "data": {
      "text/plain": "(12288, 50)"
     },
     "metadata": {},
     "execution_count": 20
    }
   ],
   "source": [
    "test_set_x.shape"
   ]
  },
  {
   "cell_type": "code",
   "execution_count": null,
   "metadata": {
    "collapsed": true
   },
   "outputs": [],
   "source": []
  },
  {
   "cell_type": "code",
   "execution_count": 21,
   "metadata": {
    "collapsed": true
   },
   "outputs": [],
   "source": [
    "# GRADED FUNCTION: model\n",
    "\n",
    "def model(X_train, Y_train, X_test, Y_test, num_iterations = 2000, learning_rate = 0.5, print_cost = False):\n",
    "    \"\"\"\n",
    "    Builds the logistic regression model by calling the function you've implemented previously\n",
    "    \n",
    "    Arguments:\n",
    "    X_train -- training set represented by a numpy array of shape (num_px * num_px * 3, m_train)\n",
    "    Y_train -- training labels represented by a numpy array (vector) of shape (1, m_train)\n",
    "    X_test -- test set represented by a numpy array of shape (num_px * num_px * 3, m_test)\n",
    "    Y_test -- test labels represented by a numpy array (vector) of shape (1, m_test)\n",
    "    num_iterations -- hyperparameter representing the number of iterations to optimize the parameters\n",
    "    learning_rate -- hyperparameter representing the learning rate used in the update rule of optimize()\n",
    "    print_cost -- Set to true to print the cost every 100 iterations\n",
    "    \n",
    "    Returns:\n",
    "    d -- dictionary containing information about the model.\n",
    "    \"\"\"\n",
    "    \n",
    "    ### START CODE HERE ###\n",
    "    \n",
    "    # initialize parameters with zeros (≈ 1 line of code)\n",
    "    w, b = initialize_with_zeros(X_train.shape[0])\n",
    "\n",
    "    # Gradient descent (≈ 1 line of code)\n",
    "    parameters, grads, costs = optimize(w, b, X_train, Y_train, num_iterations, learning_rate, print_cost)\n",
    "    \n",
    "    # Retrieve parameters w and b from dictionary \"parameters\"\n",
    "    w = parameters[\"w\"]\n",
    "    b = parameters[\"b\"]\n",
    "    \n",
    "    # Predict test/train set examples (≈ 2 lines of code)\n",
    "    Y_prediction_test = predict(w, b, X_test)\n",
    "    Y_prediction_train = predict(w, b, X_train)\n",
    "\n",
    "    ### END CODE HERE ###\n",
    "\n",
    "    # Print train/test Errors\n",
    "    print(\"train accuracy: {} %\".format(100 - np.mean(np.abs(Y_prediction_train - Y_train)) * 100))\n",
    "    print(\"test accuracy: {} %\".format(100 - np.mean(np.abs(Y_prediction_test - Y_test)) * 100))\n",
    "\n",
    "    \n",
    "    d = {\"costs\": costs,\n",
    "         \"Y_prediction_test\": Y_prediction_test, \n",
    "         \"Y_prediction_train\" : Y_prediction_train, \n",
    "         \"w\" : w, \n",
    "         \"b\" : b,\n",
    "         \"learning_rate\" : learning_rate,\n",
    "         \"num_iterations\": num_iterations}\n",
    "    \n",
    "    return d"
   ]
  },
  {
   "cell_type": "markdown",
   "metadata": {},
   "source": [
    "Run the following cell to train your model."
   ]
  },
  {
   "cell_type": "code",
   "execution_count": 22,
   "metadata": {
    "tags": []
   },
   "outputs": [
    {
     "output_type": "stream",
     "name": "stdout",
     "text": "Cost after iteration 0: 0.693147\nCost after iteration 100: 0.584508\nCost after iteration 200: 0.466949\nCost after iteration 300: 0.376007\nCost after iteration 400: 0.331463\nCost after iteration 500: 0.303273\nCost after iteration 600: 0.279880\nCost after iteration 700: 0.260042\nCost after iteration 800: 0.242941\nCost after iteration 900: 0.228004\nCost after iteration 1000: 0.214820\nCost after iteration 1100: 0.203078\nCost after iteration 1200: 0.192544\nCost after iteration 1300: 0.183033\nCost after iteration 1400: 0.174399\nCost after iteration 1500: 0.166521\nCost after iteration 1600: 0.159305\nCost after iteration 1700: 0.152667\nCost after iteration 1800: 0.146542\nCost after iteration 1900: 0.140872\ntrain accuracy: 99.04306220095694 %\ntest accuracy: 70.0 %\n"
    }
   ],
   "source": [
    "d = model(train_set_x, train_set_y, test_set_x, test_set_y, num_iterations = 2000, learning_rate = 0.005, print_cost = True)"
   ]
  },
  {
   "cell_type": "markdown",
   "metadata": {},
   "source": [
    "**Expected Output**: \n",
    "\n",
    "<table style=\"width:40%\"> \n",
    "\n",
    "    <tr>\n",
    "        <td> **Cost after iteration 0 **  </td> \n",
    "        <td> 0.693147 </td>\n",
    "    </tr>\n",
    "      <tr>\n",
    "        <td> <center> $\\vdots$ </center> </td> \n",
    "        <td> <center> $\\vdots$ </center> </td> \n",
    "    </tr>  \n",
    "    <tr>\n",
    "        <td> **Train Accuracy**  </td> \n",
    "        <td> 99.04306220095694 % </td>\n",
    "    </tr>\n",
    "\n",
    "    <tr>\n",
    "        <td>**Test Accuracy** </td> \n",
    "        <td> 70.0 % </td>\n",
    "    </tr>\n",
    "</table> \n",
    "\n",
    "\n"
   ]
  },
  {
   "cell_type": "markdown",
   "metadata": {},
   "source": [
    "**Comment**: Training accuracy is close to 100%. This is a good sanity check: your model is working and has high enough capacity to fit the training data. Test accuracy is 68%. It is actually not bad for this simple model, given the small dataset we used and that logistic regression is a linear classifier. But no worries, you'll build an even better classifier next week!\n",
    "\n",
    "Also, you see that the model is clearly overfitting the training data. Later in this specialization you will learn how to reduce overfitting, for example by using regularization. Using the code below (and changing the `index` variable) you can look at predictions on pictures of the test set."
   ]
  },
  {
   "cell_type": "code",
   "execution_count": 49,
   "metadata": {
    "tags": []
   },
   "outputs": [
    {
     "output_type": "stream",
     "name": "stdout",
     "text": "y = 1, you predicted that it is a \"cat\" picture.\n"
    },
    {
     "output_type": "display_data",
     "data": {
      "text/plain": "<Figure size 432x288 with 1 Axes>",
      "image/svg+xml": "<?xml version=\"1.0\" encoding=\"utf-8\" standalone=\"no\"?>\n<!DOCTYPE svg PUBLIC \"-//W3C//DTD SVG 1.1//EN\"\n  \"http://www.w3.org/Graphics/SVG/1.1/DTD/svg11.dtd\">\n<!-- Created with matplotlib (https://matplotlib.org/) -->\n<svg height=\"250.618594pt\" version=\"1.1\" viewBox=\"0 0 251.565 250.618594\" width=\"251.565pt\" xmlns=\"http://www.w3.org/2000/svg\" xmlns:xlink=\"http://www.w3.org/1999/xlink\">\n <defs>\n  <style type=\"text/css\">\n*{stroke-linecap:butt;stroke-linejoin:round;}\n  </style>\n </defs>\n <g id=\"figure_1\">\n  <g id=\"patch_1\">\n   <path d=\"M 0 250.618594 \nL 251.565 250.618594 \nL 251.565 0 \nL 0 0 \nz\n\" style=\"fill:none;\"/>\n  </g>\n  <g id=\"axes_1\">\n   <g id=\"patch_2\">\n    <path d=\"M 26.925 226.740469 \nL 244.365 226.740469 \nL 244.365 9.300469 \nL 26.925 9.300469 \nz\n\" style=\"fill:#ffffff;\"/>\n   </g>\n   <g clip-path=\"url(#p76b4bd4a92)\">\n    <image height=\"218\" id=\"image8ce5420693\" transform=\"scale(1 -1)translate(0 -218)\" width=\"218\" x=\"26.925\" xlink:href=\"data:image/png;base64,\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\" y=\"-8.740469\"/>\n   </g>\n   <g id=\"matplotlib.axis_1\">\n    <g id=\"xtick_1\">\n     <g id=\"line2d_1\">\n      <defs>\n       <path d=\"M 0 0 \nL 0 3.5 \n\" id=\"m55623603b0\" style=\"stroke:#000000;stroke-width:0.8;\"/>\n      </defs>\n      <g>\n       <use style=\"stroke:#000000;stroke-width:0.8;\" x=\"28.62375\" xlink:href=\"#m55623603b0\" y=\"226.740469\"/>\n      </g>\n     </g>\n     <g id=\"text_1\">\n      <!-- 0 -->\n      <defs>\n       <path d=\"M 31.78125 66.40625 \nQ 24.171875 66.40625 20.328125 58.90625 \nQ 16.5 51.421875 16.5 36.375 \nQ 16.5 21.390625 20.328125 13.890625 \nQ 24.171875 6.390625 31.78125 6.390625 \nQ 39.453125 6.390625 43.28125 13.890625 \nQ 47.125 21.390625 47.125 36.375 \nQ 47.125 51.421875 43.28125 58.90625 \nQ 39.453125 66.40625 31.78125 66.40625 \nz\nM 31.78125 74.21875 \nQ 44.046875 74.21875 50.515625 64.515625 \nQ 56.984375 54.828125 56.984375 36.375 \nQ 56.984375 17.96875 50.515625 8.265625 \nQ 44.046875 -1.421875 31.78125 -1.421875 \nQ 19.53125 -1.421875 13.0625 8.265625 \nQ 6.59375 17.96875 6.59375 36.375 \nQ 6.59375 54.828125 13.0625 64.515625 \nQ 19.53125 74.21875 31.78125 74.21875 \nz\n\" id=\"DejaVuSans-48\"/>\n      </defs>\n      <g transform=\"translate(25.4425 241.338906)scale(0.1 -0.1)\">\n       <use xlink:href=\"#DejaVuSans-48\"/>\n      </g>\n     </g>\n    </g>\n    <g id=\"xtick_2\">\n     <g id=\"line2d_2\">\n      <g>\n       <use style=\"stroke:#000000;stroke-width:0.8;\" x=\"62.59875\" xlink:href=\"#m55623603b0\" y=\"226.740469\"/>\n      </g>\n     </g>\n     <g id=\"text_2\">\n      <!-- 10 -->\n      <defs>\n       <path d=\"M 12.40625 8.296875 \nL 28.515625 8.296875 \nL 28.515625 63.921875 \nL 10.984375 60.40625 \nL 10.984375 69.390625 \nL 28.421875 72.90625 \nL 38.28125 72.90625 \nL 38.28125 8.296875 \nL 54.390625 8.296875 \nL 54.390625 0 \nL 12.40625 0 \nz\n\" id=\"DejaVuSans-49\"/>\n      </defs>\n      <g transform=\"translate(56.23625 241.338906)scale(0.1 -0.1)\">\n       <use xlink:href=\"#DejaVuSans-49\"/>\n       <use x=\"63.623047\" xlink:href=\"#DejaVuSans-48\"/>\n      </g>\n     </g>\n    </g>\n    <g id=\"xtick_3\">\n     <g id=\"line2d_3\">\n      <g>\n       <use style=\"stroke:#000000;stroke-width:0.8;\" x=\"96.57375\" xlink:href=\"#m55623603b0\" y=\"226.740469\"/>\n      </g>\n     </g>\n     <g id=\"text_3\">\n      <!-- 20 -->\n      <defs>\n       <path d=\"M 19.1875 8.296875 \nL 53.609375 8.296875 \nL 53.609375 0 \nL 7.328125 0 \nL 7.328125 8.296875 \nQ 12.9375 14.109375 22.625 23.890625 \nQ 32.328125 33.6875 34.8125 36.53125 \nQ 39.546875 41.84375 41.421875 45.53125 \nQ 43.3125 49.21875 43.3125 52.78125 \nQ 43.3125 58.59375 39.234375 62.25 \nQ 35.15625 65.921875 28.609375 65.921875 \nQ 23.96875 65.921875 18.8125 64.3125 \nQ 13.671875 62.703125 7.8125 59.421875 \nL 7.8125 69.390625 \nQ 13.765625 71.78125 18.9375 73 \nQ 24.125 74.21875 28.421875 74.21875 \nQ 39.75 74.21875 46.484375 68.546875 \nQ 53.21875 62.890625 53.21875 53.421875 \nQ 53.21875 48.921875 51.53125 44.890625 \nQ 49.859375 40.875 45.40625 35.40625 \nQ 44.1875 33.984375 37.640625 27.21875 \nQ 31.109375 20.453125 19.1875 8.296875 \nz\n\" id=\"DejaVuSans-50\"/>\n      </defs>\n      <g transform=\"translate(90.21125 241.338906)scale(0.1 -0.1)\">\n       <use xlink:href=\"#DejaVuSans-50\"/>\n       <use x=\"63.623047\" xlink:href=\"#DejaVuSans-48\"/>\n      </g>\n     </g>\n    </g>\n    <g id=\"xtick_4\">\n     <g id=\"line2d_4\">\n      <g>\n       <use style=\"stroke:#000000;stroke-width:0.8;\" x=\"130.54875\" xlink:href=\"#m55623603b0\" y=\"226.740469\"/>\n      </g>\n     </g>\n     <g id=\"text_4\">\n      <!-- 30 -->\n      <defs>\n       <path d=\"M 40.578125 39.3125 \nQ 47.65625 37.796875 51.625 33 \nQ 55.609375 28.21875 55.609375 21.1875 \nQ 55.609375 10.40625 48.1875 4.484375 \nQ 40.765625 -1.421875 27.09375 -1.421875 \nQ 22.515625 -1.421875 17.65625 -0.515625 \nQ 12.796875 0.390625 7.625 2.203125 \nL 7.625 11.71875 \nQ 11.71875 9.328125 16.59375 8.109375 \nQ 21.484375 6.890625 26.8125 6.890625 \nQ 36.078125 6.890625 40.9375 10.546875 \nQ 45.796875 14.203125 45.796875 21.1875 \nQ 45.796875 27.640625 41.28125 31.265625 \nQ 36.765625 34.90625 28.71875 34.90625 \nL 20.21875 34.90625 \nL 20.21875 43.015625 \nL 29.109375 43.015625 \nQ 36.375 43.015625 40.234375 45.921875 \nQ 44.09375 48.828125 44.09375 54.296875 \nQ 44.09375 59.90625 40.109375 62.90625 \nQ 36.140625 65.921875 28.71875 65.921875 \nQ 24.65625 65.921875 20.015625 65.03125 \nQ 15.375 64.15625 9.8125 62.3125 \nL 9.8125 71.09375 \nQ 15.4375 72.65625 20.34375 73.4375 \nQ 25.25 74.21875 29.59375 74.21875 \nQ 40.828125 74.21875 47.359375 69.109375 \nQ 53.90625 64.015625 53.90625 55.328125 \nQ 53.90625 49.265625 50.4375 45.09375 \nQ 46.96875 40.921875 40.578125 39.3125 \nz\n\" id=\"DejaVuSans-51\"/>\n      </defs>\n      <g transform=\"translate(124.18625 241.338906)scale(0.1 -0.1)\">\n       <use xlink:href=\"#DejaVuSans-51\"/>\n       <use x=\"63.623047\" xlink:href=\"#DejaVuSans-48\"/>\n      </g>\n     </g>\n    </g>\n    <g id=\"xtick_5\">\n     <g id=\"line2d_5\">\n      <g>\n       <use style=\"stroke:#000000;stroke-width:0.8;\" x=\"164.52375\" xlink:href=\"#m55623603b0\" y=\"226.740469\"/>\n      </g>\n     </g>\n     <g id=\"text_5\">\n      <!-- 40 -->\n      <defs>\n       <path d=\"M 37.796875 64.3125 \nL 12.890625 25.390625 \nL 37.796875 25.390625 \nz\nM 35.203125 72.90625 \nL 47.609375 72.90625 \nL 47.609375 25.390625 \nL 58.015625 25.390625 \nL 58.015625 17.1875 \nL 47.609375 17.1875 \nL 47.609375 0 \nL 37.796875 0 \nL 37.796875 17.1875 \nL 4.890625 17.1875 \nL 4.890625 26.703125 \nz\n\" id=\"DejaVuSans-52\"/>\n      </defs>\n      <g transform=\"translate(158.16125 241.338906)scale(0.1 -0.1)\">\n       <use xlink:href=\"#DejaVuSans-52\"/>\n       <use x=\"63.623047\" xlink:href=\"#DejaVuSans-48\"/>\n      </g>\n     </g>\n    </g>\n    <g id=\"xtick_6\">\n     <g id=\"line2d_6\">\n      <g>\n       <use style=\"stroke:#000000;stroke-width:0.8;\" x=\"198.49875\" xlink:href=\"#m55623603b0\" y=\"226.740469\"/>\n      </g>\n     </g>\n     <g id=\"text_6\">\n      <!-- 50 -->\n      <defs>\n       <path d=\"M 10.796875 72.90625 \nL 49.515625 72.90625 \nL 49.515625 64.59375 \nL 19.828125 64.59375 \nL 19.828125 46.734375 \nQ 21.96875 47.46875 24.109375 47.828125 \nQ 26.265625 48.1875 28.421875 48.1875 \nQ 40.625 48.1875 47.75 41.5 \nQ 54.890625 34.8125 54.890625 23.390625 \nQ 54.890625 11.625 47.5625 5.09375 \nQ 40.234375 -1.421875 26.90625 -1.421875 \nQ 22.3125 -1.421875 17.546875 -0.640625 \nQ 12.796875 0.140625 7.71875 1.703125 \nL 7.71875 11.625 \nQ 12.109375 9.234375 16.796875 8.0625 \nQ 21.484375 6.890625 26.703125 6.890625 \nQ 35.15625 6.890625 40.078125 11.328125 \nQ 45.015625 15.765625 45.015625 23.390625 \nQ 45.015625 31 40.078125 35.4375 \nQ 35.15625 39.890625 26.703125 39.890625 \nQ 22.75 39.890625 18.8125 39.015625 \nQ 14.890625 38.140625 10.796875 36.28125 \nz\n\" id=\"DejaVuSans-53\"/>\n      </defs>\n      <g transform=\"translate(192.13625 241.338906)scale(0.1 -0.1)\">\n       <use xlink:href=\"#DejaVuSans-53\"/>\n       <use x=\"63.623047\" xlink:href=\"#DejaVuSans-48\"/>\n      </g>\n     </g>\n    </g>\n    <g id=\"xtick_7\">\n     <g id=\"line2d_7\">\n      <g>\n       <use style=\"stroke:#000000;stroke-width:0.8;\" x=\"232.47375\" xlink:href=\"#m55623603b0\" y=\"226.740469\"/>\n      </g>\n     </g>\n     <g id=\"text_7\">\n      <!-- 60 -->\n      <defs>\n       <path d=\"M 33.015625 40.375 \nQ 26.375 40.375 22.484375 35.828125 \nQ 18.609375 31.296875 18.609375 23.390625 \nQ 18.609375 15.53125 22.484375 10.953125 \nQ 26.375 6.390625 33.015625 6.390625 \nQ 39.65625 6.390625 43.53125 10.953125 \nQ 47.40625 15.53125 47.40625 23.390625 \nQ 47.40625 31.296875 43.53125 35.828125 \nQ 39.65625 40.375 33.015625 40.375 \nz\nM 52.59375 71.296875 \nL 52.59375 62.3125 \nQ 48.875 64.0625 45.09375 64.984375 \nQ 41.3125 65.921875 37.59375 65.921875 \nQ 27.828125 65.921875 22.671875 59.328125 \nQ 17.53125 52.734375 16.796875 39.40625 \nQ 19.671875 43.65625 24.015625 45.921875 \nQ 28.375 48.1875 33.59375 48.1875 \nQ 44.578125 48.1875 50.953125 41.515625 \nQ 57.328125 34.859375 57.328125 23.390625 \nQ 57.328125 12.15625 50.6875 5.359375 \nQ 44.046875 -1.421875 33.015625 -1.421875 \nQ 20.359375 -1.421875 13.671875 8.265625 \nQ 6.984375 17.96875 6.984375 36.375 \nQ 6.984375 53.65625 15.1875 63.9375 \nQ 23.390625 74.21875 37.203125 74.21875 \nQ 40.921875 74.21875 44.703125 73.484375 \nQ 48.484375 72.75 52.59375 71.296875 \nz\n\" id=\"DejaVuSans-54\"/>\n      </defs>\n      <g transform=\"translate(226.11125 241.338906)scale(0.1 -0.1)\">\n       <use xlink:href=\"#DejaVuSans-54\"/>\n       <use x=\"63.623047\" xlink:href=\"#DejaVuSans-48\"/>\n      </g>\n     </g>\n    </g>\n   </g>\n   <g id=\"matplotlib.axis_2\">\n    <g id=\"ytick_1\">\n     <g id=\"line2d_8\">\n      <defs>\n       <path d=\"M 0 0 \nL -3.5 0 \n\" id=\"m9ee652dde3\" style=\"stroke:#000000;stroke-width:0.8;\"/>\n      </defs>\n      <g>\n       <use style=\"stroke:#000000;stroke-width:0.8;\" x=\"26.925\" xlink:href=\"#m9ee652dde3\" y=\"10.999219\"/>\n      </g>\n     </g>\n     <g id=\"text_8\">\n      <!-- 0 -->\n      <g transform=\"translate(13.5625 14.798437)scale(0.1 -0.1)\">\n       <use xlink:href=\"#DejaVuSans-48\"/>\n      </g>\n     </g>\n    </g>\n    <g id=\"ytick_2\">\n     <g id=\"line2d_9\">\n      <g>\n       <use style=\"stroke:#000000;stroke-width:0.8;\" x=\"26.925\" xlink:href=\"#m9ee652dde3\" y=\"44.974219\"/>\n      </g>\n     </g>\n     <g id=\"text_9\">\n      <!-- 10 -->\n      <g transform=\"translate(7.2 48.773437)scale(0.1 -0.1)\">\n       <use xlink:href=\"#DejaVuSans-49\"/>\n       <use x=\"63.623047\" xlink:href=\"#DejaVuSans-48\"/>\n      </g>\n     </g>\n    </g>\n    <g id=\"ytick_3\">\n     <g id=\"line2d_10\">\n      <g>\n       <use style=\"stroke:#000000;stroke-width:0.8;\" x=\"26.925\" xlink:href=\"#m9ee652dde3\" y=\"78.949219\"/>\n      </g>\n     </g>\n     <g id=\"text_10\">\n      <!-- 20 -->\n      <g transform=\"translate(7.2 82.748437)scale(0.1 -0.1)\">\n       <use xlink:href=\"#DejaVuSans-50\"/>\n       <use x=\"63.623047\" xlink:href=\"#DejaVuSans-48\"/>\n      </g>\n     </g>\n    </g>\n    <g id=\"ytick_4\">\n     <g id=\"line2d_11\">\n      <g>\n       <use style=\"stroke:#000000;stroke-width:0.8;\" x=\"26.925\" xlink:href=\"#m9ee652dde3\" y=\"112.924219\"/>\n      </g>\n     </g>\n     <g id=\"text_11\">\n      <!-- 30 -->\n      <g transform=\"translate(7.2 116.723437)scale(0.1 -0.1)\">\n       <use xlink:href=\"#DejaVuSans-51\"/>\n       <use x=\"63.623047\" xlink:href=\"#DejaVuSans-48\"/>\n      </g>\n     </g>\n    </g>\n    <g id=\"ytick_5\">\n     <g id=\"line2d_12\">\n      <g>\n       <use style=\"stroke:#000000;stroke-width:0.8;\" x=\"26.925\" xlink:href=\"#m9ee652dde3\" y=\"146.899219\"/>\n      </g>\n     </g>\n     <g id=\"text_12\">\n      <!-- 40 -->\n      <g transform=\"translate(7.2 150.698437)scale(0.1 -0.1)\">\n       <use xlink:href=\"#DejaVuSans-52\"/>\n       <use x=\"63.623047\" xlink:href=\"#DejaVuSans-48\"/>\n      </g>\n     </g>\n    </g>\n    <g id=\"ytick_6\">\n     <g id=\"line2d_13\">\n      <g>\n       <use style=\"stroke:#000000;stroke-width:0.8;\" x=\"26.925\" xlink:href=\"#m9ee652dde3\" y=\"180.874219\"/>\n      </g>\n     </g>\n     <g id=\"text_13\">\n      <!-- 50 -->\n      <g transform=\"translate(7.2 184.673437)scale(0.1 -0.1)\">\n       <use xlink:href=\"#DejaVuSans-53\"/>\n       <use x=\"63.623047\" xlink:href=\"#DejaVuSans-48\"/>\n      </g>\n     </g>\n    </g>\n    <g id=\"ytick_7\">\n     <g id=\"line2d_14\">\n      <g>\n       <use style=\"stroke:#000000;stroke-width:0.8;\" x=\"26.925\" xlink:href=\"#m9ee652dde3\" y=\"214.849219\"/>\n      </g>\n     </g>\n     <g id=\"text_14\">\n      <!-- 60 -->\n      <g transform=\"translate(7.2 218.648437)scale(0.1 -0.1)\">\n       <use xlink:href=\"#DejaVuSans-54\"/>\n       <use x=\"63.623047\" xlink:href=\"#DejaVuSans-48\"/>\n      </g>\n     </g>\n    </g>\n   </g>\n   <g id=\"patch_3\">\n    <path d=\"M 26.925 226.740469 \nL 26.925 9.300469 \n\" style=\"fill:none;stroke:#000000;stroke-linecap:square;stroke-linejoin:miter;stroke-width:0.8;\"/>\n   </g>\n   <g id=\"patch_4\">\n    <path d=\"M 244.365 226.740469 \nL 244.365 9.300469 \n\" style=\"fill:none;stroke:#000000;stroke-linecap:square;stroke-linejoin:miter;stroke-width:0.8;\"/>\n   </g>\n   <g id=\"patch_5\">\n    <path d=\"M 26.925 226.740469 \nL 244.365 226.740469 \n\" style=\"fill:none;stroke:#000000;stroke-linecap:square;stroke-linejoin:miter;stroke-width:0.8;\"/>\n   </g>\n   <g id=\"patch_6\">\n    <path d=\"M 26.925 9.300469 \nL 244.365 9.300469 \n\" style=\"fill:none;stroke:#000000;stroke-linecap:square;stroke-linejoin:miter;stroke-width:0.8;\"/>\n   </g>\n  </g>\n </g>\n <defs>\n  <clipPath id=\"p76b4bd4a92\">\n   <rect height=\"217.44\" width=\"217.44\" x=\"26.925\" y=\"9.300469\"/>\n  </clipPath>\n </defs>\n</svg>\n",
      "image/png": "[encoded data removed]"
     },
     "metadata": {
      "needs_background": "light"
     }
    }
   ],
   "source": [
    "# Example of a picture that was wrongly classified.\n",
    "index = 1\n",
    "plt.imshow(test_set_x[:,index].reshape((num_px, num_px, 3)))\n",
    "print (\"y = \" + str(test_set_y[0,index]) + \", you predicted that it is a \\\"\" + classes[int(d[\"Y_prediction_test\"][0,index])].decode(\"utf-8\") +  \"\\\" picture.\")"
   ]
  },
  {
   "cell_type": "markdown",
   "metadata": {},
   "source": [
    "Let's also plot the cost function and the gradients."
   ]
  },
  {
   "cell_type": "code",
   "execution_count": 50,
   "metadata": {},
   "outputs": [
    {
     "output_type": "display_data",
     "data": {
      "text/plain": "<Figure size 432x288 with 1 Axes>",
      "image/svg+xml": "<?xml version=\"1.0\" encoding=\"utf-8\" standalone=\"no\"?>\n<!DOCTYPE svg PUBLIC \"-//W3C//DTD SVG 1.1//EN\"\n  \"http://www.w3.org/Graphics/SVG/1.1/DTD/svg11.dtd\">\n<!-- Created with matplotlib (https://matplotlib.org/) -->\n<svg height=\"277.314375pt\" version=\"1.1\" viewBox=\"0 0 385.78125 277.314375\" width=\"385.78125pt\" xmlns=\"http://www.w3.org/2000/svg\" xmlns:xlink=\"http://www.w3.org/1999/xlink\">\n <defs>\n  <style type=\"text/css\">\n*{stroke-linecap:butt;stroke-linejoin:round;}\n  </style>\n </defs>\n <g id=\"figure_1\">\n  <g id=\"patch_1\">\n   <path d=\"M 0 277.314375 \nL 385.78125 277.314375 \nL 385.78125 0 \nL 0 0 \nz\n\" style=\"fill:none;\"/>\n  </g>\n  <g id=\"axes_1\">\n   <g id=\"patch_2\">\n    <path d=\"M 43.78125 239.758125 \nL 378.58125 239.758125 \nL 378.58125 22.318125 \nL 43.78125 22.318125 \nz\n\" style=\"fill:#ffffff;\"/>\n   </g>\n   <g id=\"matplotlib.axis_1\">\n    <g id=\"xtick_1\">\n     <g id=\"line2d_1\">\n      <defs>\n       <path d=\"M 0 0 \nL 0 3.5 \n\" id=\"mf53b90a60c\" style=\"stroke:#000000;stroke-width:0.8;\"/>\n      </defs>\n      <g>\n       <use style=\"stroke:#000000;stroke-width:0.8;\" x=\"58.999432\" xlink:href=\"#mf53b90a60c\" y=\"239.758125\"/>\n      </g>\n     </g>\n     <g id=\"text_1\">\n      <!-- 0.0 -->\n      <defs>\n       <path d=\"M 31.78125 66.40625 \nQ 24.171875 66.40625 20.328125 58.90625 \nQ 16.5 51.421875 16.5 36.375 \nQ 16.5 21.390625 20.328125 13.890625 \nQ 24.171875 6.390625 31.78125 6.390625 \nQ 39.453125 6.390625 43.28125 13.890625 \nQ 47.125 21.390625 47.125 36.375 \nQ 47.125 51.421875 43.28125 58.90625 \nQ 39.453125 66.40625 31.78125 66.40625 \nz\nM 31.78125 74.21875 \nQ 44.046875 74.21875 50.515625 64.515625 \nQ 56.984375 54.828125 56.984375 36.375 \nQ 56.984375 17.96875 50.515625 8.265625 \nQ 44.046875 -1.421875 31.78125 -1.421875 \nQ 19.53125 -1.421875 13.0625 8.265625 \nQ 6.59375 17.96875 6.59375 36.375 \nQ 6.59375 54.828125 13.0625 64.515625 \nQ 19.53125 74.21875 31.78125 74.21875 \nz\n\" id=\"DejaVuSans-48\"/>\n       <path d=\"M 10.6875 12.40625 \nL 21 12.40625 \nL 21 0 \nL 10.6875 0 \nz\n\" id=\"DejaVuSans-46\"/>\n      </defs>\n      <g transform=\"translate(51.047869 254.356562)scale(0.1 -0.1)\">\n       <use xlink:href=\"#DejaVuSans-48\"/>\n       <use x=\"63.623047\" xlink:href=\"#DejaVuSans-46\"/>\n       <use x=\"95.410156\" xlink:href=\"#DejaVuSans-48\"/>\n      </g>\n     </g>\n    </g>\n    <g id=\"xtick_2\">\n     <g id=\"line2d_2\">\n      <g>\n       <use style=\"stroke:#000000;stroke-width:0.8;\" x=\"99.047279\" xlink:href=\"#mf53b90a60c\" y=\"239.758125\"/>\n      </g>\n     </g>\n     <g id=\"text_2\">\n      <!-- 2.5 -->\n      <defs>\n       <path d=\"M 19.1875 8.296875 \nL 53.609375 8.296875 \nL 53.609375 0 \nL 7.328125 0 \nL 7.328125 8.296875 \nQ 12.9375 14.109375 22.625 23.890625 \nQ 32.328125 33.6875 34.8125 36.53125 \nQ 39.546875 41.84375 41.421875 45.53125 \nQ 43.3125 49.21875 43.3125 52.78125 \nQ 43.3125 58.59375 39.234375 62.25 \nQ 35.15625 65.921875 28.609375 65.921875 \nQ 23.96875 65.921875 18.8125 64.3125 \nQ 13.671875 62.703125 7.8125 59.421875 \nL 7.8125 69.390625 \nQ 13.765625 71.78125 18.9375 73 \nQ 24.125 74.21875 28.421875 74.21875 \nQ 39.75 74.21875 46.484375 68.546875 \nQ 53.21875 62.890625 53.21875 53.421875 \nQ 53.21875 48.921875 51.53125 44.890625 \nQ 49.859375 40.875 45.40625 35.40625 \nQ 44.1875 33.984375 37.640625 27.21875 \nQ 31.109375 20.453125 19.1875 8.296875 \nz\n\" id=\"DejaVuSans-50\"/>\n       <path d=\"M 10.796875 72.90625 \nL 49.515625 72.90625 \nL 49.515625 64.59375 \nL 19.828125 64.59375 \nL 19.828125 46.734375 \nQ 21.96875 47.46875 24.109375 47.828125 \nQ 26.265625 48.1875 28.421875 48.1875 \nQ 40.625 48.1875 47.75 41.5 \nQ 54.890625 34.8125 54.890625 23.390625 \nQ 54.890625 11.625 47.5625 5.09375 \nQ 40.234375 -1.421875 26.90625 -1.421875 \nQ 22.3125 -1.421875 17.546875 -0.640625 \nQ 12.796875 0.140625 7.71875 1.703125 \nL 7.71875 11.625 \nQ 12.109375 9.234375 16.796875 8.0625 \nQ 21.484375 6.890625 26.703125 6.890625 \nQ 35.15625 6.890625 40.078125 11.328125 \nQ 45.015625 15.765625 45.015625 23.390625 \nQ 45.015625 31 40.078125 35.4375 \nQ 35.15625 39.890625 26.703125 39.890625 \nQ 22.75 39.890625 18.8125 39.015625 \nQ 14.890625 38.140625 10.796875 36.28125 \nz\n\" id=\"DejaVuSans-53\"/>\n      </defs>\n      <g transform=\"translate(91.095716 254.356562)scale(0.1 -0.1)\">\n       <use xlink:href=\"#DejaVuSans-50\"/>\n       <use x=\"63.623047\" xlink:href=\"#DejaVuSans-46\"/>\n       <use x=\"95.410156\" xlink:href=\"#DejaVuSans-53\"/>\n      </g>\n     </g>\n    </g>\n    <g id=\"xtick_3\">\n     <g id=\"line2d_3\">\n      <g>\n       <use style=\"stroke:#000000;stroke-width:0.8;\" x=\"139.095126\" xlink:href=\"#mf53b90a60c\" y=\"239.758125\"/>\n      </g>\n     </g>\n     <g id=\"text_3\">\n      <!-- 5.0 -->\n      <g transform=\"translate(131.143563 254.356562)scale(0.1 -0.1)\">\n       <use xlink:href=\"#DejaVuSans-53\"/>\n       <use x=\"63.623047\" xlink:href=\"#DejaVuSans-46\"/>\n       <use x=\"95.410156\" xlink:href=\"#DejaVuSans-48\"/>\n      </g>\n     </g>\n    </g>\n    <g id=\"xtick_4\">\n     <g id=\"line2d_4\">\n      <g>\n       <use style=\"stroke:#000000;stroke-width:0.8;\" x=\"179.142972\" xlink:href=\"#mf53b90a60c\" y=\"239.758125\"/>\n      </g>\n     </g>\n     <g id=\"text_4\">\n      <!-- 7.5 -->\n      <defs>\n       <path d=\"M 8.203125 72.90625 \nL 55.078125 72.90625 \nL 55.078125 68.703125 \nL 28.609375 0 \nL 18.3125 0 \nL 43.21875 64.59375 \nL 8.203125 64.59375 \nz\n\" id=\"DejaVuSans-55\"/>\n      </defs>\n      <g transform=\"translate(171.19141 254.356562)scale(0.1 -0.1)\">\n       <use xlink:href=\"#DejaVuSans-55\"/>\n       <use x=\"63.623047\" xlink:href=\"#DejaVuSans-46\"/>\n       <use x=\"95.410156\" xlink:href=\"#DejaVuSans-53\"/>\n      </g>\n     </g>\n    </g>\n    <g id=\"xtick_5\">\n     <g id=\"line2d_5\">\n      <g>\n       <use style=\"stroke:#000000;stroke-width:0.8;\" x=\"219.190819\" xlink:href=\"#mf53b90a60c\" y=\"239.758125\"/>\n      </g>\n     </g>\n     <g id=\"text_5\">\n      <!-- 10.0 -->\n      <defs>\n       <path d=\"M 12.40625 8.296875 \nL 28.515625 8.296875 \nL 28.515625 63.921875 \nL 10.984375 60.40625 \nL 10.984375 69.390625 \nL 28.421875 72.90625 \nL 38.28125 72.90625 \nL 38.28125 8.296875 \nL 54.390625 8.296875 \nL 54.390625 0 \nL 12.40625 0 \nz\n\" id=\"DejaVuSans-49\"/>\n      </defs>\n      <g transform=\"translate(208.058007 254.356562)scale(0.1 -0.1)\">\n       <use xlink:href=\"#DejaVuSans-49\"/>\n       <use x=\"63.623047\" xlink:href=\"#DejaVuSans-48\"/>\n       <use x=\"127.246094\" xlink:href=\"#DejaVuSans-46\"/>\n       <use x=\"159.033203\" xlink:href=\"#DejaVuSans-48\"/>\n      </g>\n     </g>\n    </g>\n    <g id=\"xtick_6\">\n     <g id=\"line2d_6\">\n      <g>\n       <use style=\"stroke:#000000;stroke-width:0.8;\" x=\"259.238666\" xlink:href=\"#mf53b90a60c\" y=\"239.758125\"/>\n      </g>\n     </g>\n     <g id=\"text_6\">\n      <!-- 12.5 -->\n      <g transform=\"translate(248.105854 254.356562)scale(0.1 -0.1)\">\n       <use xlink:href=\"#DejaVuSans-49\"/>\n       <use x=\"63.623047\" xlink:href=\"#DejaVuSans-50\"/>\n       <use x=\"127.246094\" xlink:href=\"#DejaVuSans-46\"/>\n       <use x=\"159.033203\" xlink:href=\"#DejaVuSans-53\"/>\n      </g>\n     </g>\n    </g>\n    <g id=\"xtick_7\">\n     <g id=\"line2d_7\">\n      <g>\n       <use style=\"stroke:#000000;stroke-width:0.8;\" x=\"299.286513\" xlink:href=\"#mf53b90a60c\" y=\"239.758125\"/>\n      </g>\n     </g>\n     <g id=\"text_7\">\n      <!-- 15.0 -->\n      <g transform=\"translate(288.153701 254.356562)scale(0.1 -0.1)\">\n       <use xlink:href=\"#DejaVuSans-49\"/>\n       <use x=\"63.623047\" xlink:href=\"#DejaVuSans-53\"/>\n       <use x=\"127.246094\" xlink:href=\"#DejaVuSans-46\"/>\n       <use x=\"159.033203\" xlink:href=\"#DejaVuSans-48\"/>\n      </g>\n     </g>\n    </g>\n    <g id=\"xtick_8\">\n     <g id=\"line2d_8\">\n      <g>\n       <use style=\"stroke:#000000;stroke-width:0.8;\" x=\"339.33436\" xlink:href=\"#mf53b90a60c\" y=\"239.758125\"/>\n      </g>\n     </g>\n     <g id=\"text_8\">\n      <!-- 17.5 -->\n      <g transform=\"translate(328.201548 254.356562)scale(0.1 -0.1)\">\n       <use xlink:href=\"#DejaVuSans-49\"/>\n       <use x=\"63.623047\" xlink:href=\"#DejaVuSans-55\"/>\n       <use x=\"127.246094\" xlink:href=\"#DejaVuSans-46\"/>\n       <use x=\"159.033203\" xlink:href=\"#DejaVuSans-53\"/>\n      </g>\n     </g>\n    </g>\n    <g id=\"text_9\">\n     <!-- iterations (per hundreds) -->\n     <defs>\n      <path d=\"M 9.421875 54.6875 \nL 18.40625 54.6875 \nL 18.40625 0 \nL 9.421875 0 \nz\nM 9.421875 75.984375 \nL 18.40625 75.984375 \nL 18.40625 64.59375 \nL 9.421875 64.59375 \nz\n\" id=\"DejaVuSans-105\"/>\n      <path d=\"M 18.3125 70.21875 \nL 18.3125 54.6875 \nL 36.8125 54.6875 \nL 36.8125 47.703125 \nL 18.3125 47.703125 \nL 18.3125 18.015625 \nQ 18.3125 11.328125 20.140625 9.421875 \nQ 21.96875 7.515625 27.59375 7.515625 \nL 36.8125 7.515625 \nL 36.8125 0 \nL 27.59375 0 \nQ 17.1875 0 13.234375 3.875 \nQ 9.28125 7.765625 9.28125 18.015625 \nL 9.28125 47.703125 \nL 2.6875 47.703125 \nL 2.6875 54.6875 \nL 9.28125 54.6875 \nL 9.28125 70.21875 \nz\n\" id=\"DejaVuSans-116\"/>\n      <path d=\"M 56.203125 29.59375 \nL 56.203125 25.203125 \nL 14.890625 25.203125 \nQ 15.484375 15.921875 20.484375 11.0625 \nQ 25.484375 6.203125 34.421875 6.203125 \nQ 39.59375 6.203125 44.453125 7.46875 \nQ 49.3125 8.734375 54.109375 11.28125 \nL 54.109375 2.78125 \nQ 49.265625 0.734375 44.1875 -0.34375 \nQ 39.109375 -1.421875 33.890625 -1.421875 \nQ 20.796875 -1.421875 13.15625 6.1875 \nQ 5.515625 13.8125 5.515625 26.8125 \nQ 5.515625 40.234375 12.765625 48.109375 \nQ 20.015625 56 32.328125 56 \nQ 43.359375 56 49.78125 48.890625 \nQ 56.203125 41.796875 56.203125 29.59375 \nz\nM 47.21875 32.234375 \nQ 47.125 39.59375 43.09375 43.984375 \nQ 39.0625 48.390625 32.421875 48.390625 \nQ 24.90625 48.390625 20.390625 44.140625 \nQ 15.875 39.890625 15.1875 32.171875 \nz\n\" id=\"DejaVuSans-101\"/>\n      <path d=\"M 41.109375 46.296875 \nQ 39.59375 47.171875 37.8125 47.578125 \nQ 36.03125 48 33.890625 48 \nQ 26.265625 48 22.1875 43.046875 \nQ 18.109375 38.09375 18.109375 28.8125 \nL 18.109375 0 \nL 9.078125 0 \nL 9.078125 54.6875 \nL 18.109375 54.6875 \nL 18.109375 46.1875 \nQ 20.953125 51.171875 25.484375 53.578125 \nQ 30.03125 56 36.53125 56 \nQ 37.453125 56 38.578125 55.875 \nQ 39.703125 55.765625 41.0625 55.515625 \nz\n\" id=\"DejaVuSans-114\"/>\n      <path d=\"M 34.28125 27.484375 \nQ 23.390625 27.484375 19.1875 25 \nQ 14.984375 22.515625 14.984375 16.5 \nQ 14.984375 11.71875 18.140625 8.90625 \nQ 21.296875 6.109375 26.703125 6.109375 \nQ 34.1875 6.109375 38.703125 11.40625 \nQ 43.21875 16.703125 43.21875 25.484375 \nL 43.21875 27.484375 \nz\nM 52.203125 31.203125 \nL 52.203125 0 \nL 43.21875 0 \nL 43.21875 8.296875 \nQ 40.140625 3.328125 35.546875 0.953125 \nQ 30.953125 -1.421875 24.3125 -1.421875 \nQ 15.921875 -1.421875 10.953125 3.296875 \nQ 6 8.015625 6 15.921875 \nQ 6 25.140625 12.171875 29.828125 \nQ 18.359375 34.515625 30.609375 34.515625 \nL 43.21875 34.515625 \nL 43.21875 35.40625 \nQ 43.21875 41.609375 39.140625 45 \nQ 35.0625 48.390625 27.6875 48.390625 \nQ 23 48.390625 18.546875 47.265625 \nQ 14.109375 46.140625 10.015625 43.890625 \nL 10.015625 52.203125 \nQ 14.9375 54.109375 19.578125 55.046875 \nQ 24.21875 56 28.609375 56 \nQ 40.484375 56 46.34375 49.84375 \nQ 52.203125 43.703125 52.203125 31.203125 \nz\n\" id=\"DejaVuSans-97\"/>\n      <path d=\"M 30.609375 48.390625 \nQ 23.390625 48.390625 19.1875 42.75 \nQ 14.984375 37.109375 14.984375 27.296875 \nQ 14.984375 17.484375 19.15625 11.84375 \nQ 23.34375 6.203125 30.609375 6.203125 \nQ 37.796875 6.203125 41.984375 11.859375 \nQ 46.1875 17.53125 46.1875 27.296875 \nQ 46.1875 37.015625 41.984375 42.703125 \nQ 37.796875 48.390625 30.609375 48.390625 \nz\nM 30.609375 56 \nQ 42.328125 56 49.015625 48.375 \nQ 55.71875 40.765625 55.71875 27.296875 \nQ 55.71875 13.875 49.015625 6.21875 \nQ 42.328125 -1.421875 30.609375 -1.421875 \nQ 18.84375 -1.421875 12.171875 6.21875 \nQ 5.515625 13.875 5.515625 27.296875 \nQ 5.515625 40.765625 12.171875 48.375 \nQ 18.84375 56 30.609375 56 \nz\n\" id=\"DejaVuSans-111\"/>\n      <path d=\"M 54.890625 33.015625 \nL 54.890625 0 \nL 45.90625 0 \nL 45.90625 32.71875 \nQ 45.90625 40.484375 42.875 44.328125 \nQ 39.84375 48.1875 33.796875 48.1875 \nQ 26.515625 48.1875 22.3125 43.546875 \nQ 18.109375 38.921875 18.109375 30.90625 \nL 18.109375 0 \nL 9.078125 0 \nL 9.078125 54.6875 \nL 18.109375 54.6875 \nL 18.109375 46.1875 \nQ 21.34375 51.125 25.703125 53.5625 \nQ 30.078125 56 35.796875 56 \nQ 45.21875 56 50.046875 50.171875 \nQ 54.890625 44.34375 54.890625 33.015625 \nz\n\" id=\"DejaVuSans-110\"/>\n      <path d=\"M 44.28125 53.078125 \nL 44.28125 44.578125 \nQ 40.484375 46.53125 36.375 47.5 \nQ 32.28125 48.484375 27.875 48.484375 \nQ 21.1875 48.484375 17.84375 46.4375 \nQ 14.5 44.390625 14.5 40.28125 \nQ 14.5 37.15625 16.890625 35.375 \nQ 19.28125 33.59375 26.515625 31.984375 \nL 29.59375 31.296875 \nQ 39.15625 29.25 43.1875 25.515625 \nQ 47.21875 21.78125 47.21875 15.09375 \nQ 47.21875 7.46875 41.1875 3.015625 \nQ 35.15625 -1.421875 24.609375 -1.421875 \nQ 20.21875 -1.421875 15.453125 -0.5625 \nQ 10.6875 0.296875 5.421875 2 \nL 5.421875 11.28125 \nQ 10.40625 8.6875 15.234375 7.390625 \nQ 20.0625 6.109375 24.8125 6.109375 \nQ 31.15625 6.109375 34.5625 8.28125 \nQ 37.984375 10.453125 37.984375 14.40625 \nQ 37.984375 18.0625 35.515625 20.015625 \nQ 33.0625 21.96875 24.703125 23.78125 \nL 21.578125 24.515625 \nQ 13.234375 26.265625 9.515625 29.90625 \nQ 5.8125 33.546875 5.8125 39.890625 \nQ 5.8125 47.609375 11.28125 51.796875 \nQ 16.75 56 26.8125 56 \nQ 31.78125 56 36.171875 55.265625 \nQ 40.578125 54.546875 44.28125 53.078125 \nz\n\" id=\"DejaVuSans-115\"/>\n      <path id=\"DejaVuSans-32\"/>\n      <path d=\"M 31 75.875 \nQ 24.46875 64.65625 21.28125 53.65625 \nQ 18.109375 42.671875 18.109375 31.390625 \nQ 18.109375 20.125 21.3125 9.0625 \nQ 24.515625 -2 31 -13.1875 \nL 23.1875 -13.1875 \nQ 15.875 -1.703125 12.234375 9.375 \nQ 8.59375 20.453125 8.59375 31.390625 \nQ 8.59375 42.28125 12.203125 53.3125 \nQ 15.828125 64.359375 23.1875 75.875 \nz\n\" id=\"DejaVuSans-40\"/>\n      <path d=\"M 18.109375 8.203125 \nL 18.109375 -20.796875 \nL 9.078125 -20.796875 \nL 9.078125 54.6875 \nL 18.109375 54.6875 \nL 18.109375 46.390625 \nQ 20.953125 51.265625 25.265625 53.625 \nQ 29.59375 56 35.59375 56 \nQ 45.5625 56 51.78125 48.09375 \nQ 58.015625 40.1875 58.015625 27.296875 \nQ 58.015625 14.40625 51.78125 6.484375 \nQ 45.5625 -1.421875 35.59375 -1.421875 \nQ 29.59375 -1.421875 25.265625 0.953125 \nQ 20.953125 3.328125 18.109375 8.203125 \nz\nM 48.6875 27.296875 \nQ 48.6875 37.203125 44.609375 42.84375 \nQ 40.53125 48.484375 33.40625 48.484375 \nQ 26.265625 48.484375 22.1875 42.84375 \nQ 18.109375 37.203125 18.109375 27.296875 \nQ 18.109375 17.390625 22.1875 11.75 \nQ 26.265625 6.109375 33.40625 6.109375 \nQ 40.53125 6.109375 44.609375 11.75 \nQ 48.6875 17.390625 48.6875 27.296875 \nz\n\" id=\"DejaVuSans-112\"/>\n      <path d=\"M 54.890625 33.015625 \nL 54.890625 0 \nL 45.90625 0 \nL 45.90625 32.71875 \nQ 45.90625 40.484375 42.875 44.328125 \nQ 39.84375 48.1875 33.796875 48.1875 \nQ 26.515625 48.1875 22.3125 43.546875 \nQ 18.109375 38.921875 18.109375 30.90625 \nL 18.109375 0 \nL 9.078125 0 \nL 9.078125 75.984375 \nL 18.109375 75.984375 \nL 18.109375 46.1875 \nQ 21.34375 51.125 25.703125 53.5625 \nQ 30.078125 56 35.796875 56 \nQ 45.21875 56 50.046875 50.171875 \nQ 54.890625 44.34375 54.890625 33.015625 \nz\n\" id=\"DejaVuSans-104\"/>\n      <path d=\"M 8.5 21.578125 \nL 8.5 54.6875 \nL 17.484375 54.6875 \nL 17.484375 21.921875 \nQ 17.484375 14.15625 20.5 10.265625 \nQ 23.53125 6.390625 29.59375 6.390625 \nQ 36.859375 6.390625 41.078125 11.03125 \nQ 45.3125 15.671875 45.3125 23.6875 \nL 45.3125 54.6875 \nL 54.296875 54.6875 \nL 54.296875 0 \nL 45.3125 0 \nL 45.3125 8.40625 \nQ 42.046875 3.421875 37.71875 1 \nQ 33.40625 -1.421875 27.6875 -1.421875 \nQ 18.265625 -1.421875 13.375 4.4375 \nQ 8.5 10.296875 8.5 21.578125 \nz\nM 31.109375 56 \nz\n\" id=\"DejaVuSans-117\"/>\n      <path d=\"M 45.40625 46.390625 \nL 45.40625 75.984375 \nL 54.390625 75.984375 \nL 54.390625 0 \nL 45.40625 0 \nL 45.40625 8.203125 \nQ 42.578125 3.328125 38.25 0.953125 \nQ 33.9375 -1.421875 27.875 -1.421875 \nQ 17.96875 -1.421875 11.734375 6.484375 \nQ 5.515625 14.40625 5.515625 27.296875 \nQ 5.515625 40.1875 11.734375 48.09375 \nQ 17.96875 56 27.875 56 \nQ 33.9375 56 38.25 53.625 \nQ 42.578125 51.265625 45.40625 46.390625 \nz\nM 14.796875 27.296875 \nQ 14.796875 17.390625 18.875 11.75 \nQ 22.953125 6.109375 30.078125 6.109375 \nQ 37.203125 6.109375 41.296875 11.75 \nQ 45.40625 17.390625 45.40625 27.296875 \nQ 45.40625 37.203125 41.296875 42.84375 \nQ 37.203125 48.484375 30.078125 48.484375 \nQ 22.953125 48.484375 18.875 42.84375 \nQ 14.796875 37.203125 14.796875 27.296875 \nz\n\" id=\"DejaVuSans-100\"/>\n      <path d=\"M 8.015625 75.875 \nL 15.828125 75.875 \nQ 23.140625 64.359375 26.78125 53.3125 \nQ 30.421875 42.28125 30.421875 31.390625 \nQ 30.421875 20.453125 26.78125 9.375 \nQ 23.140625 -1.703125 15.828125 -13.1875 \nL 8.015625 -13.1875 \nQ 14.5 -2 17.703125 9.0625 \nQ 20.90625 20.125 20.90625 31.390625 \nQ 20.90625 42.671875 17.703125 53.65625 \nQ 14.5 64.65625 8.015625 75.875 \nz\n\" id=\"DejaVuSans-41\"/>\n     </defs>\n     <g transform=\"translate(148.478125 268.034687)scale(0.1 -0.1)\">\n      <use xlink:href=\"#DejaVuSans-105\"/>\n      <use x=\"27.783203\" xlink:href=\"#DejaVuSans-116\"/>\n      <use x=\"66.992188\" xlink:href=\"#DejaVuSans-101\"/>\n      <use x=\"128.515625\" xlink:href=\"#DejaVuSans-114\"/>\n      <use x=\"169.628906\" xlink:href=\"#DejaVuSans-97\"/>\n      <use x=\"230.908203\" xlink:href=\"#DejaVuSans-116\"/>\n      <use x=\"270.117188\" xlink:href=\"#DejaVuSans-105\"/>\n      <use x=\"297.900391\" xlink:href=\"#DejaVuSans-111\"/>\n      <use x=\"359.082031\" xlink:href=\"#DejaVuSans-110\"/>\n      <use x=\"422.460938\" xlink:href=\"#DejaVuSans-115\"/>\n      <use x=\"474.560547\" xlink:href=\"#DejaVuSans-32\"/>\n      <use x=\"506.347656\" xlink:href=\"#DejaVuSans-40\"/>\n      <use x=\"545.361328\" xlink:href=\"#DejaVuSans-112\"/>\n      <use x=\"608.837891\" xlink:href=\"#DejaVuSans-101\"/>\n      <use x=\"670.361328\" xlink:href=\"#DejaVuSans-114\"/>\n      <use x=\"711.474609\" xlink:href=\"#DejaVuSans-32\"/>\n      <use x=\"743.261719\" xlink:href=\"#DejaVuSans-104\"/>\n      <use x=\"806.640625\" xlink:href=\"#DejaVuSans-117\"/>\n      <use x=\"870.019531\" xlink:href=\"#DejaVuSans-110\"/>\n      <use x=\"933.398438\" xlink:href=\"#DejaVuSans-100\"/>\n      <use x=\"996.875\" xlink:href=\"#DejaVuSans-114\"/>\n      <use x=\"1037.957031\" xlink:href=\"#DejaVuSans-101\"/>\n      <use x=\"1099.480469\" xlink:href=\"#DejaVuSans-100\"/>\n      <use x=\"1162.957031\" xlink:href=\"#DejaVuSans-115\"/>\n      <use x=\"1215.056641\" xlink:href=\"#DejaVuSans-41\"/>\n     </g>\n    </g>\n   </g>\n   <g id=\"matplotlib.axis_2\">\n    <g id=\"ytick_1\">\n     <g id=\"line2d_9\">\n      <defs>\n       <path d=\"M 0 0 \nL -3.5 0 \n\" id=\"m34f29a4ae2\" style=\"stroke:#000000;stroke-width:0.8;\"/>\n      </defs>\n      <g>\n       <use style=\"stroke:#000000;stroke-width:0.8;\" x=\"43.78125\" xlink:href=\"#m34f29a4ae2\" y=\"208.711163\"/>\n      </g>\n     </g>\n     <g id=\"text_10\">\n      <!-- 0.2 -->\n      <g transform=\"translate(20.878125 212.510381)scale(0.1 -0.1)\">\n       <use xlink:href=\"#DejaVuSans-48\"/>\n       <use x=\"63.623047\" xlink:href=\"#DejaVuSans-46\"/>\n       <use x=\"95.410156\" xlink:href=\"#DejaVuSans-50\"/>\n      </g>\n     </g>\n    </g>\n    <g id=\"ytick_2\">\n     <g id=\"line2d_10\">\n      <g>\n       <use style=\"stroke:#000000;stroke-width:0.8;\" x=\"43.78125\" xlink:href=\"#m34f29a4ae2\" y=\"172.918724\"/>\n      </g>\n     </g>\n     <g id=\"text_11\">\n      <!-- 0.3 -->\n      <defs>\n       <path d=\"M 40.578125 39.3125 \nQ 47.65625 37.796875 51.625 33 \nQ 55.609375 28.21875 55.609375 21.1875 \nQ 55.609375 10.40625 48.1875 4.484375 \nQ 40.765625 -1.421875 27.09375 -1.421875 \nQ 22.515625 -1.421875 17.65625 -0.515625 \nQ 12.796875 0.390625 7.625 2.203125 \nL 7.625 11.71875 \nQ 11.71875 9.328125 16.59375 8.109375 \nQ 21.484375 6.890625 26.8125 6.890625 \nQ 36.078125 6.890625 40.9375 10.546875 \nQ 45.796875 14.203125 45.796875 21.1875 \nQ 45.796875 27.640625 41.28125 31.265625 \nQ 36.765625 34.90625 28.71875 34.90625 \nL 20.21875 34.90625 \nL 20.21875 43.015625 \nL 29.109375 43.015625 \nQ 36.375 43.015625 40.234375 45.921875 \nQ 44.09375 48.828125 44.09375 54.296875 \nQ 44.09375 59.90625 40.109375 62.90625 \nQ 36.140625 65.921875 28.71875 65.921875 \nQ 24.65625 65.921875 20.015625 65.03125 \nQ 15.375 64.15625 9.8125 62.3125 \nL 9.8125 71.09375 \nQ 15.4375 72.65625 20.34375 73.4375 \nQ 25.25 74.21875 29.59375 74.21875 \nQ 40.828125 74.21875 47.359375 69.109375 \nQ 53.90625 64.015625 53.90625 55.328125 \nQ 53.90625 49.265625 50.4375 45.09375 \nQ 46.96875 40.921875 40.578125 39.3125 \nz\n\" id=\"DejaVuSans-51\"/>\n      </defs>\n      <g transform=\"translate(20.878125 176.717943)scale(0.1 -0.1)\">\n       <use xlink:href=\"#DejaVuSans-48\"/>\n       <use x=\"63.623047\" xlink:href=\"#DejaVuSans-46\"/>\n       <use x=\"95.410156\" xlink:href=\"#DejaVuSans-51\"/>\n      </g>\n     </g>\n    </g>\n    <g id=\"ytick_3\">\n     <g id=\"line2d_11\">\n      <g>\n       <use style=\"stroke:#000000;stroke-width:0.8;\" x=\"43.78125\" xlink:href=\"#m34f29a4ae2\" y=\"137.126286\"/>\n      </g>\n     </g>\n     <g id=\"text_12\">\n      <!-- 0.4 -->\n      <defs>\n       <path d=\"M 37.796875 64.3125 \nL 12.890625 25.390625 \nL 37.796875 25.390625 \nz\nM 35.203125 72.90625 \nL 47.609375 72.90625 \nL 47.609375 25.390625 \nL 58.015625 25.390625 \nL 58.015625 17.1875 \nL 47.609375 17.1875 \nL 47.609375 0 \nL 37.796875 0 \nL 37.796875 17.1875 \nL 4.890625 17.1875 \nL 4.890625 26.703125 \nz\n\" id=\"DejaVuSans-52\"/>\n      </defs>\n      <g transform=\"translate(20.878125 140.925504)scale(0.1 -0.1)\">\n       <use xlink:href=\"#DejaVuSans-48\"/>\n       <use x=\"63.623047\" xlink:href=\"#DejaVuSans-46\"/>\n       <use x=\"95.410156\" xlink:href=\"#DejaVuSans-52\"/>\n      </g>\n     </g>\n    </g>\n    <g id=\"ytick_4\">\n     <g id=\"line2d_12\">\n      <g>\n       <use style=\"stroke:#000000;stroke-width:0.8;\" x=\"43.78125\" xlink:href=\"#m34f29a4ae2\" y=\"101.333847\"/>\n      </g>\n     </g>\n     <g id=\"text_13\">\n      <!-- 0.5 -->\n      <g transform=\"translate(20.878125 105.133066)scale(0.1 -0.1)\">\n       <use xlink:href=\"#DejaVuSans-48\"/>\n       <use x=\"63.623047\" xlink:href=\"#DejaVuSans-46\"/>\n       <use x=\"95.410156\" xlink:href=\"#DejaVuSans-53\"/>\n      </g>\n     </g>\n    </g>\n    <g id=\"ytick_5\">\n     <g id=\"line2d_13\">\n      <g>\n       <use style=\"stroke:#000000;stroke-width:0.8;\" x=\"43.78125\" xlink:href=\"#m34f29a4ae2\" y=\"65.541409\"/>\n      </g>\n     </g>\n     <g id=\"text_14\">\n      <!-- 0.6 -->\n      <defs>\n       <path d=\"M 33.015625 40.375 \nQ 26.375 40.375 22.484375 35.828125 \nQ 18.609375 31.296875 18.609375 23.390625 \nQ 18.609375 15.53125 22.484375 10.953125 \nQ 26.375 6.390625 33.015625 6.390625 \nQ 39.65625 6.390625 43.53125 10.953125 \nQ 47.40625 15.53125 47.40625 23.390625 \nQ 47.40625 31.296875 43.53125 35.828125 \nQ 39.65625 40.375 33.015625 40.375 \nz\nM 52.59375 71.296875 \nL 52.59375 62.3125 \nQ 48.875 64.0625 45.09375 64.984375 \nQ 41.3125 65.921875 37.59375 65.921875 \nQ 27.828125 65.921875 22.671875 59.328125 \nQ 17.53125 52.734375 16.796875 39.40625 \nQ 19.671875 43.65625 24.015625 45.921875 \nQ 28.375 48.1875 33.59375 48.1875 \nQ 44.578125 48.1875 50.953125 41.515625 \nQ 57.328125 34.859375 57.328125 23.390625 \nQ 57.328125 12.15625 50.6875 5.359375 \nQ 44.046875 -1.421875 33.015625 -1.421875 \nQ 20.359375 -1.421875 13.671875 8.265625 \nQ 6.984375 17.96875 6.984375 36.375 \nQ 6.984375 53.65625 15.1875 63.9375 \nQ 23.390625 74.21875 37.203125 74.21875 \nQ 40.921875 74.21875 44.703125 73.484375 \nQ 48.484375 72.75 52.59375 71.296875 \nz\n\" id=\"DejaVuSans-54\"/>\n      </defs>\n      <g transform=\"translate(20.878125 69.340627)scale(0.1 -0.1)\">\n       <use xlink:href=\"#DejaVuSans-48\"/>\n       <use x=\"63.623047\" xlink:href=\"#DejaVuSans-46\"/>\n       <use x=\"95.410156\" xlink:href=\"#DejaVuSans-54\"/>\n      </g>\n     </g>\n    </g>\n    <g id=\"ytick_6\">\n     <g id=\"line2d_14\">\n      <g>\n       <use style=\"stroke:#000000;stroke-width:0.8;\" x=\"43.78125\" xlink:href=\"#m34f29a4ae2\" y=\"29.74897\"/>\n      </g>\n     </g>\n     <g id=\"text_15\">\n      <!-- 0.7 -->\n      <g transform=\"translate(20.878125 33.548189)scale(0.1 -0.1)\">\n       <use xlink:href=\"#DejaVuSans-48\"/>\n       <use x=\"63.623047\" xlink:href=\"#DejaVuSans-46\"/>\n       <use x=\"95.410156\" xlink:href=\"#DejaVuSans-55\"/>\n      </g>\n     </g>\n    </g>\n    <g id=\"text_16\">\n     <!-- cost -->\n     <defs>\n      <path d=\"M 48.78125 52.59375 \nL 48.78125 44.1875 \nQ 44.96875 46.296875 41.140625 47.34375 \nQ 37.3125 48.390625 33.40625 48.390625 \nQ 24.65625 48.390625 19.8125 42.84375 \nQ 14.984375 37.3125 14.984375 27.296875 \nQ 14.984375 17.28125 19.8125 11.734375 \nQ 24.65625 6.203125 33.40625 6.203125 \nQ 37.3125 6.203125 41.140625 7.25 \nQ 44.96875 8.296875 48.78125 10.40625 \nL 48.78125 2.09375 \nQ 45.015625 0.34375 40.984375 -0.53125 \nQ 36.96875 -1.421875 32.421875 -1.421875 \nQ 20.0625 -1.421875 12.78125 6.34375 \nQ 5.515625 14.109375 5.515625 27.296875 \nQ 5.515625 40.671875 12.859375 48.328125 \nQ 20.21875 56 33.015625 56 \nQ 37.15625 56 41.109375 55.140625 \nQ 45.0625 54.296875 48.78125 52.59375 \nz\n\" id=\"DejaVuSans-99\"/>\n     </defs>\n     <g transform=\"translate(14.798438 141.411562)rotate(-90)scale(0.1 -0.1)\">\n      <use xlink:href=\"#DejaVuSans-99\"/>\n      <use x=\"54.980469\" xlink:href=\"#DejaVuSans-111\"/>\n      <use x=\"116.162109\" xlink:href=\"#DejaVuSans-115\"/>\n      <use x=\"168.261719\" xlink:href=\"#DejaVuSans-116\"/>\n     </g>\n    </g>\n   </g>\n   <g id=\"line2d_15\">\n    <path clip-path=\"url(#pc75bc349e3)\" d=\"M 58.999432 32.201761 \nL 75.018571 71.086243 \nL 91.037709 113.163591 \nL 107.056848 145.714013 \nL 123.075987 161.657246 \nL 139.095126 171.747214 \nL 155.114264 180.120311 \nL 171.133403 187.220618 \nL 187.152542 193.341645 \nL 203.171681 198.687769 \nL 219.190819 203.406897 \nL 235.209958 207.609403 \nL 251.229097 211.379748 \nL 267.248236 214.783945 \nL 283.267374 217.87453 \nL 299.286513 220.693971 \nL 315.305652 223.277068 \nL 331.324791 225.652681 \nL 347.343929 227.845 \nL 363.363068 229.874489 \n\" style=\"fill:none;stroke:#1f77b4;stroke-linecap:square;stroke-width:1.5;\"/>\n   </g>\n   <g id=\"patch_3\">\n    <path d=\"M 43.78125 239.758125 \nL 43.78125 22.318125 \n\" style=\"fill:none;stroke:#000000;stroke-linecap:square;stroke-linejoin:miter;stroke-width:0.8;\"/>\n   </g>\n   <g id=\"patch_4\">\n    <path d=\"M 378.58125 239.758125 \nL 378.58125 22.318125 \n\" style=\"fill:none;stroke:#000000;stroke-linecap:square;stroke-linejoin:miter;stroke-width:0.8;\"/>\n   </g>\n   <g id=\"patch_5\">\n    <path d=\"M 43.78125 239.758125 \nL 378.58125 239.758125 \n\" style=\"fill:none;stroke:#000000;stroke-linecap:square;stroke-linejoin:miter;stroke-width:0.8;\"/>\n   </g>\n   <g id=\"patch_6\">\n    <path d=\"M 43.78125 22.318125 \nL 378.58125 22.318125 \n\" style=\"fill:none;stroke:#000000;stroke-linecap:square;stroke-linejoin:miter;stroke-width:0.8;\"/>\n   </g>\n   <g id=\"text_17\">\n    <!-- Learning rate =0.005 -->\n    <defs>\n     <path d=\"M 9.8125 72.90625 \nL 19.671875 72.90625 \nL 19.671875 8.296875 \nL 55.171875 8.296875 \nL 55.171875 0 \nL 9.8125 0 \nz\n\" id=\"DejaVuSans-76\"/>\n     <path d=\"M 45.40625 27.984375 \nQ 45.40625 37.75 41.375 43.109375 \nQ 37.359375 48.484375 30.078125 48.484375 \nQ 22.859375 48.484375 18.828125 43.109375 \nQ 14.796875 37.75 14.796875 27.984375 \nQ 14.796875 18.265625 18.828125 12.890625 \nQ 22.859375 7.515625 30.078125 7.515625 \nQ 37.359375 7.515625 41.375 12.890625 \nQ 45.40625 18.265625 45.40625 27.984375 \nz\nM 54.390625 6.78125 \nQ 54.390625 -7.171875 48.1875 -13.984375 \nQ 42 -20.796875 29.203125 -20.796875 \nQ 24.46875 -20.796875 20.265625 -20.09375 \nQ 16.0625 -19.390625 12.109375 -17.921875 \nL 12.109375 -9.1875 \nQ 16.0625 -11.328125 19.921875 -12.34375 \nQ 23.78125 -13.375 27.78125 -13.375 \nQ 36.625 -13.375 41.015625 -8.765625 \nQ 45.40625 -4.15625 45.40625 5.171875 \nL 45.40625 9.625 \nQ 42.625 4.78125 38.28125 2.390625 \nQ 33.9375 0 27.875 0 \nQ 17.828125 0 11.671875 7.65625 \nQ 5.515625 15.328125 5.515625 27.984375 \nQ 5.515625 40.671875 11.671875 48.328125 \nQ 17.828125 56 27.875 56 \nQ 33.9375 56 38.28125 53.609375 \nQ 42.625 51.21875 45.40625 46.390625 \nL 45.40625 54.6875 \nL 54.390625 54.6875 \nz\n\" id=\"DejaVuSans-103\"/>\n     <path d=\"M 10.59375 45.40625 \nL 73.1875 45.40625 \nL 73.1875 37.203125 \nL 10.59375 37.203125 \nz\nM 10.59375 25.484375 \nL 73.1875 25.484375 \nL 73.1875 17.1875 \nL 10.59375 17.1875 \nz\n\" id=\"DejaVuSans-61\"/>\n    </defs>\n    <g transform=\"translate(146.717813 16.318125)scale(0.12 -0.12)\">\n     <use xlink:href=\"#DejaVuSans-76\"/>\n     <use x=\"55.697266\" xlink:href=\"#DejaVuSans-101\"/>\n     <use x=\"117.220703\" xlink:href=\"#DejaVuSans-97\"/>\n     <use x=\"178.5\" xlink:href=\"#DejaVuSans-114\"/>\n     <use x=\"219.597656\" xlink:href=\"#DejaVuSans-110\"/>\n     <use x=\"282.976562\" xlink:href=\"#DejaVuSans-105\"/>\n     <use x=\"310.759766\" xlink:href=\"#DejaVuSans-110\"/>\n     <use x=\"374.138672\" xlink:href=\"#DejaVuSans-103\"/>\n     <use x=\"437.615234\" xlink:href=\"#DejaVuSans-32\"/>\n     <use x=\"469.402344\" xlink:href=\"#DejaVuSans-114\"/>\n     <use x=\"510.515625\" xlink:href=\"#DejaVuSans-97\"/>\n     <use x=\"571.794922\" xlink:href=\"#DejaVuSans-116\"/>\n     <use x=\"611.003906\" xlink:href=\"#DejaVuSans-101\"/>\n     <use x=\"672.527344\" xlink:href=\"#DejaVuSans-32\"/>\n     <use x=\"704.314453\" xlink:href=\"#DejaVuSans-61\"/>\n     <use x=\"788.103516\" xlink:href=\"#DejaVuSans-48\"/>\n     <use x=\"851.726562\" xlink:href=\"#DejaVuSans-46\"/>\n     <use x=\"883.513672\" xlink:href=\"#DejaVuSans-48\"/>\n     <use x=\"947.136719\" xlink:href=\"#DejaVuSans-48\"/>\n     <use x=\"1010.759766\" xlink:href=\"#DejaVuSans-53\"/>\n    </g>\n   </g>\n  </g>\n </g>\n <defs>\n  <clipPath id=\"pc75bc349e3\">\n   <rect height=\"217.44\" width=\"334.8\" x=\"43.78125\" y=\"22.318125\"/>\n  </clipPath>\n </defs>\n</svg>\n",
      "image/png": "[encoded data removed]"
     },
     "metadata": {
      "needs_background": "light"
     }
    }
   ],
   "source": [
    "# Plot learning curve (with costs)\n",
    "costs = np.squeeze(d['costs'])\n",
    "plt.plot(costs)\n",
    "plt.ylabel('cost')\n",
    "plt.xlabel('iterations (per hundreds)')\n",
    "plt.title(\"Learning rate =\" + str(d[\"learning_rate\"]))\n",
    "plt.show()"
   ]
  },
  {
   "cell_type": "markdown",
   "metadata": {},
   "source": [
    "**Interpretation**:\n",
    "You can see the cost decreasing. It shows that the parameters are being learned. However, you see that you could train the model even more on the training set. Try to increase the number of iterations in the cell above and rerun the cells. You might see that the training set accuracy goes up, but the test set accuracy goes down. This is called overfitting. "
   ]
  },
  {
   "cell_type": "markdown",
   "metadata": {},
   "source": [
    "## 6 - Further analysis (optional/ungraded exercise) ##\n",
    "\n",
    "Congratulations on building your first image classification model. Let's analyze it further, and examine possible choices for the learning rate $\\alpha$. "
   ]
  },
  {
   "cell_type": "markdown",
   "metadata": {},
   "source": [
    "#### Choice of learning rate ####\n",
    "\n",
    "**Reminder**:\n",
    "In order for Gradient Descent to work you must choose the learning rate wisely. The learning rate $\\alpha$  determines how rapidly we update the parameters. If the learning rate is too large we may \"overshoot\" the optimal value. Similarly, if it is too small we will need too many iterations to converge to the best values. That's why it is crucial to use a well-tuned learning rate.\n",
    "\n",
    "Let's compare the learning curve of our model with several choices of learning rates. Run the cell below. This should take about 1 minute. Feel free also to try different values than the three we have initialized the `learning_rates` variable to contain, and see what happens. "
   ]
  },
  {
   "cell_type": "code",
   "execution_count": 51,
   "metadata": {
    "collapsed": true,
    "tags": []
   },
   "outputs": [
    {
     "output_type": "stream",
     "name": "stdout",
     "text": "learning rate is: 0.01\ntrain accuracy: 99.52153110047847 %\ntest accuracy: 68.0 %\n\n-------------------------------------------------------\n\nlearning rate is: 0.001\ntrain accuracy: 88.99521531100478 %\ntest accuracy: 64.0 %\n\n-------------------------------------------------------\n\nlearning rate is: 0.0001\ntrain accuracy: 68.42105263157895 %\ntest accuracy: 36.0 %\n\n-------------------------------------------------------\n\n"
    },
    {
     "output_type": "display_data",
     "data": {
      "text/plain": "<Figure size 432x288 with 1 Axes>",
      "image/svg+xml": "<?xml version=\"1.0\" encoding=\"utf-8\" standalone=\"no\"?>\n<!DOCTYPE svg PUBLIC \"-//W3C//DTD SVG 1.1//EN\"\n  \"http://www.w3.org/Graphics/SVG/1.1/DTD/svg11.dtd\">\n<!-- Created with matplotlib (https://matplotlib.org/) -->\n<svg height=\"262.19625pt\" version=\"1.1\" viewBox=\"0 0 385.78125 262.19625\" width=\"385.78125pt\" xmlns=\"http://www.w3.org/2000/svg\" xmlns:xlink=\"http://www.w3.org/1999/xlink\">\n <defs>\n  <style type=\"text/css\">\n*{stroke-linecap:butt;stroke-linejoin:round;}\n  </style>\n </defs>\n <g id=\"figure_1\">\n  <g id=\"patch_1\">\n   <path d=\"M 0 262.19625 \nL 385.78125 262.19625 \nL 385.78125 0 \nL 0 0 \nz\n\" style=\"fill:none;\"/>\n  </g>\n  <g id=\"axes_1\">\n   <g id=\"patch_2\">\n    <path d=\"M 43.78125 224.64 \nL 378.58125 224.64 \nL 378.58125 7.2 \nL 43.78125 7.2 \nz\n\" style=\"fill:#ffffff;\"/>\n   </g>\n   <g id=\"matplotlib.axis_1\">\n    <g id=\"xtick_1\">\n     <g id=\"line2d_1\">\n      <defs>\n       <path d=\"M 0 0 \nL 0 3.5 \n\" id=\"m4d046e2266\" style=\"stroke:#000000;stroke-width:0.8;\"/>\n      </defs>\n      <g>\n       <use style=\"stroke:#000000;stroke-width:0.8;\" x=\"58.999432\" xlink:href=\"#m4d046e2266\" y=\"224.64\"/>\n      </g>\n     </g>\n     <g id=\"text_1\">\n      <!-- 0 -->\n      <defs>\n       <path d=\"M 31.78125 66.40625 \nQ 24.171875 66.40625 20.328125 58.90625 \nQ 16.5 51.421875 16.5 36.375 \nQ 16.5 21.390625 20.328125 13.890625 \nQ 24.171875 6.390625 31.78125 6.390625 \nQ 39.453125 6.390625 43.28125 13.890625 \nQ 47.125 21.390625 47.125 36.375 \nQ 47.125 51.421875 43.28125 58.90625 \nQ 39.453125 66.40625 31.78125 66.40625 \nz\nM 31.78125 74.21875 \nQ 44.046875 74.21875 50.515625 64.515625 \nQ 56.984375 54.828125 56.984375 36.375 \nQ 56.984375 17.96875 50.515625 8.265625 \nQ 44.046875 -1.421875 31.78125 -1.421875 \nQ 19.53125 -1.421875 13.0625 8.265625 \nQ 6.59375 17.96875 6.59375 36.375 \nQ 6.59375 54.828125 13.0625 64.515625 \nQ 19.53125 74.21875 31.78125 74.21875 \nz\n\" id=\"DejaVuSans-48\"/>\n      </defs>\n      <g transform=\"translate(55.818182 239.238437)scale(0.1 -0.1)\">\n       <use xlink:href=\"#DejaVuSans-48\"/>\n      </g>\n     </g>\n    </g>\n    <g id=\"xtick_2\">\n     <g id=\"line2d_2\">\n      <g>\n       <use style=\"stroke:#000000;stroke-width:0.8;\" x=\"102.479951\" xlink:href=\"#m4d046e2266\" y=\"224.64\"/>\n      </g>\n     </g>\n     <g id=\"text_2\">\n      <!-- 2 -->\n      <defs>\n       <path d=\"M 19.1875 8.296875 \nL 53.609375 8.296875 \nL 53.609375 0 \nL 7.328125 0 \nL 7.328125 8.296875 \nQ 12.9375 14.109375 22.625 23.890625 \nQ 32.328125 33.6875 34.8125 36.53125 \nQ 39.546875 41.84375 41.421875 45.53125 \nQ 43.3125 49.21875 43.3125 52.78125 \nQ 43.3125 58.59375 39.234375 62.25 \nQ 35.15625 65.921875 28.609375 65.921875 \nQ 23.96875 65.921875 18.8125 64.3125 \nQ 13.671875 62.703125 7.8125 59.421875 \nL 7.8125 69.390625 \nQ 13.765625 71.78125 18.9375 73 \nQ 24.125 74.21875 28.421875 74.21875 \nQ 39.75 74.21875 46.484375 68.546875 \nQ 53.21875 62.890625 53.21875 53.421875 \nQ 53.21875 48.921875 51.53125 44.890625 \nQ 49.859375 40.875 45.40625 35.40625 \nQ 44.1875 33.984375 37.640625 27.21875 \nQ 31.109375 20.453125 19.1875 8.296875 \nz\n\" id=\"DejaVuSans-50\"/>\n      </defs>\n      <g transform=\"translate(99.298701 239.238437)scale(0.1 -0.1)\">\n       <use xlink:href=\"#DejaVuSans-50\"/>\n      </g>\n     </g>\n    </g>\n    <g id=\"xtick_3\">\n     <g id=\"line2d_3\">\n      <g>\n       <use style=\"stroke:#000000;stroke-width:0.8;\" x=\"145.960471\" xlink:href=\"#m4d046e2266\" y=\"224.64\"/>\n      </g>\n     </g>\n     <g id=\"text_3\">\n      <!-- 4 -->\n      <defs>\n       <path d=\"M 37.796875 64.3125 \nL 12.890625 25.390625 \nL 37.796875 25.390625 \nz\nM 35.203125 72.90625 \nL 47.609375 72.90625 \nL 47.609375 25.390625 \nL 58.015625 25.390625 \nL 58.015625 17.1875 \nL 47.609375 17.1875 \nL 47.609375 0 \nL 37.796875 0 \nL 37.796875 17.1875 \nL 4.890625 17.1875 \nL 4.890625 26.703125 \nz\n\" id=\"DejaVuSans-52\"/>\n      </defs>\n      <g transform=\"translate(142.779221 239.238437)scale(0.1 -0.1)\">\n       <use xlink:href=\"#DejaVuSans-52\"/>\n      </g>\n     </g>\n    </g>\n    <g id=\"xtick_4\">\n     <g id=\"line2d_4\">\n      <g>\n       <use style=\"stroke:#000000;stroke-width:0.8;\" x=\"189.44099\" xlink:href=\"#m4d046e2266\" y=\"224.64\"/>\n      </g>\n     </g>\n     <g id=\"text_4\">\n      <!-- 6 -->\n      <defs>\n       <path d=\"M 33.015625 40.375 \nQ 26.375 40.375 22.484375 35.828125 \nQ 18.609375 31.296875 18.609375 23.390625 \nQ 18.609375 15.53125 22.484375 10.953125 \nQ 26.375 6.390625 33.015625 6.390625 \nQ 39.65625 6.390625 43.53125 10.953125 \nQ 47.40625 15.53125 47.40625 23.390625 \nQ 47.40625 31.296875 43.53125 35.828125 \nQ 39.65625 40.375 33.015625 40.375 \nz\nM 52.59375 71.296875 \nL 52.59375 62.3125 \nQ 48.875 64.0625 45.09375 64.984375 \nQ 41.3125 65.921875 37.59375 65.921875 \nQ 27.828125 65.921875 22.671875 59.328125 \nQ 17.53125 52.734375 16.796875 39.40625 \nQ 19.671875 43.65625 24.015625 45.921875 \nQ 28.375 48.1875 33.59375 48.1875 \nQ 44.578125 48.1875 50.953125 41.515625 \nQ 57.328125 34.859375 57.328125 23.390625 \nQ 57.328125 12.15625 50.6875 5.359375 \nQ 44.046875 -1.421875 33.015625 -1.421875 \nQ 20.359375 -1.421875 13.671875 8.265625 \nQ 6.984375 17.96875 6.984375 36.375 \nQ 6.984375 53.65625 15.1875 63.9375 \nQ 23.390625 74.21875 37.203125 74.21875 \nQ 40.921875 74.21875 44.703125 73.484375 \nQ 48.484375 72.75 52.59375 71.296875 \nz\n\" id=\"DejaVuSans-54\"/>\n      </defs>\n      <g transform=\"translate(186.25974 239.238437)scale(0.1 -0.1)\">\n       <use xlink:href=\"#DejaVuSans-54\"/>\n      </g>\n     </g>\n    </g>\n    <g id=\"xtick_5\">\n     <g id=\"line2d_5\">\n      <g>\n       <use style=\"stroke:#000000;stroke-width:0.8;\" x=\"232.92151\" xlink:href=\"#m4d046e2266\" y=\"224.64\"/>\n      </g>\n     </g>\n     <g id=\"text_5\">\n      <!-- 8 -->\n      <defs>\n       <path d=\"M 31.78125 34.625 \nQ 24.75 34.625 20.71875 30.859375 \nQ 16.703125 27.09375 16.703125 20.515625 \nQ 16.703125 13.921875 20.71875 10.15625 \nQ 24.75 6.390625 31.78125 6.390625 \nQ 38.8125 6.390625 42.859375 10.171875 \nQ 46.921875 13.96875 46.921875 20.515625 \nQ 46.921875 27.09375 42.890625 30.859375 \nQ 38.875 34.625 31.78125 34.625 \nz\nM 21.921875 38.8125 \nQ 15.578125 40.375 12.03125 44.71875 \nQ 8.5 49.078125 8.5 55.328125 \nQ 8.5 64.0625 14.71875 69.140625 \nQ 20.953125 74.21875 31.78125 74.21875 \nQ 42.671875 74.21875 48.875 69.140625 \nQ 55.078125 64.0625 55.078125 55.328125 \nQ 55.078125 49.078125 51.53125 44.71875 \nQ 48 40.375 41.703125 38.8125 \nQ 48.828125 37.15625 52.796875 32.3125 \nQ 56.78125 27.484375 56.78125 20.515625 \nQ 56.78125 9.90625 50.3125 4.234375 \nQ 43.84375 -1.421875 31.78125 -1.421875 \nQ 19.734375 -1.421875 13.25 4.234375 \nQ 6.78125 9.90625 6.78125 20.515625 \nQ 6.78125 27.484375 10.78125 32.3125 \nQ 14.796875 37.15625 21.921875 38.8125 \nz\nM 18.3125 54.390625 \nQ 18.3125 48.734375 21.84375 45.5625 \nQ 25.390625 42.390625 31.78125 42.390625 \nQ 38.140625 42.390625 41.71875 45.5625 \nQ 45.3125 48.734375 45.3125 54.390625 \nQ 45.3125 60.0625 41.71875 63.234375 \nQ 38.140625 66.40625 31.78125 66.40625 \nQ 25.390625 66.40625 21.84375 63.234375 \nQ 18.3125 60.0625 18.3125 54.390625 \nz\n\" id=\"DejaVuSans-56\"/>\n      </defs>\n      <g transform=\"translate(229.74026 239.238437)scale(0.1 -0.1)\">\n       <use xlink:href=\"#DejaVuSans-56\"/>\n      </g>\n     </g>\n    </g>\n    <g id=\"xtick_6\">\n     <g id=\"line2d_6\">\n      <g>\n       <use style=\"stroke:#000000;stroke-width:0.8;\" x=\"276.402029\" xlink:href=\"#m4d046e2266\" y=\"224.64\"/>\n      </g>\n     </g>\n     <g id=\"text_6\">\n      <!-- 10 -->\n      <defs>\n       <path d=\"M 12.40625 8.296875 \nL 28.515625 8.296875 \nL 28.515625 63.921875 \nL 10.984375 60.40625 \nL 10.984375 69.390625 \nL 28.421875 72.90625 \nL 38.28125 72.90625 \nL 38.28125 8.296875 \nL 54.390625 8.296875 \nL 54.390625 0 \nL 12.40625 0 \nz\n\" id=\"DejaVuSans-49\"/>\n      </defs>\n      <g transform=\"translate(270.039529 239.238437)scale(0.1 -0.1)\">\n       <use xlink:href=\"#DejaVuSans-49\"/>\n       <use x=\"63.623047\" xlink:href=\"#DejaVuSans-48\"/>\n      </g>\n     </g>\n    </g>\n    <g id=\"xtick_7\">\n     <g id=\"line2d_7\">\n      <g>\n       <use style=\"stroke:#000000;stroke-width:0.8;\" x=\"319.882549\" xlink:href=\"#m4d046e2266\" y=\"224.64\"/>\n      </g>\n     </g>\n     <g id=\"text_7\">\n      <!-- 12 -->\n      <g transform=\"translate(313.520049 239.238437)scale(0.1 -0.1)\">\n       <use xlink:href=\"#DejaVuSans-49\"/>\n       <use x=\"63.623047\" xlink:href=\"#DejaVuSans-50\"/>\n      </g>\n     </g>\n    </g>\n    <g id=\"xtick_8\">\n     <g id=\"line2d_8\">\n      <g>\n       <use style=\"stroke:#000000;stroke-width:0.8;\" x=\"363.363068\" xlink:href=\"#m4d046e2266\" y=\"224.64\"/>\n      </g>\n     </g>\n     <g id=\"text_8\">\n      <!-- 14 -->\n      <g transform=\"translate(357.000568 239.238437)scale(0.1 -0.1)\">\n       <use xlink:href=\"#DejaVuSans-49\"/>\n       <use x=\"63.623047\" xlink:href=\"#DejaVuSans-52\"/>\n      </g>\n     </g>\n    </g>\n    <g id=\"text_9\">\n     <!-- iterations (hundreds) -->\n     <defs>\n      <path d=\"M 9.421875 54.6875 \nL 18.40625 54.6875 \nL 18.40625 0 \nL 9.421875 0 \nz\nM 9.421875 75.984375 \nL 18.40625 75.984375 \nL 18.40625 64.59375 \nL 9.421875 64.59375 \nz\n\" id=\"DejaVuSans-105\"/>\n      <path d=\"M 18.3125 70.21875 \nL 18.3125 54.6875 \nL 36.8125 54.6875 \nL 36.8125 47.703125 \nL 18.3125 47.703125 \nL 18.3125 18.015625 \nQ 18.3125 11.328125 20.140625 9.421875 \nQ 21.96875 7.515625 27.59375 7.515625 \nL 36.8125 7.515625 \nL 36.8125 0 \nL 27.59375 0 \nQ 17.1875 0 13.234375 3.875 \nQ 9.28125 7.765625 9.28125 18.015625 \nL 9.28125 47.703125 \nL 2.6875 47.703125 \nL 2.6875 54.6875 \nL 9.28125 54.6875 \nL 9.28125 70.21875 \nz\n\" id=\"DejaVuSans-116\"/>\n      <path d=\"M 56.203125 29.59375 \nL 56.203125 25.203125 \nL 14.890625 25.203125 \nQ 15.484375 15.921875 20.484375 11.0625 \nQ 25.484375 6.203125 34.421875 6.203125 \nQ 39.59375 6.203125 44.453125 7.46875 \nQ 49.3125 8.734375 54.109375 11.28125 \nL 54.109375 2.78125 \nQ 49.265625 0.734375 44.1875 -0.34375 \nQ 39.109375 -1.421875 33.890625 -1.421875 \nQ 20.796875 -1.421875 13.15625 6.1875 \nQ 5.515625 13.8125 5.515625 26.8125 \nQ 5.515625 40.234375 12.765625 48.109375 \nQ 20.015625 56 32.328125 56 \nQ 43.359375 56 49.78125 48.890625 \nQ 56.203125 41.796875 56.203125 29.59375 \nz\nM 47.21875 32.234375 \nQ 47.125 39.59375 43.09375 43.984375 \nQ 39.0625 48.390625 32.421875 48.390625 \nQ 24.90625 48.390625 20.390625 44.140625 \nQ 15.875 39.890625 15.1875 32.171875 \nz\n\" id=\"DejaVuSans-101\"/>\n      <path d=\"M 41.109375 46.296875 \nQ 39.59375 47.171875 37.8125 47.578125 \nQ 36.03125 48 33.890625 48 \nQ 26.265625 48 22.1875 43.046875 \nQ 18.109375 38.09375 18.109375 28.8125 \nL 18.109375 0 \nL 9.078125 0 \nL 9.078125 54.6875 \nL 18.109375 54.6875 \nL 18.109375 46.1875 \nQ 20.953125 51.171875 25.484375 53.578125 \nQ 30.03125 56 36.53125 56 \nQ 37.453125 56 38.578125 55.875 \nQ 39.703125 55.765625 41.0625 55.515625 \nz\n\" id=\"DejaVuSans-114\"/>\n      <path d=\"M 34.28125 27.484375 \nQ 23.390625 27.484375 19.1875 25 \nQ 14.984375 22.515625 14.984375 16.5 \nQ 14.984375 11.71875 18.140625 8.90625 \nQ 21.296875 6.109375 26.703125 6.109375 \nQ 34.1875 6.109375 38.703125 11.40625 \nQ 43.21875 16.703125 43.21875 25.484375 \nL 43.21875 27.484375 \nz\nM 52.203125 31.203125 \nL 52.203125 0 \nL 43.21875 0 \nL 43.21875 8.296875 \nQ 40.140625 3.328125 35.546875 0.953125 \nQ 30.953125 -1.421875 24.3125 -1.421875 \nQ 15.921875 -1.421875 10.953125 3.296875 \nQ 6 8.015625 6 15.921875 \nQ 6 25.140625 12.171875 29.828125 \nQ 18.359375 34.515625 30.609375 34.515625 \nL 43.21875 34.515625 \nL 43.21875 35.40625 \nQ 43.21875 41.609375 39.140625 45 \nQ 35.0625 48.390625 27.6875 48.390625 \nQ 23 48.390625 18.546875 47.265625 \nQ 14.109375 46.140625 10.015625 43.890625 \nL 10.015625 52.203125 \nQ 14.9375 54.109375 19.578125 55.046875 \nQ 24.21875 56 28.609375 56 \nQ 40.484375 56 46.34375 49.84375 \nQ 52.203125 43.703125 52.203125 31.203125 \nz\n\" id=\"DejaVuSans-97\"/>\n      <path d=\"M 30.609375 48.390625 \nQ 23.390625 48.390625 19.1875 42.75 \nQ 14.984375 37.109375 14.984375 27.296875 \nQ 14.984375 17.484375 19.15625 11.84375 \nQ 23.34375 6.203125 30.609375 6.203125 \nQ 37.796875 6.203125 41.984375 11.859375 \nQ 46.1875 17.53125 46.1875 27.296875 \nQ 46.1875 37.015625 41.984375 42.703125 \nQ 37.796875 48.390625 30.609375 48.390625 \nz\nM 30.609375 56 \nQ 42.328125 56 49.015625 48.375 \nQ 55.71875 40.765625 55.71875 27.296875 \nQ 55.71875 13.875 49.015625 6.21875 \nQ 42.328125 -1.421875 30.609375 -1.421875 \nQ 18.84375 -1.421875 12.171875 6.21875 \nQ 5.515625 13.875 5.515625 27.296875 \nQ 5.515625 40.765625 12.171875 48.375 \nQ 18.84375 56 30.609375 56 \nz\n\" id=\"DejaVuSans-111\"/>\n      <path d=\"M 54.890625 33.015625 \nL 54.890625 0 \nL 45.90625 0 \nL 45.90625 32.71875 \nQ 45.90625 40.484375 42.875 44.328125 \nQ 39.84375 48.1875 33.796875 48.1875 \nQ 26.515625 48.1875 22.3125 43.546875 \nQ 18.109375 38.921875 18.109375 30.90625 \nL 18.109375 0 \nL 9.078125 0 \nL 9.078125 54.6875 \nL 18.109375 54.6875 \nL 18.109375 46.1875 \nQ 21.34375 51.125 25.703125 53.5625 \nQ 30.078125 56 35.796875 56 \nQ 45.21875 56 50.046875 50.171875 \nQ 54.890625 44.34375 54.890625 33.015625 \nz\n\" id=\"DejaVuSans-110\"/>\n      <path d=\"M 44.28125 53.078125 \nL 44.28125 44.578125 \nQ 40.484375 46.53125 36.375 47.5 \nQ 32.28125 48.484375 27.875 48.484375 \nQ 21.1875 48.484375 17.84375 46.4375 \nQ 14.5 44.390625 14.5 40.28125 \nQ 14.5 37.15625 16.890625 35.375 \nQ 19.28125 33.59375 26.515625 31.984375 \nL 29.59375 31.296875 \nQ 39.15625 29.25 43.1875 25.515625 \nQ 47.21875 21.78125 47.21875 15.09375 \nQ 47.21875 7.46875 41.1875 3.015625 \nQ 35.15625 -1.421875 24.609375 -1.421875 \nQ 20.21875 -1.421875 15.453125 -0.5625 \nQ 10.6875 0.296875 5.421875 2 \nL 5.421875 11.28125 \nQ 10.40625 8.6875 15.234375 7.390625 \nQ 20.0625 6.109375 24.8125 6.109375 \nQ 31.15625 6.109375 34.5625 8.28125 \nQ 37.984375 10.453125 37.984375 14.40625 \nQ 37.984375 18.0625 35.515625 20.015625 \nQ 33.0625 21.96875 24.703125 23.78125 \nL 21.578125 24.515625 \nQ 13.234375 26.265625 9.515625 29.90625 \nQ 5.8125 33.546875 5.8125 39.890625 \nQ 5.8125 47.609375 11.28125 51.796875 \nQ 16.75 56 26.8125 56 \nQ 31.78125 56 36.171875 55.265625 \nQ 40.578125 54.546875 44.28125 53.078125 \nz\n\" id=\"DejaVuSans-115\"/>\n      <path id=\"DejaVuSans-32\"/>\n      <path d=\"M 31 75.875 \nQ 24.46875 64.65625 21.28125 53.65625 \nQ 18.109375 42.671875 18.109375 31.390625 \nQ 18.109375 20.125 21.3125 9.0625 \nQ 24.515625 -2 31 -13.1875 \nL 23.1875 -13.1875 \nQ 15.875 -1.703125 12.234375 9.375 \nQ 8.59375 20.453125 8.59375 31.390625 \nQ 8.59375 42.28125 12.203125 53.3125 \nQ 15.828125 64.359375 23.1875 75.875 \nz\n\" id=\"DejaVuSans-40\"/>\n      <path d=\"M 54.890625 33.015625 \nL 54.890625 0 \nL 45.90625 0 \nL 45.90625 32.71875 \nQ 45.90625 40.484375 42.875 44.328125 \nQ 39.84375 48.1875 33.796875 48.1875 \nQ 26.515625 48.1875 22.3125 43.546875 \nQ 18.109375 38.921875 18.109375 30.90625 \nL 18.109375 0 \nL 9.078125 0 \nL 9.078125 75.984375 \nL 18.109375 75.984375 \nL 18.109375 46.1875 \nQ 21.34375 51.125 25.703125 53.5625 \nQ 30.078125 56 35.796875 56 \nQ 45.21875 56 50.046875 50.171875 \nQ 54.890625 44.34375 54.890625 33.015625 \nz\n\" id=\"DejaVuSans-104\"/>\n      <path d=\"M 8.5 21.578125 \nL 8.5 54.6875 \nL 17.484375 54.6875 \nL 17.484375 21.921875 \nQ 17.484375 14.15625 20.5 10.265625 \nQ 23.53125 6.390625 29.59375 6.390625 \nQ 36.859375 6.390625 41.078125 11.03125 \nQ 45.3125 15.671875 45.3125 23.6875 \nL 45.3125 54.6875 \nL 54.296875 54.6875 \nL 54.296875 0 \nL 45.3125 0 \nL 45.3125 8.40625 \nQ 42.046875 3.421875 37.71875 1 \nQ 33.40625 -1.421875 27.6875 -1.421875 \nQ 18.265625 -1.421875 13.375 4.4375 \nQ 8.5 10.296875 8.5 21.578125 \nz\nM 31.109375 56 \nz\n\" id=\"DejaVuSans-117\"/>\n      <path d=\"M 45.40625 46.390625 \nL 45.40625 75.984375 \nL 54.390625 75.984375 \nL 54.390625 0 \nL 45.40625 0 \nL 45.40625 8.203125 \nQ 42.578125 3.328125 38.25 0.953125 \nQ 33.9375 -1.421875 27.875 -1.421875 \nQ 17.96875 -1.421875 11.734375 6.484375 \nQ 5.515625 14.40625 5.515625 27.296875 \nQ 5.515625 40.1875 11.734375 48.09375 \nQ 17.96875 56 27.875 56 \nQ 33.9375 56 38.25 53.625 \nQ 42.578125 51.265625 45.40625 46.390625 \nz\nM 14.796875 27.296875 \nQ 14.796875 17.390625 18.875 11.75 \nQ 22.953125 6.109375 30.078125 6.109375 \nQ 37.203125 6.109375 41.296875 11.75 \nQ 45.40625 17.390625 45.40625 27.296875 \nQ 45.40625 37.203125 41.296875 42.84375 \nQ 37.203125 48.484375 30.078125 48.484375 \nQ 22.953125 48.484375 18.875 42.84375 \nQ 14.796875 37.203125 14.796875 27.296875 \nz\n\" id=\"DejaVuSans-100\"/>\n      <path d=\"M 8.015625 75.875 \nL 15.828125 75.875 \nQ 23.140625 64.359375 26.78125 53.3125 \nQ 30.421875 42.28125 30.421875 31.390625 \nQ 30.421875 20.453125 26.78125 9.375 \nQ 23.140625 -1.703125 15.828125 -13.1875 \nL 8.015625 -13.1875 \nQ 14.5 -2 17.703125 9.0625 \nQ 20.90625 20.125 20.90625 31.390625 \nQ 20.90625 42.671875 17.703125 53.65625 \nQ 14.5 64.65625 8.015625 75.875 \nz\n\" id=\"DejaVuSans-41\"/>\n     </defs>\n     <g transform=\"translate(158.373437 252.916562)scale(0.1 -0.1)\">\n      <use xlink:href=\"#DejaVuSans-105\"/>\n      <use x=\"27.783203\" xlink:href=\"#DejaVuSans-116\"/>\n      <use x=\"66.992188\" xlink:href=\"#DejaVuSans-101\"/>\n      <use x=\"128.515625\" xlink:href=\"#DejaVuSans-114\"/>\n      <use x=\"169.628906\" xlink:href=\"#DejaVuSans-97\"/>\n      <use x=\"230.908203\" xlink:href=\"#DejaVuSans-116\"/>\n      <use x=\"270.117188\" xlink:href=\"#DejaVuSans-105\"/>\n      <use x=\"297.900391\" xlink:href=\"#DejaVuSans-111\"/>\n      <use x=\"359.082031\" xlink:href=\"#DejaVuSans-110\"/>\n      <use x=\"422.460938\" xlink:href=\"#DejaVuSans-115\"/>\n      <use x=\"474.560547\" xlink:href=\"#DejaVuSans-32\"/>\n      <use x=\"506.347656\" xlink:href=\"#DejaVuSans-40\"/>\n      <use x=\"545.361328\" xlink:href=\"#DejaVuSans-104\"/>\n      <use x=\"608.740234\" xlink:href=\"#DejaVuSans-117\"/>\n      <use x=\"672.119141\" xlink:href=\"#DejaVuSans-110\"/>\n      <use x=\"735.498047\" xlink:href=\"#DejaVuSans-100\"/>\n      <use x=\"798.974609\" xlink:href=\"#DejaVuSans-114\"/>\n      <use x=\"840.056641\" xlink:href=\"#DejaVuSans-101\"/>\n      <use x=\"901.580078\" xlink:href=\"#DejaVuSans-100\"/>\n      <use x=\"965.056641\" xlink:href=\"#DejaVuSans-115\"/>\n      <use x=\"1017.15625\" xlink:href=\"#DejaVuSans-41\"/>\n     </g>\n    </g>\n   </g>\n   <g id=\"matplotlib.axis_2\">\n    <g id=\"ytick_1\">\n     <g id=\"line2d_9\">\n      <defs>\n       <path d=\"M 0 0 \nL -3.5 0 \n\" id=\"m575cd803e7\" style=\"stroke:#000000;stroke-width:0.8;\"/>\n      </defs>\n      <g>\n       <use style=\"stroke:#000000;stroke-width:0.8;\" x=\"43.78125\" xlink:href=\"#m575cd803e7\" y=\"212.607331\"/>\n      </g>\n     </g>\n     <g id=\"text_10\">\n      <!-- 0.1 -->\n      <defs>\n       <path d=\"M 10.6875 12.40625 \nL 21 12.40625 \nL 21 0 \nL 10.6875 0 \nz\n\" id=\"DejaVuSans-46\"/>\n      </defs>\n      <g transform=\"translate(20.878125 216.40655)scale(0.1 -0.1)\">\n       <use xlink:href=\"#DejaVuSans-48\"/>\n       <use x=\"63.623047\" xlink:href=\"#DejaVuSans-46\"/>\n       <use x=\"95.410156\" xlink:href=\"#DejaVuSans-49\"/>\n      </g>\n     </g>\n    </g>\n    <g id=\"ytick_2\">\n     <g id=\"line2d_10\">\n      <g>\n       <use style=\"stroke:#000000;stroke-width:0.8;\" x=\"43.78125\" xlink:href=\"#m575cd803e7\" y=\"185.598344\"/>\n      </g>\n     </g>\n     <g id=\"text_11\">\n      <!-- 0.2 -->\n      <g transform=\"translate(20.878125 189.397563)scale(0.1 -0.1)\">\n       <use xlink:href=\"#DejaVuSans-48\"/>\n       <use x=\"63.623047\" xlink:href=\"#DejaVuSans-46\"/>\n       <use x=\"95.410156\" xlink:href=\"#DejaVuSans-50\"/>\n      </g>\n     </g>\n    </g>\n    <g id=\"ytick_3\">\n     <g id=\"line2d_11\">\n      <g>\n       <use style=\"stroke:#000000;stroke-width:0.8;\" x=\"43.78125\" xlink:href=\"#m575cd803e7\" y=\"158.589357\"/>\n      </g>\n     </g>\n     <g id=\"text_12\">\n      <!-- 0.3 -->\n      <defs>\n       <path d=\"M 40.578125 39.3125 \nQ 47.65625 37.796875 51.625 33 \nQ 55.609375 28.21875 55.609375 21.1875 \nQ 55.609375 10.40625 48.1875 4.484375 \nQ 40.765625 -1.421875 27.09375 -1.421875 \nQ 22.515625 -1.421875 17.65625 -0.515625 \nQ 12.796875 0.390625 7.625 2.203125 \nL 7.625 11.71875 \nQ 11.71875 9.328125 16.59375 8.109375 \nQ 21.484375 6.890625 26.8125 6.890625 \nQ 36.078125 6.890625 40.9375 10.546875 \nQ 45.796875 14.203125 45.796875 21.1875 \nQ 45.796875 27.640625 41.28125 31.265625 \nQ 36.765625 34.90625 28.71875 34.90625 \nL 20.21875 34.90625 \nL 20.21875 43.015625 \nL 29.109375 43.015625 \nQ 36.375 43.015625 40.234375 45.921875 \nQ 44.09375 48.828125 44.09375 54.296875 \nQ 44.09375 59.90625 40.109375 62.90625 \nQ 36.140625 65.921875 28.71875 65.921875 \nQ 24.65625 65.921875 20.015625 65.03125 \nQ 15.375 64.15625 9.8125 62.3125 \nL 9.8125 71.09375 \nQ 15.4375 72.65625 20.34375 73.4375 \nQ 25.25 74.21875 29.59375 74.21875 \nQ 40.828125 74.21875 47.359375 69.109375 \nQ 53.90625 64.015625 53.90625 55.328125 \nQ 53.90625 49.265625 50.4375 45.09375 \nQ 46.96875 40.921875 40.578125 39.3125 \nz\n\" id=\"DejaVuSans-51\"/>\n      </defs>\n      <g transform=\"translate(20.878125 162.388576)scale(0.1 -0.1)\">\n       <use xlink:href=\"#DejaVuSans-48\"/>\n       <use x=\"63.623047\" xlink:href=\"#DejaVuSans-46\"/>\n       <use x=\"95.410156\" xlink:href=\"#DejaVuSans-51\"/>\n      </g>\n     </g>\n    </g>\n    <g id=\"ytick_4\">\n     <g id=\"line2d_12\">\n      <g>\n       <use style=\"stroke:#000000;stroke-width:0.8;\" x=\"43.78125\" xlink:href=\"#m575cd803e7\" y=\"131.58037\"/>\n      </g>\n     </g>\n     <g id=\"text_13\">\n      <!-- 0.4 -->\n      <g transform=\"translate(20.878125 135.379588)scale(0.1 -0.1)\">\n       <use xlink:href=\"#DejaVuSans-48\"/>\n       <use x=\"63.623047\" xlink:href=\"#DejaVuSans-46\"/>\n       <use x=\"95.410156\" xlink:href=\"#DejaVuSans-52\"/>\n      </g>\n     </g>\n    </g>\n    <g id=\"ytick_5\">\n     <g id=\"line2d_13\">\n      <g>\n       <use style=\"stroke:#000000;stroke-width:0.8;\" x=\"43.78125\" xlink:href=\"#m575cd803e7\" y=\"104.571382\"/>\n      </g>\n     </g>\n     <g id=\"text_14\">\n      <!-- 0.5 -->\n      <defs>\n       <path d=\"M 10.796875 72.90625 \nL 49.515625 72.90625 \nL 49.515625 64.59375 \nL 19.828125 64.59375 \nL 19.828125 46.734375 \nQ 21.96875 47.46875 24.109375 47.828125 \nQ 26.265625 48.1875 28.421875 48.1875 \nQ 40.625 48.1875 47.75 41.5 \nQ 54.890625 34.8125 54.890625 23.390625 \nQ 54.890625 11.625 47.5625 5.09375 \nQ 40.234375 -1.421875 26.90625 -1.421875 \nQ 22.3125 -1.421875 17.546875 -0.640625 \nQ 12.796875 0.140625 7.71875 1.703125 \nL 7.71875 11.625 \nQ 12.109375 9.234375 16.796875 8.0625 \nQ 21.484375 6.890625 26.703125 6.890625 \nQ 35.15625 6.890625 40.078125 11.328125 \nQ 45.015625 15.765625 45.015625 23.390625 \nQ 45.015625 31 40.078125 35.4375 \nQ 35.15625 39.890625 26.703125 39.890625 \nQ 22.75 39.890625 18.8125 39.015625 \nQ 14.890625 38.140625 10.796875 36.28125 \nz\n\" id=\"DejaVuSans-53\"/>\n      </defs>\n      <g transform=\"translate(20.878125 108.370601)scale(0.1 -0.1)\">\n       <use xlink:href=\"#DejaVuSans-48\"/>\n       <use x=\"63.623047\" xlink:href=\"#DejaVuSans-46\"/>\n       <use x=\"95.410156\" xlink:href=\"#DejaVuSans-53\"/>\n      </g>\n     </g>\n    </g>\n    <g id=\"ytick_6\">\n     <g id=\"line2d_14\">\n      <g>\n       <use style=\"stroke:#000000;stroke-width:0.8;\" x=\"43.78125\" xlink:href=\"#m575cd803e7\" y=\"77.562395\"/>\n      </g>\n     </g>\n     <g id=\"text_15\">\n      <!-- 0.6 -->\n      <g transform=\"translate(20.878125 81.361614)scale(0.1 -0.1)\">\n       <use xlink:href=\"#DejaVuSans-48\"/>\n       <use x=\"63.623047\" xlink:href=\"#DejaVuSans-46\"/>\n       <use x=\"95.410156\" xlink:href=\"#DejaVuSans-54\"/>\n      </g>\n     </g>\n    </g>\n    <g id=\"ytick_7\">\n     <g id=\"line2d_15\">\n      <g>\n       <use style=\"stroke:#000000;stroke-width:0.8;\" x=\"43.78125\" xlink:href=\"#m575cd803e7\" y=\"50.553408\"/>\n      </g>\n     </g>\n     <g id=\"text_16\">\n      <!-- 0.7 -->\n      <defs>\n       <path d=\"M 8.203125 72.90625 \nL 55.078125 72.90625 \nL 55.078125 68.703125 \nL 28.609375 0 \nL 18.3125 0 \nL 43.21875 64.59375 \nL 8.203125 64.59375 \nz\n\" id=\"DejaVuSans-55\"/>\n      </defs>\n      <g transform=\"translate(20.878125 54.352627)scale(0.1 -0.1)\">\n       <use xlink:href=\"#DejaVuSans-48\"/>\n       <use x=\"63.623047\" xlink:href=\"#DejaVuSans-46\"/>\n       <use x=\"95.410156\" xlink:href=\"#DejaVuSans-55\"/>\n      </g>\n     </g>\n    </g>\n    <g id=\"ytick_8\">\n     <g id=\"line2d_16\">\n      <g>\n       <use style=\"stroke:#000000;stroke-width:0.8;\" x=\"43.78125\" xlink:href=\"#m575cd803e7\" y=\"23.544421\"/>\n      </g>\n     </g>\n     <g id=\"text_17\">\n      <!-- 0.8 -->\n      <g transform=\"translate(20.878125 27.343639)scale(0.1 -0.1)\">\n       <use xlink:href=\"#DejaVuSans-48\"/>\n       <use x=\"63.623047\" xlink:href=\"#DejaVuSans-46\"/>\n       <use x=\"95.410156\" xlink:href=\"#DejaVuSans-56\"/>\n      </g>\n     </g>\n    </g>\n    <g id=\"text_18\">\n     <!-- cost -->\n     <defs>\n      <path d=\"M 48.78125 52.59375 \nL 48.78125 44.1875 \nQ 44.96875 46.296875 41.140625 47.34375 \nQ 37.3125 48.390625 33.40625 48.390625 \nQ 24.65625 48.390625 19.8125 42.84375 \nQ 14.984375 37.3125 14.984375 27.296875 \nQ 14.984375 17.28125 19.8125 11.734375 \nQ 24.65625 6.203125 33.40625 6.203125 \nQ 37.3125 6.203125 41.140625 7.25 \nQ 44.96875 8.296875 48.78125 10.40625 \nL 48.78125 2.09375 \nQ 45.015625 0.34375 40.984375 -0.53125 \nQ 36.96875 -1.421875 32.421875 -1.421875 \nQ 20.0625 -1.421875 12.78125 6.34375 \nQ 5.515625 14.109375 5.515625 27.296875 \nQ 5.515625 40.671875 12.859375 48.328125 \nQ 20.21875 56 33.015625 56 \nQ 37.15625 56 41.109375 55.140625 \nQ 45.0625 54.296875 48.78125 52.59375 \nz\n\" id=\"DejaVuSans-99\"/>\n     </defs>\n     <g transform=\"translate(14.798438 126.293437)rotate(-90)scale(0.1 -0.1)\">\n      <use xlink:href=\"#DejaVuSans-99\"/>\n      <use x=\"54.980469\" xlink:href=\"#DejaVuSans-111\"/>\n      <use x=\"116.162109\" xlink:href=\"#DejaVuSans-115\"/>\n      <use x=\"168.261719\" xlink:href=\"#DejaVuSans-116\"/>\n     </g>\n    </g>\n   </g>\n   <g id=\"line2d_17\">\n    <path clip-path=\"url(#pc837daf8d3)\" d=\"M 58.999432 52.404285 \nL 80.739692 17.083636 \nL 102.479951 126.463632 \nL 124.220211 72.876416 \nL 145.960471 98.598136 \nL 167.700731 134.900112 \nL 189.44099 175.806382 \nL 211.18125 197.962482 \nL 232.92151 203.065643 \nL 254.661769 205.862787 \nL 276.402029 208.156701 \nL 298.142289 210.124527 \nL 319.882549 211.849874 \nL 341.622808 213.38254 \nL 363.363068 214.756364 \n\" style=\"fill:none;stroke:#1f77b4;stroke-linecap:square;stroke-width:1.5;\"/>\n   </g>\n   <g id=\"line2d_18\">\n    <path clip-path=\"url(#pc837daf8d3)\" d=\"M 58.999432 52.404285 \nL 80.739692 79.915033 \nL 102.479951 89.501418 \nL 124.220211 96.74512 \nL 145.960471 102.712815 \nL 167.700731 107.844908 \nL 189.44099 112.374744 \nL 211.18125 116.442964 \nL 232.92151 120.142002 \nL 254.661769 123.53663 \nL 276.402029 126.674505 \nL 298.142289 129.592035 \nL 319.882549 132.317858 \nL 341.622808 134.875032 \nL 363.363068 137.282472 \n\" style=\"fill:none;stroke:#ff7f0e;stroke-linecap:square;stroke-width:1.5;\"/>\n   </g>\n   <g id=\"line2d_19\">\n    <path clip-path=\"url(#pc837daf8d3)\" d=\"M 58.999432 52.404285 \nL 80.739692 65.765746 \nL 102.479951 67.910144 \nL 124.220211 69.845375 \nL 145.960471 71.609749 \nL 167.700731 73.233022 \nL 189.44099 74.738583 \nL 211.18125 76.144917 \nL 232.92151 77.466731 \nL 254.661769 78.715818 \nL 276.402029 79.901707 \nL 298.142289 81.032165 \nL 319.882549 82.113583 \nL 341.622808 83.151258 \nL 363.363068 84.149629 \n\" style=\"fill:none;stroke:#2ca02c;stroke-linecap:square;stroke-width:1.5;\"/>\n   </g>\n   <g id=\"patch_3\">\n    <path d=\"M 43.78125 224.64 \nL 43.78125 7.2 \n\" style=\"fill:none;stroke:#000000;stroke-linecap:square;stroke-linejoin:miter;stroke-width:0.8;\"/>\n   </g>\n   <g id=\"patch_4\">\n    <path d=\"M 378.58125 224.64 \nL 378.58125 7.2 \n\" style=\"fill:none;stroke:#000000;stroke-linecap:square;stroke-linejoin:miter;stroke-width:0.8;\"/>\n   </g>\n   <g id=\"patch_5\">\n    <path d=\"M 43.78125 224.64 \nL 378.58125 224.64 \n\" style=\"fill:none;stroke:#000000;stroke-linecap:square;stroke-linejoin:miter;stroke-width:0.8;\"/>\n   </g>\n   <g id=\"patch_6\">\n    <path d=\"M 43.78125 7.2 \nL 378.58125 7.2 \n\" style=\"fill:none;stroke:#000000;stroke-linecap:square;stroke-linejoin:miter;stroke-width:0.8;\"/>\n   </g>\n   <g id=\"legend_1\">\n    <g id=\"patch_7\">\n     <path d=\"M 179.685938 61.234375 \nL 246.676563 61.234375 \nQ 248.676563 61.234375 248.676563 59.234375 \nL 248.676563 16.2 \nQ 248.676563 14.2 246.676563 14.2 \nL 179.685938 14.2 \nQ 177.685938 14.2 177.685938 16.2 \nL 177.685938 59.234375 \nQ 177.685938 61.234375 179.685938 61.234375 \nz\n\" style=\"fill:#454545;opacity:0.5;stroke:#454545;stroke-linejoin:miter;\"/>\n    </g>\n    <g id=\"patch_8\">\n     <path d=\"M 177.685938 59.234375 \nL 244.676563 59.234375 \nQ 246.676563 59.234375 246.676563 57.234375 \nL 246.676563 14.2 \nQ 246.676563 12.2 244.676563 12.2 \nL 177.685938 12.2 \nQ 175.685938 12.2 175.685938 14.2 \nL 175.685938 57.234375 \nQ 175.685938 59.234375 177.685938 59.234375 \nz\n\" style=\"fill:#e6e6e6;stroke:#cccccc;stroke-linejoin:miter;\"/>\n    </g>\n    <g id=\"line2d_20\">\n     <path d=\"M 179.685938 20.298437 \nL 199.685938 20.298437 \n\" style=\"fill:none;stroke:#1f77b4;stroke-linecap:square;stroke-width:1.5;\"/>\n    </g>\n    <g id=\"line2d_21\"/>\n    <g id=\"text_19\">\n     <!-- 0.01 -->\n     <g transform=\"translate(207.685938 23.798437)scale(0.1 -0.1)\">\n      <use xlink:href=\"#DejaVuSans-48\"/>\n      <use x=\"63.623047\" xlink:href=\"#DejaVuSans-46\"/>\n      <use x=\"95.410156\" xlink:href=\"#DejaVuSans-48\"/>\n      <use x=\"159.033203\" xlink:href=\"#DejaVuSans-49\"/>\n     </g>\n    </g>\n    <g id=\"line2d_22\">\n     <path d=\"M 179.685938 34.976562 \nL 199.685938 34.976562 \n\" style=\"fill:none;stroke:#ff7f0e;stroke-linecap:square;stroke-width:1.5;\"/>\n    </g>\n    <g id=\"line2d_23\"/>\n    <g id=\"text_20\">\n     <!-- 0.001 -->\n     <g transform=\"translate(207.685938 38.476562)scale(0.1 -0.1)\">\n      <use xlink:href=\"#DejaVuSans-48\"/>\n      <use x=\"63.623047\" xlink:href=\"#DejaVuSans-46\"/>\n      <use x=\"95.410156\" xlink:href=\"#DejaVuSans-48\"/>\n      <use x=\"159.033203\" xlink:href=\"#DejaVuSans-48\"/>\n      <use x=\"222.65625\" xlink:href=\"#DejaVuSans-49\"/>\n     </g>\n    </g>\n    <g id=\"line2d_24\">\n     <path d=\"M 179.685938 49.654687 \nL 199.685938 49.654687 \n\" style=\"fill:none;stroke:#2ca02c;stroke-linecap:square;stroke-width:1.5;\"/>\n    </g>\n    <g id=\"line2d_25\"/>\n    <g id=\"text_21\">\n     <!-- 0.0001 -->\n     <g transform=\"translate(207.685938 53.154687)scale(0.1 -0.1)\">\n      <use xlink:href=\"#DejaVuSans-48\"/>\n      <use x=\"63.623047\" xlink:href=\"#DejaVuSans-46\"/>\n      <use x=\"95.410156\" xlink:href=\"#DejaVuSans-48\"/>\n      <use x=\"159.033203\" xlink:href=\"#DejaVuSans-48\"/>\n      <use x=\"222.65625\" xlink:href=\"#DejaVuSans-48\"/>\n      <use x=\"286.279297\" xlink:href=\"#DejaVuSans-49\"/>\n     </g>\n    </g>\n   </g>\n  </g>\n </g>\n <defs>\n  <clipPath id=\"pc837daf8d3\">\n   <rect height=\"217.44\" width=\"334.8\" x=\"43.78125\" y=\"7.2\"/>\n  </clipPath>\n </defs>\n</svg>\n",
      "image/png": "[encoded data removed]"
     },
     "metadata": {
      "needs_background": "light"
     }
    }
   ],
   "source": [
    "learning_rates = [0.01, 0.001, 0.0001]\n",
    "models = {}\n",
    "for i in learning_rates:\n",
    "    print (\"learning rate is: \" + str(i))\n",
    "    models[str(i)] = model(train_set_x, train_set_y, test_set_x, test_set_y, num_iterations = 1500, learning_rate = i, print_cost = False)\n",
    "    print ('\\n' + \"-------------------------------------------------------\" + '\\n')\n",
    "\n",
    "for i in learning_rates:\n",
    "    plt.plot(np.squeeze(models[str(i)][\"costs\"]), label= str(models[str(i)][\"learning_rate\"]))\n",
    "\n",
    "plt.ylabel('cost')\n",
    "plt.xlabel('iterations (hundreds)')\n",
    "\n",
    "legend = plt.legend(loc='upper center', shadow=True)\n",
    "frame = legend.get_frame()\n",
    "frame.set_facecolor('0.90')\n",
    "plt.show()"
   ]
  },
  {
   "cell_type": "markdown",
   "metadata": {},
   "source": [
    "**Interpretation**: \n",
    "- Different learning rates give different costs and thus different predictions results.\n",
    "- If the learning rate is too large (0.01), the cost may oscillate up and down. It may even diverge (though in this example, using 0.01 still eventually ends up at a good value for the cost). \n",
    "- A lower cost doesn't mean a better model. You have to check if there is possibly overfitting. It happens when the training accuracy is a lot higher than the test accuracy.\n",
    "- In deep learning, we usually recommend that you: \n",
    "    - Choose the learning rate that better minimizes the cost function.\n",
    "    - If your model overfits, use other techniques to reduce overfitting. (We'll talk about this in later videos.) \n"
   ]
  },
  {
   "cell_type": "markdown",
   "metadata": {},
   "source": [
    "## 7 - Test with your own image (optional/ungraded exercise) ##\n",
    "\n",
    "Congratulations on finishing this assignment. You can use your own image and see the output of your model. To do that:\n",
    "    1. Click on \"File\" in the upper bar of this notebook, then click \"Open\" to go on your Coursera Hub.\n",
    "    2. Add your image to this Jupyter Notebook's directory, in the \"images\" folder\n",
    "    3. Change your image's name in the following code\n",
    "    4. Run the code and check if the algorithm is right (1 = cat, 0 = non-cat)!"
   ]
  },
  {
   "cell_type": "code",
   "execution_count": null,
   "metadata": {
    "collapsed": true,
    "scrolled": false
   },
   "outputs": [],
   "source": [
    "## START CODE HERE ## (PUT YOUR IMAGE NAME) \n",
    "my_image = \"my_image.jpg\"   # change this to the name of your image file \n",
    "## END CODE HERE ##\n",
    "\n",
    "# We preprocess the image to fit your algorithm.\n",
    "fname = \"images/\" + my_image\n",
    "image = np.array(ndimage.imread(fname, flatten=False))\n",
    "image = image/255.\n",
    "my_image = scipy.misc.imresize(image, size=(num_px,num_px)).reshape((1, num_px*num_px*3)).T\n",
    "my_predicted_image = predict(d[\"w\"], d[\"b\"], my_image)\n",
    "\n",
    "plt.imshow(image)\n",
    "print(\"y = \" + str(np.squeeze(my_predicted_image)) + \", your algorithm predicts a \\\"\" + classes[int(np.squeeze(my_predicted_image)),].decode(\"utf-8\") +  \"\\\" picture.\")"
   ]
  },
  {
   "cell_type": "markdown",
   "metadata": {},
   "source": [
    "<font color='blue'>\n",
    "**What to remember from this assignment:**\n",
    "1. Preprocessing the dataset is important.\n",
    "2. You implemented each function separately: initialize(), propagate(), optimize(). Then you built a model().\n",
    "3. Tuning the learning rate (which is an example of a \"hyperparameter\") can make a big difference to the algorithm. You will see more examples of this later in this course!"
   ]
  },
  {
   "cell_type": "markdown",
   "metadata": {},
   "source": [
    "Finally, if you'd like, we invite you to try different things on this Notebook. Make sure you submit before trying anything. Once you submit, things you can play with include:\n",
    "    - Play with the learning rate and the number of iterations\n",
    "    - Try different initialization methods and compare the results\n",
    "    - Test other preprocessings (center the data, or divide each row by its standard deviation)"
   ]
  },
  {
   "cell_type": "markdown",
   "metadata": {},
   "source": [
    "Bibliography:\n",
    "- http://www.wildml.com/2015/09/implementing-a-neural-network-from-scratch/\n",
    "- https://stats.stackexchange.com/questions/211436/why-do-we-normalize-images-by-subtracting-the-datasets-image-mean-and-not-the-c"
   ]
  }
 ],
 "metadata": {
  "coursera": {
   "course_slug": "neural-networks-deep-learning",
   "graded_item_id": "XaIWT",
   "launcher_item_id": "zAgPl"
  },
  "kernelspec": {
   "display_name": "Python 3",
   "language": "python",
   "name": "python3"
  },
  "language_info": {
   "codemirror_mode": {
    "name": "ipython",
    "version": 3
   },
   "file_extension": ".py",
   "mimetype": "text/x-python",
   "name": "python",
   "nbconvert_exporter": "python",
   "pygments_lexer": "ipython3",
   "version": "3.7.4-final"
  }
 },
 "nbformat": 4,
 "nbformat_minor": 2
}